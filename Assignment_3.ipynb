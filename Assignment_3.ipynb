{
  "cells": [
    {
      "cell_type": "markdown",
      "metadata": {
        "id": "Tajfsk_7JY3E"
      },
      "source": [
        "**Note to grader:** Each question consists of parts, e.g. Q1(i), Q1(ii), etc. Each part must be graded  on a 0-4 scale, following the standard NJIT convention (A:4, B+: 3.5, B:3, C+: 2.5, C: 2, D:1, F:0). \n",
        "The total score must be re-scaled to 100 &mdash; that should apply to all future assignments so that Canvas assigns the same weight on all assignments. \n",
        "\n"
      ]
    },
    {
      "cell_type": "code",
      "execution_count": null,
      "metadata": {
        "id": "zPnHTf9MfT5X"
      },
      "outputs": [],
      "source": [
        "# Grader's area\n",
        "\n",
        "import numpy as np\n",
        "M = np.zeros([10,10])\n",
        "maxScore = 0"
      ]
    },
    {
      "cell_type": "markdown",
      "metadata": {
        "id": "SArgW_Vq-uTh"
      },
      "source": [
        "# **Assignment 3**\n",
        "\n",
        "The goal in this assignment to work a little more with Python, do some practice with logistic regression, and reflect on how it can fail to work on linearly separable data. You will also work with a support vector classifier. All that, still on \"toy\" data sets. \n",
        "\n",
        "We will work with the first 'real' data sets in the next assignment. "
      ]
    },
    {
      "cell_type": "markdown",
      "metadata": {
        "id": "IlFM4hig-uTj"
      },
      "source": [
        "## **Preparation Steps**"
      ]
    },
    {
      "cell_type": "code",
      "execution_count": null,
      "metadata": {
        "id": "E3alYkjM-uTk"
      },
      "outputs": [],
      "source": [
        "# Import all necessary python packages\n",
        "\n",
        "import numpy as np\n",
        "import os\n",
        "import pandas as pd\n",
        "import matplotlib.pyplot as plt\n",
        "from matplotlib.colors import ListedColormap\n",
        "from sklearn.linear_model import LogisticRegression\n",
        "from sklearn.preprocessing import PolynomialFeatures\n",
        "from numpy import array  \n",
        "from numpy.linalg import norm\n",
        "import math"
      ]
    },
    {
      "cell_type": "code",
      "execution_count": null,
      "metadata": {
        "colab": {
          "base_uri": "https://localhost:8080/"
        },
        "id": "eTVa-fum-uTt",
        "outputId": "869b6066-05c0-40e2-8d6c-e464ededc0f0"
      },
      "outputs": [
        {
          "output_type": "stream",
          "name": "stdout",
          "text": [
            "URL: https://archive.ics.uci.edu/ml/machine-learning-databases/iris/iris.data\n"
          ]
        }
      ],
      "source": [
        "# Reading-in the Iris data\n",
        "\n",
        "s = os.path.join('https://archive.ics.uci.edu', 'ml',\n",
        "                 'machine-learning-databases', 'iris','iris.data')\n",
        "s = s.replace(\"\\\\\",\"/\");\n",
        "print('URL:', s)\n",
        "df = pd.read_csv(s,header=None,encoding='utf-8')"
      ]
    },
    {
      "cell_type": "code",
      "execution_count": null,
      "metadata": {
        "colab": {
          "base_uri": "https://localhost:8080/",
          "height": 279
        },
        "id": "cqzyfFCC-uTz",
        "outputId": "cc990d31-dd12-4447-f02e-0d05fab223ee"
      },
      "outputs": [
        {
          "output_type": "display_data",
          "data": {
            "text/plain": [
              "<Figure size 432x288 with 1 Axes>"
            ],
            "image/png": "[encoded data removed]"
          },
          "metadata": {
            "needs_background": "light"
          }
        }
      ],
      "source": [
        "# Select setosa and versicolor for binary classification\n",
        "y = df.iloc[0:100, 4].values\n",
        "y = np.where(y == 'Iris-setosa', -1, 1)\n",
        "\n",
        "# Extract sepal length and petal length\n",
        "X = df.iloc[:100, [0, 2]].values\n",
        "\n",
        "# Plot data\n",
        "plt.scatter(X[:50, 0], X[:50, 1],\n",
        "            color='red', marker='o', label='setosa')\n",
        "plt.scatter(X[50:100, 0], X[50:100, 1],\n",
        "            color='blue', marker='x', label='versicolor')\n",
        "\n",
        "plt.xlabel('sepal length [cm]')\n",
        "plt.ylabel('petal length [cm]')\n",
        "plt.legend(loc='upper left')\n",
        "\n",
        "\n",
        "# plt.savefig('images/02_06.png', dpi=300)\n",
        "plt.show()"
      ]
    },
    {
      "cell_type": "code",
      "execution_count": null,
      "metadata": {
        "id": "xYEgTzp0s5BN"
      },
      "outputs": [],
      "source": [
        "# Function for visualizing decision regions\n",
        "\n",
        "from matplotlib.colors import ListedColormap\n",
        "\n",
        "def plot_decision_regions(X, y, classifier, resolution=0.02):\n",
        "\n",
        "    # Setup marker generator and color map\n",
        "    markers = ('s', 'x', 'o', '^', 'v')\n",
        "    colors = ('red', 'blue', 'lightgreen', 'gray', 'cyan')\n",
        "    cmap = ListedColormap(colors[:len(np.unique(y))])\n",
        "\n",
        "    # Plot the decision surface\n",
        "    x1_min, x1_max = X[:, 0].min() - 1, X[:, 0].max() + 1\n",
        "    x2_min, x2_max = X[:, 1].min() - 1, X[:, 1].max() + 1\n",
        "    xx1, xx2 = np.meshgrid(np.arange(x1_min, x1_max, resolution),\n",
        "                           np.arange(x2_min, x2_max, resolution))\n",
        "    Z = classifier.predict(np.array([xx1.ravel(), xx2.ravel()]).T)\n",
        "    Z = Z.reshape(xx1.shape)\n",
        "    plt.contourf(xx1, xx2, Z, alpha=0.3, cmap=cmap)\n",
        "    plt.xlim(xx1.min(), xx1.max())\n",
        "    plt.ylim(xx2.min(), xx2.max())\n",
        "\n",
        "    # Plot class examples\n",
        "    for idx, cl in enumerate(np.unique(y)):\n",
        "        plt.scatter(x=X[y == cl, 0], \n",
        "                    y=X[y == cl, 1],\n",
        "                    alpha=0.8, \n",
        "                    c=colors[idx],\n",
        "                    marker=markers[idx], \n",
        "                    label=cl, \n",
        "                    edgecolor='black')"
      ]
    },
    {
      "cell_type": "markdown",
      "metadata": {
        "id": "phGY3AEGn3dz"
      },
      "source": [
        "---------------------------------------------------------------\n",
        "---------------------------------------------------------------\n",
        "---------------------------------------------------------------\n"
      ]
    },
    {
      "cell_type": "markdown",
      "metadata": {
        "id": "Pe9kKR3J-uUA"
      },
      "source": [
        "## <font color = 'blue'> **Question 1. Practice with logistic regression** </font>\n",
        "\n",
        "First, let's load the textbook's implementation of logistic regression with gradient descent."
      ]
    },
    {
      "cell_type": "code",
      "execution_count": null,
      "metadata": {
        "id": "HSRTXCwz-uUA"
      },
      "outputs": [],
      "source": [
        "class LogisticRegressionGD(object):\n",
        "\n",
        "    \"\"\"Logistic Regression Classifier using gradient descent.\n",
        "\n",
        "    Parameters\n",
        "    ------------\n",
        "    eta : float\n",
        "      Learning rate (between 0.0 and 1.0)\n",
        "    n_iter : int\n",
        "      Passes over the training dataset.\n",
        "    random_state : int\n",
        "      Random number generator seed for random weight\n",
        "      initialization.\n",
        "\n",
        "\n",
        "    Attributes\n",
        "    -----------\n",
        "    w_ : 1d-array\n",
        "      Weights after fitting.\n",
        "    loss_ : list\n",
        "      Logistic loss function value in each epoch.\n",
        "\n",
        "    \"\"\"\n",
        "\n",
        "    def __init__(self, eta=0.05, n_iter=100, random_state=1):\n",
        "        self.eta = eta\n",
        "        self.n_iter = n_iter\n",
        "        self.random_state = random_state\n",
        "\n",
        "    def fit(self, X, y):\n",
        "\n",
        "        \"\"\" Fit training data.\n",
        "\n",
        "        Parameters\n",
        "        ----------\n",
        "        X : {array-like}, shape = [n_examples, n_features]\n",
        "          Training vectors, where n_examples is the number of examples and\n",
        "          n_features is the number of features.\n",
        "        y : array-like, shape = [n_examples]\n",
        "          Target values.\n",
        "\n",
        "        Returns\n",
        "        -------\n",
        "        self : object\n",
        "\n",
        "        \"\"\"\n",
        "\n",
        "        rgen = np.random.RandomState(self.random_state)\n",
        "        self.w_ = rgen.normal(loc=0.0, scale=0.01, size=1 + X.shape[1])\n",
        "        self.loss_ = []\n",
        "\n",
        "        for i in range(self.n_iter):\n",
        "            net_input = self.net_input(X)\n",
        "            output = self.activation(net_input)\n",
        "            errors = (y - output)\n",
        "            self.w_[1:] += self.eta * X.T.dot(errors)\n",
        "            self.w_[0] += self.eta * errors.sum()\n",
        "            \n",
        "            # Compute the logistic `loss` \n",
        "            loss = -y.dot(np.log(output)) - ((1 - y).dot(np.log(1 - output)))\n",
        "            self.loss_.append(loss)\n",
        "        return self\n",
        "    \n",
        "    def net_input(self, X):\n",
        "        \"\"\"Calculate net input\"\"\"\n",
        "        return np.dot(X, self.w_[1:]) + self.w_[0]\n",
        "\n",
        "    def activation(self, z):\n",
        "        \"\"\"Compute logistic sigmoid activation\"\"\"\n",
        "        return 1. / (1. + np.exp(-np.clip(z, -250, 250)))\n",
        "\n",
        "    def predict(self, X):\n",
        "        \"\"\"Return class label after unit step\"\"\"\n",
        "        return np.where(self.net_input(X) >= 0.0, 1, 0)\n",
        "        # Equivalent to:\n",
        "        # return np.where(self.activation(self.net_input(X)) >= 0.5, 1, 0)"
      ]
    },
    {
      "cell_type": "markdown",
      "metadata": {
        "id": "dMYBgs4E-uUF"
      },
      "source": [
        "Below you can see the first 3 data points of the data set, all labeled as 'setosa'. Let's set the numerical value for 'setosa' to 1. (i.e. y = 1). "
      ]
    },
    {
      "cell_type": "code",
      "execution_count": null,
      "metadata": {
        "colab": {
          "base_uri": "https://localhost:8080/"
        },
        "id": "fyoLJVet-uUG",
        "outputId": "cdcefa93-a3d5-4925-8d96-7657657e30e3"
      },
      "outputs": [
        {
          "output_type": "execute_result",
          "data": {
            "text/plain": [
              "array([[5.1, 1.4],\n",
              "       [4.9, 1.4],\n",
              "       [4.7, 1.3]])"
            ]
          },
          "metadata": {},
          "execution_count": 7
        }
      ],
      "source": [
        "X[0:3]"
      ]
    },
    {
      "cell_type": "markdown",
      "metadata": {
        "id": "sPbGfqmf-uUK"
      },
      "source": [
        "\n",
        "Suppose the initial weights of the logistic neuron are w0 = 0.1, w1 = -0.2, w2 = 0.1.\n",
        "\n",
        "<font color = 'blue'> **Q1-1**.  </font> Write the weights after processing data points 0,1,2, with learning rate $\\eta=0.1$ and show your calculations. This is similar to the previous assignment, only done now for the logistic neuron. You can also use *LogisticRegressionGD* to check your calculations. <br>\n"
      ]
    },
    {
      "cell_type": "code",
      "execution_count": null,
      "metadata": {
        "colab": {
          "base_uri": "https://localhost:8080/"
        },
        "id": "3U8_BJ0XO-Gu",
        "outputId": "bcd36373-4746-467c-cbc4-a3ee9da4c43c"
      },
      "outputs": [
        {
          "output_type": "stream",
          "name": "stdout",
          "text": [
            "0.03143198860617462 -0.5496968581085094 0.004004784048644475\n"
          ]
        }
      ],
      "source": [
        "### DATA POINT 0: (5.1, 1.4)\n",
        "import math\n",
        "\n",
        "n = 0.1\n",
        "w0 = 0.1\n",
        "w1 = -0.2\n",
        "w2 = 0.1\n",
        "\n",
        "x1 = 5.1\n",
        "x2 = 1.4\n",
        "y_ = 1\n",
        "\n",
        "### Net_input\n",
        "z = w0 + w1*x1 + w2*x2\n",
        "\n",
        "### Output\n",
        "y_hat = 1 / (1 + math.exp(-z))\n",
        "\n",
        "w0 = w0 - n*(y_ - y_hat)\n",
        "w1 = w1 - n*(y_ - y_hat)*x1\n",
        "w2 = w2 - n*(y_ - y_hat)*x2\n",
        "\n",
        "print(w0, w1, w2)"
      ]
    },
    {
      "cell_type": "code",
      "execution_count": null,
      "metadata": {
        "colab": {
          "base_uri": "https://localhost:8080/"
        },
        "id": "YlNBmLm2QsyG",
        "outputId": "04e2f8e9-9b2e-4613-f815-0eadd04ba407"
      },
      "outputs": [
        {
          "output_type": "stream",
          "name": "stdout",
          "text": [
            "-0.06200891241119834 -1.0075572730936369 -0.12681247737567763\n"
          ]
        }
      ],
      "source": [
        "### DATA POINT 1: (4.9, 1.4)\n",
        "import math\n",
        "\n",
        "n = 0.1\n",
        "w0 = 0.03143198860617462\n",
        "w1 = -0.5496968581085094\n",
        "w2 = 0.004004784048644475\n",
        "\n",
        "x1 = 4.9\n",
        "x2 = 1.4\n",
        "y_ = 1\n",
        "\n",
        "### Net_input\n",
        "z = w0 + w1*x1 + w2*x2\n",
        "\n",
        "### Output\n",
        "y_hat = 1 / (1 + math.exp(-z))\n",
        "\n",
        "w0 = w0 - n*(y_ - y_hat)\n",
        "w1 = w1 - n*(y_ - y_hat)*x1\n",
        "w2 = w2 - n*(y_ - y_hat)*x2\n",
        "\n",
        "print(w0, w1, w2)"
      ]
    },
    {
      "cell_type": "code",
      "execution_count": null,
      "metadata": {
        "colab": {
          "base_uri": "https://localhost:8080/"
        },
        "id": "2BjzODuCRDJ_",
        "outputId": "b2cfcadb-440c-4f2e-84d6-3f1257bb1c65"
      },
      "outputs": [
        {
          "output_type": "stream",
          "name": "stdout",
          "text": [
            "-0.16131415045226774 -1.474291891886663 -0.2559092868290679\n"
          ]
        }
      ],
      "source": [
        "### DATA POINT 2: (4.7, 1.3)\n",
        "import math\n",
        "\n",
        "n = 0.1\n",
        "w0 = -0.06200891241119834\n",
        "w1 = -1.0075572730936369\n",
        "w2 = -0.12681247737567763\n",
        "\n",
        "x1 = 4.7\n",
        "x2 = 1.3\n",
        "y_ = 1\n",
        "\n",
        "### Net_input\n",
        "z = w0 + w1*x1 + w2*x2\n",
        "\n",
        "### Output\n",
        "y_hat = 1 / (1 + math.exp(-z))\n",
        "\n",
        "w0 = w0 - n*(y_ - y_hat)\n",
        "w1 = w1 - n*(y_ - y_hat)*x1\n",
        "w2 = w2 - n*(y_ - y_hat)*x2\n",
        "\n",
        "print(w0, w1, w2)"
      ]
    },
    {
      "cell_type": "markdown",
      "source": [
        "After each point being updated individually, the weights are:\n",
        "\n",
        "*   $w_1 = -0.16131415045226774$\n",
        "*   $w_2 = -1.474291891886663$\n",
        "*   Intercept $b = -0.2559092868290679$"
      ],
      "metadata": {
        "id": "GYldx5L41V91"
      }
    },
    {
      "cell_type": "code",
      "source": [
        "X_Q1 = X[0:3]\n",
        "w_Q1 = np.array([0.1, -0.2, 0.1])\n",
        "\n",
        "NetInput = np.dot(X_Q1, w_Q1[1:]) + w_Q1[0]\n",
        "\n",
        "Q1_Errors = []\n",
        "for i in range(len(X_Q1)):\n",
        "    Error = -1 - (1 / (1 + math.exp(-NetInput[i])))  ## -1 or 1 ?\n",
        "    Q1_Errors.append(Error)\n",
        "w_Q1[0] = sum(Q1_Errors)*0.1 + w_Q1[0]\n",
        "Q1_Dot = np.dot(np.transpose(X_Q1), Q1_Errors)\n",
        "w_Q1[1] = Q1_Dot[0] * 0.1 + w_Q1[1]\n",
        "w_Q1[2] = Q1_Dot[1] * 0.1 + w_Q1[2]\n",
        "print(w_Q1)"
      ],
      "metadata": {
        "colab": {
          "base_uri": "https://localhost:8080/"
        },
        "id": "Pobs9-m21TmJ",
        "outputId": "c0822391-44e1-4f14-ea10-9dce0f16ee85"
      },
      "execution_count": null,
      "outputs": [
        {
          "output_type": "stream",
          "name": "stdout",
          "text": [
            "[-0.29669229 -2.14348663 -0.44207321]\n"
          ]
        }
      ]
    },
    {
      "cell_type": "markdown",
      "source": [
        "On the other hand, following the logistic regression with gradient descent code given above, the weights after evaluating all points are:\n",
        "\n",
        "*   $w_1 = -0.29669229$\n",
        "*   $w_2 = -2.14348663$\n",
        "*   Intercept $b = -0.44207321$"
      ],
      "metadata": {
        "id": "HimkjTccEWj1"
      }
    },
    {
      "cell_type": "markdown",
      "metadata": {
        "id": "0D4ujMt_JW_N"
      },
      "source": [
        "<font color = 'blue'> **Q1-2**.  </font> Given our data $X$, let $X_{d=2}$ and $X_{d=3}$ be the quadratic and cubic features. Using code for polynomial regression from the Regression Code Notebook, generate $X_{d=2}$ and $X_{d=3}$"
      ]
    },
    {
      "cell_type": "code",
      "execution_count": null,
      "metadata": {
        "id": "VJfl0keEJY5S"
      },
      "outputs": [],
      "source": [
        "from sklearn.preprocessing import PolynomialFeatures\n",
        "\n",
        "quadratic = PolynomialFeatures(degree=2)\n",
        "X_quad = quadratic.fit_transform(X)\n",
        "\n",
        "cubic = PolynomialFeatures(degree=3)\n",
        "X_cubic = cubic.fit_transform(X)\n",
        "\n",
        "print('X(Quadratic): ', X_quad)\n",
        "print('X(Cubic): ', X_cubic)"
      ]
    },
    {
      "cell_type": "markdown",
      "metadata": {
        "id": "zg1IDKfzJZpk"
      },
      "source": [
        "<font color = 'blue'> **Q1-3**.  </font> Using *LogisticRegressionGD*, fit $X$, $X_{d=2}$ and $X_{d=3}$. Here you should set $\\eta \\leq 0.0001$ and $n_{\\mathit{iter}}\\geq 10000$. For each of these three cases, report the loss function value for the model computed by *LogisticRegressionGD*. (What happens if $\\eta$ is chosen too large or too small?)\n",
        "Here, for a fixed choice of $\\eta$ and $n_{\\mathit{iter}}$, it is expected that the loss value decreases as $d$ increases. "
      ]
    },
    {
      "cell_type": "code",
      "execution_count": null,
      "metadata": {
        "id": "0wYFal09ID7Q",
        "colab": {
          "base_uri": "https://localhost:8080/"
        },
        "outputId": "c30a8f9a-351a-485b-cc2e-38a94ec39e5d"
      },
      "outputs": [
        {
          "output_type": "stream",
          "name": "stderr",
          "text": [
            "<ipython-input-6-47fe9bb3b84c>:60: RuntimeWarning: divide by zero encountered in log\n",
            "  loss = -y.dot(np.log(output)) - ((1 - y).dot(np.log(1 - output)))\n"
          ]
        },
        {
          "output_type": "stream",
          "name": "stdout",
          "text": [
            "nan\n",
            "nan\n",
            "nan\n"
          ]
        }
      ],
      "source": [
        "LGD_Q1 = LogisticRegressionGD(0.00005, 50000, random_state=5)\n",
        "\n",
        "LGD_Q1.fit(X,y)\n",
        "print(LGD_Q1.loss_[-1])\n",
        "LGD_Q1.fit(X_quad,y)\n",
        "print(LGD_Q1.loss_[-1])\n",
        "LGD_Q1.fit(X_cubic,y)\n",
        "print(LGD_Q1.loss_[-1])"
      ]
    },
    {
      "cell_type": "code",
      "execution_count": null,
      "metadata": {
        "colab": {
          "base_uri": "https://localhost:8080/"
        },
        "id": "2gvcYDePeakx",
        "outputId": "0dd26206-5e13-4e9f-a5a3-6b09920f5b78"
      },
      "outputs": [
        {
          "output_type": "stream",
          "name": "stdout",
          "text": [
            "68.77253693123217\n",
            "74.68498394530913\n",
            "31.20879586203386\n"
          ]
        }
      ],
      "source": [
        "LGD_Q1 = LogisticRegressionGD(0.00000000005, 50000, random_state=5)\n",
        "\n",
        "LGD_Q1.fit(X,y)\n",
        "print(LGD_Q1.loss_[-1])\n",
        "LGD_Q1.fit(X_quad,y)\n",
        "print(LGD_Q1.loss_[-1])\n",
        "LGD_Q1.fit(X_cubic,y)\n",
        "print(LGD_Q1.loss_[-1])"
      ]
    },
    {
      "cell_type": "code",
      "execution_count": null,
      "metadata": {
        "colab": {
          "base_uri": "https://localhost:8080/"
        },
        "id": "KNTnSfJnfAgw",
        "outputId": "88a134c2-c034-400c-946e-cac66d3d36da"
      },
      "outputs": [
        {
          "output_type": "stream",
          "name": "stdout",
          "text": [
            "68.91721584792816\n",
            "78.74672097222255\n",
            "99.98145355798307\n"
          ]
        }
      ],
      "source": [
        "LGD_Q1 = LogisticRegressionGD(0.000000000000000000000000000005, 50000, random_state=5)\n",
        "\n",
        "LGD_Q1.fit(X,y)\n",
        "print(LGD_Q1.loss_[-1])\n",
        "LGD_Q1.fit(X_quad,y)\n",
        "print(LGD_Q1.loss_[-1])\n",
        "LGD_Q1.fit(X_cubic,y)\n",
        "print(LGD_Q1.loss_[-1])"
      ]
    },
    {
      "cell_type": "markdown",
      "metadata": {
        "id": "obtR8nBjh2Sd"
      },
      "source": [
        "*   For a too large $\\eta = 0.00005$, there's a RuntimeWarning: divide by zero encountered in log, having the lost function values to not be computed.\n",
        "*   For a too small $\\eta = 0.000000000000000000000000000005$, the loss function value doesn't decrease as $d$ increases.\n",
        "\n",
        "\n"
      ]
    },
    {
      "cell_type": "code",
      "execution_count": null,
      "metadata": {
        "id": "HV6DRoDxG1Rl"
      },
      "outputs": [],
      "source": [
        "# Grader's area\n",
        "\n",
        "maxScore = maxScore + 12\n",
        "# M[1,1] = \n",
        "# M[1,2] = \n",
        "# M[1,3] ="
      ]
    },
    {
      "cell_type": "markdown",
      "metadata": {
        "id": "6grYJ9spn6C1"
      },
      "source": [
        "-----------------------\n",
        "-----------------------\n",
        "-----------------------\n"
      ]
    },
    {
      "cell_type": "markdown",
      "metadata": {
        "id": "zW8T7xf0-uUL"
      },
      "source": [
        "## <font color = 'blue'> **Question 2. A theoretical question** </font>\n",
        "\n",
        "This question is about a theoretical explanation for what you observed in question 1(iii). \n",
        "\n",
        "<br>\n",
        "\n",
        "Suppose $f_1$ is a model that optimally fits the data $(X,y)$, and $f_2$ is another model that optimally fits the data $(X_2,y)$, where $X_2$ are the quadratic features of $X$. Then the loss function value obtained by $f_2$ is **always** going to be at least equal to that for $f_1$. Try to come up with a solid mathematical argument that justifies this claim. [Note: as with anything else, feel free to discuss this on Canvas.]"
      ]
    },
    {
      "cell_type": "markdown",
      "metadata": {
        "id": "nRk7QbZLH_DY"
      },
      "source": [
        "Let's assume that the loss function used is the same for both models, denoted as $L$.\n",
        "\n",
        "Since $f_1$ is a model that optimally fits the data $(X, y)$, we can say that it minimizes the loss function for the given data:\n",
        "\n",
        "> $L(X, y; f_1) ≤ L(X, y; f)$, for all $f$ models.\n",
        "\n",
        "Similarly, $f_2$ is a model that optimally fits the data $(X_2, y)$, we can say that it minimizes the loss function for the given data:\n",
        "\n",
        "> $L(X_2, y; f_2) ≤ L(X_2, y; f)$, for all $f$ models.\n",
        "\n",
        "We know that $X_2$ is obtained by adding quadratic features to $X$, which means that $X_2$ has more dimensions than $X$. Therefore, any linear model (such as $f_1$) that uses $X$ as input cannot capture the quadratic relationship between the input features, while a quadratic model (such as $f_2$) that uses $X_2$ as input can capture this relationship.\n",
        "\n",
        "Thus, we can say that $f_1$ is a special case of $f_2$, where the quadratic features are not used. Hence, we can use the same function $f_2$ to model both $X$ and $X_2$, and we can write that:\n",
        "\n",
        "> $L(X, y; f_2) ≤ L(X, y; f_1) ≤ L(X, y; f)$, for all $f$ models.\n",
        "\n",
        "The first inequality holds because $f_2$ can capture the quadratic relationship in $X_2$ , which can also benefit the model when $X$ is used as input. The second inequality holds because $f_1$ optimally fits the data $(X, y)$, which means that it minimizes the loss function for that specific data.\n",
        "\n",
        "Therefore, we can conclude that the loss function value obtained by $f_2$ is always going to be at least equal to that for $f_1$, because $f_2$ can model both $X$ and $X_2$, while $f_1$ can only model $X$."
      ]
    },
    {
      "cell_type": "code",
      "execution_count": null,
      "metadata": {
        "id": "WJrBDgJYBQZL"
      },
      "outputs": [],
      "source": [
        "# Grader's area\n",
        "\n",
        "maxScore = maxScore + 4\n",
        "# M[2,1] = "
      ]
    },
    {
      "cell_type": "markdown",
      "metadata": {
        "id": "vxiK-qoin6_-"
      },
      "source": [
        "-----------------------\n",
        "-----------------------\n",
        "-----------------------\n"
      ]
    },
    {
      "cell_type": "markdown",
      "metadata": {
        "id": "YMEcdAp3-uT-"
      },
      "source": [
        "##  <font color = 'blue'> **Question 3. Logistic Regression: How 'unfair' can it be?**  </font>\n",
        "\n",
        "We have seen that the inductive bias of an SVC guarantees that when the dataset is linearly separable, SVC will return a hyperplane that is at exactly the same distance from the two classes.  But what about logistic regression? Can we guarantee that it can also be at least partially fair?\n",
        "\n",
        "The answer is **no**. We can  demonstrate how logistic regression can be 'unfair' by constructing a dataset with the properties that: <br> \n",
        "\n",
        "**a.** the data set is linearly separable, and  <br>\n",
        "**b.** the optimal logistic regression model corresponds to a hyperplane that nearly 'touches' one of the two classes - that is, it has a very big margin with respect to one of the two classes, and a very small margin with respect to the other class.  <br>\n",
        "\n",
        "**Hint**: Try small datasets. <br>\n",
        "**Note**: It's best to use fresh variables for your dataset, since the previous values of $X,y$ will be reused in Question 4.\n",
        "Demonstrate your answer as follows: <br>\n",
        "\n",
        "<font color = 'blue'> **Q3-1**.  </font>\n",
        " Plot the data points, as we did above for the Iris data set. This will show that your data set is linearly separable. <br>\n",
        " \n"
      ]
    },
    {
      "cell_type": "code",
      "execution_count": null,
      "metadata": {
        "colab": {
          "base_uri": "https://localhost:8080/",
          "height": 279
        },
        "id": "mTPbCgxvkoA9",
        "outputId": "b7387441-d54d-460a-aff0-eed191dfee5c"
      },
      "outputs": [
        {
          "output_type": "display_data",
          "data": {
            "text/plain": [
              "<Figure size 432x288 with 1 Axes>"
            ],
            "image/png": "[encoded data removed]"
          },
          "metadata": {
            "needs_background": "light"
          }
        }
      ],
      "source": [
        "X1 = [0,-0.5]\n",
        "X2 = [1,-1]\n",
        "X3 = [0.5, -0.5]\n",
        "X4 = [1,0]\n",
        "X_Q3 = np.array([X1, X2, X3, X4])\n",
        "Y_Q3 = np.array([0, 0, 1, 1])\n",
        "\n",
        "plt.scatter(X_Q3[:2, 0], X_Q3[:2, 1],\n",
        "            color='red', marker='o', label='Y = 0')\n",
        "plt.scatter(X_Q3[2:4, 0], X_Q3[2:4, 1],\n",
        "            color='blue', marker='x', label='Y = 1')\n",
        "\n",
        "plt.xlabel('X1')\n",
        "plt.ylabel('X2')\n",
        "plt.legend(loc='lower left')\n",
        "plt.show()"
      ]
    },
    {
      "cell_type": "markdown",
      "metadata": {
        "id": "fMkJoVV3Rn9z"
      },
      "source": [
        "<font color = 'blue'> **Q3-2**.  </font> Calculate the optimal logistic neuron weights using the function *LogisticRegressionGD* from Question 1. <br>\n"
      ]
    },
    {
      "cell_type": "code",
      "execution_count": null,
      "metadata": {
        "colab": {
          "base_uri": "https://localhost:8080/"
        },
        "id": "AGSkDJs9sk2S",
        "outputId": "00024423-2389-4164-e03c-2b8b442f6af8"
      },
      "outputs": [
        {
          "output_type": "stream",
          "name": "stdout",
          "text": [
            "[ 3.46720199  4.83901202 10.20801975]\n"
          ]
        }
      ],
      "source": [
        "LGD_Q3 = LogisticRegressionGD(0.001, 100000, random_state=1)\n",
        "LGD_Q3.fit(X_Q3, Y_Q3)\n",
        "print(LGD_Q3.w_)"
      ]
    },
    {
      "cell_type": "markdown",
      "source": [
        "The coefficients are:\n",
        "\n",
        "*   $w_1 = 3.46720199$\n",
        "*   $w_2 = 4.83901202$\n",
        "*   Intercept $b = 10.20801975$"
      ],
      "metadata": {
        "id": "-ej3UIW0rIzV"
      }
    },
    {
      "cell_type": "markdown",
      "metadata": {
        "id": "eFSP5uxeRs3T"
      },
      "source": [
        "<font color = 'blue'> **Q3-3**. </font>  Plot the decision regions to demonstrate how the learned separation line is unfair."
      ]
    },
    {
      "cell_type": "code",
      "execution_count": null,
      "metadata": {
        "colab": {
          "base_uri": "https://localhost:8080/",
          "height": 352
        },
        "id": "I3sWD19TuCv6",
        "outputId": "bf5b4fa1-ee69-43fe-fd44-a83be4522b96"
      },
      "outputs": [
        {
          "output_type": "stream",
          "name": "stderr",
          "text": [
            "<ipython-input-5-a8435fe16d39>:25: UserWarning: You passed a edgecolor/edgecolors ('black') for an unfilled marker ('x').  Matplotlib is ignoring the edgecolor in favor of the facecolor.  This behavior may change in the future.\n",
            "  plt.scatter(x=X[y == cl, 0],\n"
          ]
        },
        {
          "output_type": "display_data",
          "data": {
            "text/plain": [
              "<Figure size 432x288 with 1 Axes>"
            ],
            "image/png": "[encoded data removed]"
          },
          "metadata": {
            "needs_background": "light"
          }
        }
      ],
      "source": [
        "Q3 = plot_decision_regions(X_Q3, Y_Q3, classifier=LGD_Q3)\n",
        "plt.xlabel('X1')\n",
        "plt.ylabel('X2')\n",
        "plt.legend(loc='upper left')\n",
        "plt.tight_layout()\n",
        "plt.show()"
      ]
    },
    {
      "cell_type": "markdown",
      "source": [
        "The decision boundry is closer to the class $y = 1$ (blue cross) than class $y = 0$ (red square)"
      ],
      "metadata": {
        "id": "O8w0QIwbrXuc"
      }
    },
    {
      "cell_type": "code",
      "execution_count": null,
      "metadata": {
        "id": "ayVRy0pxlBDP"
      },
      "outputs": [],
      "source": [
        "# Grader's area\n",
        "\n",
        "maxScore = maxScore + 12\n",
        "# M[3,1] = \n",
        "# M[3,2] = \n",
        "# M[3,3] = "
      ]
    },
    {
      "cell_type": "markdown",
      "metadata": {
        "id": "Z2ZazaTq1GzQ"
      },
      "source": [
        "<font color = 'blue'> **Q3-4**.  </font> The standard scikit-learn implementation of logistic regression uses regularization by default ($C=1$).  Can you come up with a linearly separable dataset that makes that **default** implementation fail? <br>\n",
        "\n",
        "[Note: This is an experimental question. You should be able to use the example from above, or modify it, and make the default implementation fail.]"
      ]
    },
    {
      "cell_type": "code",
      "execution_count": null,
      "metadata": {
        "colab": {
          "base_uri": "https://localhost:8080/",
          "height": 352
        },
        "id": "XN-VON-12oqM",
        "outputId": "2852c56a-294e-41f1-dc6d-5c5599627022"
      },
      "outputs": [
        {
          "output_type": "stream",
          "name": "stderr",
          "text": [
            "<ipython-input-5-a8435fe16d39>:25: UserWarning: You passed a edgecolor/edgecolors ('black') for an unfilled marker ('x').  Matplotlib is ignoring the edgecolor in favor of the facecolor.  This behavior may change in the future.\n",
            "  plt.scatter(x=X[y == cl, 0],\n"
          ]
        },
        {
          "output_type": "display_data",
          "data": {
            "text/plain": [
              "<Figure size 432x288 with 1 Axes>"
            ],
            "image/png": "[encoded data removed]"
          },
          "metadata": {
            "needs_background": "light"
          }
        }
      ],
      "source": [
        "from sklearn.linear_model import LogisticRegression\n",
        "\n",
        "LR_Q3 = LogisticRegression(C=1, random_state=10, solver='lbfgs', multi_class='ovr')\n",
        "LR_Q3.fit(X_Q3, Y_Q3)\n",
        "\n",
        "plot_decision_regions(X_Q3, Y_Q3, classifier=LR_Q3)\n",
        "plt.xlabel('X1')\n",
        "plt.ylabel('X2')\n",
        "plt.legend(loc='upper left')\n",
        "plt.tight_layout()\n",
        "plt.show()"
      ]
    },
    {
      "cell_type": "markdown",
      "source": [
        "The decision area for class $y = 0$ (red area) includes a blue cross that belongs to class $y = 1$ when using the the standard scikit-learn implementation of logistic regression applies regularization by default ($C=1$) on a linearly separable dataset"
      ],
      "metadata": {
        "id": "yuWN6TtervH9"
      }
    },
    {
      "cell_type": "code",
      "execution_count": null,
      "metadata": {
        "id": "ZlN9ptsC2rz_"
      },
      "outputs": [],
      "source": [
        "# Grader's area\n",
        "\n",
        "maxScore = maxScore + 4\n",
        "# M[3,4] = "
      ]
    },
    {
      "cell_type": "markdown",
      "metadata": {
        "id": "kffsOAaln8C_"
      },
      "source": [
        "-----------------------\n",
        "-----------------------\n",
        "-----------------------\n"
      ]
    },
    {
      "cell_type": "markdown",
      "metadata": {
        "id": "uVUZKNB2kod6"
      },
      "source": [
        "##  <font color = 'blue'> **Question 4. SVC and classification margin**  </font>\n",
        "\n",
        "The Iris dataset defined in the above cells is linearly separable. \n",
        "\n",
        "<font color = 'blue'> **Q4-1.**  </font> Use a [linear SVC](https://scikit-learn.org/stable/modules/generated/sklearn.svm.LinearSVC.html) to learn a hyperplane $y=w_1x_1 +w_2x_2 +b$ that maximizes the margin for this Iris dataset. In your answer, specify a setting for the hyperparameter $C$ that reduces the amount of regularization (that is, incentivizes very small slacks)."
      ]
    },
    {
      "cell_type": "code",
      "execution_count": null,
      "metadata": {
        "colab": {
          "base_uri": "https://localhost:8080/",
          "height": 74
        },
        "id": "q_z3kIsShW2J",
        "outputId": "e8fc17ad-ac8f-4c78-85ed-ad3955b79d96"
      },
      "outputs": [
        {
          "output_type": "execute_result",
          "data": {
            "text/plain": [
              "LinearSVC(C=1000)"
            ],
            "text/html": [
              "<style>#sk-container-id-1 {color: black;background-color: white;}#sk-container-id-1 pre{padding: 0;}#sk-container-id-1 div.sk-toggleable {background-color: white;}#sk-container-id-1 label.sk-toggleable__label {cursor: pointer;display: block;width: 100%;margin-bottom: 0;padding: 0.3em;box-sizing: border-box;text-align: center;}#sk-container-id-1 label.sk-toggleable__label-arrow:before {content: \"▸\";float: left;margin-right: 0.25em;color: #696969;}#sk-container-id-1 label.sk-toggleable__label-arrow:hover:before {color: black;}#sk-container-id-1 div.sk-estimator:hover label.sk-toggleable__label-arrow:before {color: black;}#sk-container-id-1 div.sk-toggleable__content {max-height: 0;max-width: 0;overflow: hidden;text-align: left;background-color: #f0f8ff;}#sk-container-id-1 div.sk-toggleable__content pre {margin: 0.2em;color: black;border-radius: 0.25em;background-color: #f0f8ff;}#sk-container-id-1 input.sk-toggleable__control:checked~div.sk-toggleable__content {max-height: 200px;max-width: 100%;overflow: auto;}#sk-container-id-1 input.sk-toggleable__control:checked~label.sk-toggleable__label-arrow:before {content: \"▾\";}#sk-container-id-1 div.sk-estimator input.sk-toggleable__control:checked~label.sk-toggleable__label {background-color: #d4ebff;}#sk-container-id-1 div.sk-label input.sk-toggleable__control:checked~label.sk-toggleable__label {background-color: #d4ebff;}#sk-container-id-1 input.sk-hidden--visually {border: 0;clip: rect(1px 1px 1px 1px);clip: rect(1px, 1px, 1px, 1px);height: 1px;margin: -1px;overflow: hidden;padding: 0;position: absolute;width: 1px;}#sk-container-id-1 div.sk-estimator {font-family: monospace;background-color: #f0f8ff;border: 1px dotted black;border-radius: 0.25em;box-sizing: border-box;margin-bottom: 0.5em;}#sk-container-id-1 div.sk-estimator:hover {background-color: #d4ebff;}#sk-container-id-1 div.sk-parallel-item::after {content: \"\";width: 100%;border-bottom: 1px solid gray;flex-grow: 1;}#sk-container-id-1 div.sk-label:hover label.sk-toggleable__label {background-color: #d4ebff;}#sk-container-id-1 div.sk-serial::before {content: \"\";position: absolute;border-left: 1px solid gray;box-sizing: border-box;top: 0;bottom: 0;left: 50%;z-index: 0;}#sk-container-id-1 div.sk-serial {display: flex;flex-direction: column;align-items: center;background-color: white;padding-right: 0.2em;padding-left: 0.2em;position: relative;}#sk-container-id-1 div.sk-item {position: relative;z-index: 1;}#sk-container-id-1 div.sk-parallel {display: flex;align-items: stretch;justify-content: center;background-color: white;position: relative;}#sk-container-id-1 div.sk-item::before, #sk-container-id-1 div.sk-parallel-item::before {content: \"\";position: absolute;border-left: 1px solid gray;box-sizing: border-box;top: 0;bottom: 0;left: 50%;z-index: -1;}#sk-container-id-1 div.sk-parallel-item {display: flex;flex-direction: column;z-index: 1;position: relative;background-color: white;}#sk-container-id-1 div.sk-parallel-item:first-child::after {align-self: flex-end;width: 50%;}#sk-container-id-1 div.sk-parallel-item:last-child::after {align-self: flex-start;width: 50%;}#sk-container-id-1 div.sk-parallel-item:only-child::after {width: 0;}#sk-container-id-1 div.sk-dashed-wrapped {border: 1px dashed gray;margin: 0 0.4em 0.5em 0.4em;box-sizing: border-box;padding-bottom: 0.4em;background-color: white;}#sk-container-id-1 div.sk-label label {font-family: monospace;font-weight: bold;display: inline-block;line-height: 1.2em;}#sk-container-id-1 div.sk-label-container {text-align: center;}#sk-container-id-1 div.sk-container {/* jupyter's `normalize.less` sets `[hidden] { display: none; }` but bootstrap.min.css set `[hidden] { display: none !important; }` so we also need the `!important` here to be able to override the default hidden behavior on the sphinx rendered scikit-learn.org. See: https://github.com/scikit-learn/scikit-learn/issues/21755 */display: inline-block !important;position: relative;}#sk-container-id-1 div.sk-text-repr-fallback {display: none;}</style><div id=\"sk-container-id-1\" class=\"sk-top-container\"><div class=\"sk-text-repr-fallback\"><pre>LinearSVC(C=1000)</pre><b>In a Jupyter environment, please rerun this cell to show the HTML representation or trust the notebook. <br />On GitHub, the HTML representation is unable to render, please try loading this page with nbviewer.org.</b></div><div class=\"sk-container\" hidden><div class=\"sk-item\"><div class=\"sk-estimator sk-toggleable\"><input class=\"sk-toggleable__control sk-hidden--visually\" id=\"sk-estimator-id-1\" type=\"checkbox\" checked><label for=\"sk-estimator-id-1\" class=\"sk-toggleable__label sk-toggleable__label-arrow\">LinearSVC</label><div class=\"sk-toggleable__content\"><pre>LinearSVC(C=1000)</pre></div></div></div></div></div>"
            ]
          },
          "metadata": {},
          "execution_count": 24
        }
      ],
      "source": [
        "from sklearn.svm import LinearSVC\n",
        "\n",
        "SVC_Q4 = LinearSVC(C=1000)\n",
        "SVC_Q4.fit(X, y)"
      ]
    },
    {
      "cell_type": "markdown",
      "metadata": {
        "id": "jm8FYkMZR_sy"
      },
      "source": [
        "<font color = 'blue'> **Q4-2.** </font> Extract the coefficients $w$ and the intercept $b$ from the learned SVC. Find the the 2-norm of $w$: let $s = \\|w\\|_2$.\n",
        "[Hint: Read the documentation in order to access the coefficients.] "
      ]
    },
    {
      "cell_type": "code",
      "execution_count": null,
      "metadata": {
        "id": "Eo3OEPqmSc0d",
        "colab": {
          "base_uri": "https://localhost:8080/"
        },
        "outputId": "72aed495-2d3d-4901-e864-ff008999f087"
      },
      "outputs": [
        {
          "output_type": "stream",
          "name": "stdout",
          "text": [
            "[[-0.95584904  2.0763552 ]]\n",
            "[-0.35548631]\n",
            "2.2858036438391203\n"
          ]
        }
      ],
      "source": [
        "print(SVC_Q4.coef_)\n",
        "print(SVC_Q4.intercept_)\n",
        "\n",
        "from numpy import array  \n",
        "from numpy.linalg import norm\n",
        "\n",
        "s = norm(SVC_Q4.coef_,2)\n",
        "print(s)"
      ]
    },
    {
      "cell_type": "markdown",
      "source": [
        "The coefficients are:\n",
        "\n",
        "*   $w_1 = -0.95585927$\n",
        "*   $w_2 = 2.07633716$\n",
        "*   Intercept $b = -0.35548755$\n",
        "\n",
        "The 2-norm of $w$ is $s = 2.2857915348502713$"
      ],
      "metadata": {
        "id": "DRxL5faOj8my"
      }
    },
    {
      "cell_type": "markdown",
      "metadata": {
        "id": "mBojlP6aSB4O"
      },
      "source": [
        "<font color = 'blue'> **Q4-3.** </font> Set $w \\leftarrow w/s$ and $b\\leftarrow b/s$. This changes the numerical definition of the separation line, but the line is still the same.  "
      ]
    },
    {
      "cell_type": "code",
      "execution_count": null,
      "metadata": {
        "id": "w91_qXfjSdId",
        "colab": {
          "base_uri": "https://localhost:8080/"
        },
        "outputId": "5e7253cf-1b12-4b12-e286-866528587dc0"
      },
      "outputs": [
        {
          "output_type": "stream",
          "name": "stdout",
          "text": [
            "w:  [-0.41816761  0.90836989]\n",
            "b:  -0.15551917911861907\n"
          ]
        }
      ],
      "source": [
        "w = SVC_Q4.coef_[0]/s\n",
        "b = SVC_Q4.intercept_[0]/s\n",
        "print('w: ', w)\n",
        "print('b: ', b)"
      ]
    },
    {
      "cell_type": "markdown",
      "source": [
        "The coefficients are:\n",
        "\n",
        "*   $w_1 = -0.41816761$\n",
        "*   $w_2 = 0.90836989$\n",
        "*   Intercept $b = -0.15551917911861907$"
      ],
      "metadata": {
        "id": "6f8T-OC48YTa"
      }
    },
    {
      "cell_type": "markdown",
      "metadata": {
        "id": "wnCBk3uQSDkh"
      },
      "source": [
        "<font color = 'blue'> **Q4-4.** </font> With the new $w$ and $b$, calculate $wx^T - b$ for each point $x$ in our dataset. This will give a range of values; let $\\gamma$ be the smallest of these in absolute value. This $\\gamma$ is the margin. (In fact, there should be two points $x_1$ and $x_2$ of different labels, that give $wx_1^T - b = \\gamma$ and $wx_1^T - b = -\\gamma$.)"
      ]
    },
    {
      "cell_type": "code",
      "source": [
        "Q4 = abs(np.dot(X, w) - b)\n",
        "\n",
        "margin = min(Q4)\n",
        "print('margin:', margin)"
      ],
      "metadata": {
        "colab": {
          "base_uri": "https://localhost:8080/"
        },
        "id": "Jjg-Ggjcmbtv",
        "outputId": "f8cdec0c-91b9-42c8-cecc-ffa301cfe857"
      },
      "execution_count": null,
      "outputs": [
        {
          "output_type": "stream",
          "name": "stdout",
          "text": [
            "margin: 0.1257825465768087\n"
          ]
        }
      ]
    },
    {
      "cell_type": "markdown",
      "source": [
        "The margin $\\gamma$ is 0.1258195571813479\n"
      ],
      "metadata": {
        "id": "38SPWnZ5t2-b"
      }
    },
    {
      "cell_type": "code",
      "execution_count": null,
      "metadata": {
        "id": "lp4N-D6VSJAQ"
      },
      "outputs": [],
      "source": [
        "# Grader's area\n",
        "\n",
        "maxScore = maxScore + 16\n",
        "# M[4,1] = \n",
        "# M[4,2] = \n",
        "# M[4,3] = \n",
        "# M[4,4] = "
      ]
    },
    {
      "cell_type": "markdown",
      "metadata": {
        "id": "JTLcwDVan9x9"
      },
      "source": [
        "-----------------------\n",
        "-----------------------\n",
        "-----------------------\n"
      ]
    },
    {
      "cell_type": "markdown",
      "metadata": {
        "id": "N3ECKgmBD_aJ"
      },
      "source": [
        "##  <font color = 'blue'> **Question 5. Upper bound for perceptron errors before convergence**  </font>\n",
        "\n",
        "In this problem we will use the margin $\\gamma$ as calculated in Question 4. If you have not been able to calculate it, you can 'borrow' its value from someone else that has calculated it. (Feel free to share your calculated value of $\\gamma$ on Canvas, or to ask your peers to share theirs.)\n",
        "\n",
        "<font color = 'blue'> **Q5-1.** </font> Calculate $R = \\max_{x\\in X} \\|x\\|_2$. In other words, find the 2-norm of all points in the dataset, and let $R$ be the maximum norm. \n"
      ]
    },
    {
      "cell_type": "code",
      "source": [
        "from numpy import array  \n",
        "from numpy.linalg import norm\n",
        "\n",
        "Q5_2Norm = []\n",
        "for i in range(len(X)):\n",
        "    n = norm(X[i], 2)\n",
        "    Q5_2Norm.append(n)\n",
        "\n",
        "R = max(Q5_2Norm)\n",
        "print('R: ', R)"
      ],
      "metadata": {
        "colab": {
          "base_uri": "https://localhost:8080/"
        },
        "id": "Bt4ALsg0uWsP",
        "outputId": "f569bfdb-b0f4-48fa-8059-4ccc5712d44e"
      },
      "execution_count": null,
      "outputs": [
        {
          "output_type": "stream",
          "name": "stdout",
          "text": [
            "R:  8.462860036654275\n"
          ]
        }
      ]
    },
    {
      "cell_type": "markdown",
      "source": [
        " $R = \\max_{x\\in X} \\|x\\|_2 = 8.462860036654275$"
      ],
      "metadata": {
        "id": "IX4d4s4Yws1K"
      }
    },
    {
      "cell_type": "markdown",
      "metadata": {
        "id": "O7AVoMZrSWtM"
      },
      "source": [
        "<font color = 'blue'> **Q5-2.** </font> Calculate $\\mathit{maxErrors} = R/\\gamma^2$. This is the maximum number of errors that a perceptron can do, in the worst case, before it convergences. "
      ]
    },
    {
      "cell_type": "code",
      "execution_count": null,
      "metadata": {
        "id": "9UNQM1CjSZvm",
        "colab": {
          "base_uri": "https://localhost:8080/"
        },
        "outputId": "cc7ea964-25ca-4f2c-c77e-9f08916b7362"
      },
      "outputs": [
        {
          "output_type": "stream",
          "name": "stdout",
          "text": [
            "maxErrors:  534.904673086545\n"
          ]
        }
      ],
      "source": [
        "MaxErrors = R/(margin*margin)\n",
        "print('maxErrors: ', MaxErrors)"
      ]
    },
    {
      "cell_type": "markdown",
      "source": [
        "$\\mathit{maxErrors} = R/\\gamma^2 = 534.590028304151$"
      ],
      "metadata": {
        "id": "IhP3NUX-yBis"
      }
    },
    {
      "cell_type": "markdown",
      "metadata": {
        "id": "UEGfEvbwSYtR"
      },
      "source": [
        "<font color = 'blue'> **Q5-3.** </font> Compare $\\mathit{maxErrors}$ with the actual number of errors that the perceptron does with a random initialization. [Hint: Re-use the code from Assignment 2, or anything else that can provide you with that number].  "
      ]
    },
    {
      "cell_type": "code",
      "execution_count": null,
      "metadata": {
        "id": "hLgBGbh_SaHo"
      },
      "outputs": [],
      "source": [
        "import numpy as np\n",
        "\n",
        "class Perceptron(object):\n",
        "    \"\"\"Perceptron classifier.\n",
        "\n",
        "    Parameters\n",
        "    ------------\n",
        "    eta : float\n",
        "      Learning rate (between 0.0 and 1.0)\n",
        "    n_iter : int\n",
        "      Passes over the training dataset.\n",
        "    random_state : int\n",
        "      Random number generator seed for random weight\n",
        "      initialization.\n",
        "\n",
        "    Attributes\n",
        "    -----------\n",
        "    w_ : 1d-array\n",
        "      Weights after fitting.\n",
        "    errors_ : list\n",
        "      Number of misclassifications (updates) in each epoch.\n",
        "\n",
        "    \"\"\"\n",
        "    def __init__(self, eta=0.01, n_iter=50, random_state=1):\n",
        "        self.eta = eta\n",
        "        self.n_iter = n_iter\n",
        "        self.random_state = random_state\n",
        "\n",
        "    def fit(self, X, y):\n",
        "        \"\"\"Fit training data.\n",
        "\n",
        "        Parameters\n",
        "        ----------\n",
        "        X : {array-like}, shape = [n_examples, n_features]\n",
        "          Training vectors, where n_examples is the number of examples and\n",
        "          n_features is the number of features.\n",
        "        y : array-like, shape = [n_examples]\n",
        "          Target values.\n",
        "\n",
        "        Returns\n",
        "        -------\n",
        "        self : object\n",
        "\n",
        "        \"\"\"\n",
        "        rgen = np.random.RandomState(self.random_state)\n",
        "        self.w_ = rgen.normal(loc=0.0, scale=0.01, size=1 + X.shape[1])\n",
        "        self.errors_ = []\n",
        "        self.history_w_=[]\n",
        "\n",
        "        for _ in range(self.n_iter):\n",
        "            errors = 0\n",
        "            for xi, target in zip(X, y):\n",
        "                update = self.eta * (target - self.predict(xi))\n",
        "                self.w_[1:] += update * xi\n",
        "                self.w_[0] += update\n",
        "                errors += int(update != 0.0)\n",
        "                self.history_w_.append(self.w_)\n",
        "            \n",
        "            if (len(self.errors_) >= 1):\n",
        "                if self.errors_[-1]==0:\n",
        "                    print('Model Converged')\n",
        "                    break\n",
        "                      \n",
        "            self.errors_.append(errors)\n",
        "      \n",
        "        print('Iterations needed are ',_)\n",
        "        print(self.w_)\n",
        "        return self\n",
        "\n",
        "    def net_input(self, X):\n",
        "        \"\"\"Calculate net input\"\"\"\n",
        "        return np.dot(X, self.w_[1:]) + self.w_[0]\n",
        "\n",
        "    def predict(self, X):\n",
        "        \"\"\"Return class label after unit step\"\"\"\n",
        "        return np.where(self.net_input(X) >= 0.0, 1, -1)"
      ]
    },
    {
      "cell_type": "code",
      "source": [
        "ppn = Perceptron(eta=0.00001, n_iter=100, random_state=1)\n",
        "\n",
        "ppn.fit(X, y)\n",
        "\n",
        "plt.plot(range(1, len(ppn.errors_) + 1), ppn.errors_, marker='o')\n",
        "plt.xlabel('Epochs')\n",
        "plt.ylabel('Number of updates')\n",
        "\n",
        "plt.show()"
      ],
      "metadata": {
        "colab": {
          "base_uri": "https://localhost:8080/",
          "height": 331
        },
        "id": "X1B30sIoyorq",
        "outputId": "8dd54442-ff8c-43ec-c0c9-77f25d821b1b"
      },
      "execution_count": null,
      "outputs": [
        {
          "output_type": "stream",
          "name": "stdout",
          "text": [
            "Model Converged\n",
            "Iterations needed are  40\n",
            "[ 0.01528345 -0.00469356  0.00374228]\n"
          ]
        },
        {
          "output_type": "display_data",
          "data": {
            "text/plain": [
              "<Figure size 432x288 with 1 Axes>"
            ],
            "image/png": "[encoded data removed]"
          },
          "metadata": {
            "needs_background": "light"
          }
        }
      ]
    },
    {
      "cell_type": "code",
      "source": [
        "print('Total errors of Perceptron: ', sum(ppn.errors_))"
      ],
      "metadata": {
        "colab": {
          "base_uri": "https://localhost:8080/"
        },
        "id": "7BJcKGgezOKF",
        "outputId": "93dd2bed-1b4a-4e5e-d079-4fe692492fb6"
      },
      "execution_count": null,
      "outputs": [
        {
          "output_type": "stream",
          "name": "stdout",
          "text": [
            "Total errors of Perceptron:  378\n"
          ]
        }
      ]
    },
    {
      "cell_type": "markdown",
      "source": [
        "The maximum number of errors that a perceptron can do, in the worst case, before it convergences $(\\mathit{maxErrors} = 534)$ is larger than the actual number of errors that the perceptron does with a random initialization $(\\mathit{totalErrors} = 378)$"
      ],
      "metadata": {
        "id": "tZE3brrizlZz"
      }
    },
    {
      "cell_type": "code",
      "execution_count": null,
      "metadata": {
        "id": "vUts9oNyI4R7"
      },
      "outputs": [],
      "source": [
        "# Grader's area\n",
        "\n",
        "maxScore = maxScore + 12\n",
        "# M[5,1] = \n",
        "# M[5,2] = \n",
        "# M[5,3] = "
      ]
    },
    {
      "cell_type": "markdown",
      "metadata": {
        "id": "fdAULOJaI_2h"
      },
      "source": [
        "----------------------------\n",
        "----------------------------\n",
        "----------------------------"
      ]
    },
    {
      "cell_type": "code",
      "execution_count": null,
      "metadata": {
        "id": "IVkneTzYCAxs"
      },
      "outputs": [],
      "source": [
        "# Grader's area\n",
        "\n",
        "rawScore = np.sum(M)\n",
        "score = rawScore*100/maxScore"
      ]
    }
  ],
  "metadata": {
    "colab": {
      "provenance": []
    },
    "kernelspec": {
      "display_name": "Python 3",
      "language": "python",
      "name": "python3"
    },
    "language_info": {
      "codemirror_mode": {
        "name": "ipython",
        "version": 3
      },
      "file_extension": ".py",
      "mimetype": "text/x-python",
      "name": "python",
      "nbconvert_exporter": "python",
      "pygments_lexer": "ipython3",
      "version": "3.7.4"
    }
  },
  "nbformat": 4,
  "nbformat_minor": 0
}