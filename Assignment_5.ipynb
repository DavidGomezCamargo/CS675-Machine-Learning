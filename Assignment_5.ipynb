{
  "nbformat": 4,
  "nbformat_minor": 0,
  "metadata": {
    "kernelspec": {
      "display_name": "Python 3",
      "language": "python",
      "name": "python3"
    },
    "language_info": {
      "codemirror_mode": {
        "name": "ipython",
        "version": 3
      },
      "file_extension": ".py",
      "mimetype": "text/x-python",
      "name": "python",
      "nbconvert_exporter": "python",
      "pygments_lexer": "ipython3",
      "version": "3.7.4"
    },
    "colab": {
      "provenance": []
    }
  },
  "cells": [
    {
      "cell_type": "markdown",
      "metadata": {
        "id": "Tajfsk_7JY3E"
      },
      "source": [
        "**Note to grader:** Each question consists of parts, e.g. Q1(i), Q1(ii), etc. Each part must be graded  on a 0-4 scale, following the standard NJIT convention (A:4, B+: 3.5, B:3, C+: 2.5, C: 2, D:1, F:0). \n",
        "The total score must be re-scaled to 100 &mdash; that should apply to all future assignments so that Canvas assigns the same weight on all assignments. \n",
        "\n"
      ]
    },
    {
      "cell_type": "code",
      "source": [
        "# Grader's area\n",
        "\n",
        "import numpy as np\n",
        "G = np.zeros([10,10])\n",
        "maxScore = 0"
      ],
      "metadata": {
        "id": "zPnHTf9MfT5X"
      },
      "execution_count": null,
      "outputs": []
    },
    {
      "cell_type": "markdown",
      "metadata": {
        "id": "1NnOFlqPI1qn"
      },
      "source": [
        "# **Assignment 5**\n",
        "\n",
        "<font>"
      ]
    },
    {
      "cell_type": "code",
      "metadata": {
        "id": "zSyX_FIzI1qn"
      },
      "source": [
        "from IPython.display import Math\n",
        "from IPython.display import Latex\n",
        "\n",
        "import numpy as np\n",
        "import os\n",
        "import struct\n",
        "import time\n",
        "\n",
        "from sklearn.metrics import classification_report,confusion_matrix\n",
        "from sklearn.neural_network import MLPClassifier"
      ],
      "execution_count": null,
      "outputs": []
    },
    {
      "cell_type": "markdown",
      "source": [
        "----------------\n",
        "----------------\n",
        "----------------"
      ],
      "metadata": {
        "id": "cc6kqRYyliiK"
      }
    },
    {
      "cell_type": "markdown",
      "metadata": {
        "id": "aXayK-GxI1qo"
      },
      "source": [
        "## <font color='blue'> Question 0. MLP with scikit-learn: Explore outputs for the MNIST dataset </font>\n",
        "\n",
        "The purpose of this question is to get some practice time with MLP classifiers. We will be using the the MNIST data set. \n",
        "\n",
        "\n"
      ]
    },
    {
      "cell_type": "code",
      "metadata": {
        "id": "xscTgg2dI1qo",
        "colab": {
          "base_uri": "https://localhost:8080/"
        },
        "outputId": "3d81cef4-5e3e-4f2e-f423-41cc3494092d"
      },
      "source": [
        "# Let's first load the MNIST data set. \n",
        "\n",
        "from sklearn.datasets import fetch_openml\n",
        "from sklearn.model_selection import train_test_split\n",
        "\n",
        "X, y = fetch_openml('mnist_784', version=1, return_X_y=True)\n",
        "y = y.astype(int)\n",
        "X = ((X / 255.) - .5) * 2\n",
        "X_train, X_test, y_train, y_test = train_test_split(\n",
        "    X, y, test_size=10000, random_state=123, stratify=y)"
      ],
      "execution_count": null,
      "outputs": [
        {
          "output_type": "stream",
          "name": "stderr",
          "text": [
            "/usr/local/lib/python3.9/dist-packages/sklearn/datasets/_openml.py:968: FutureWarning: The default value of `parser` will change from `'liac-arff'` to `'auto'` in 1.4. You can set `parser='auto'` to silence this warning. Therefore, an `ImportError` will be raised from 1.4 if the dataset is dense and pandas is not installed. Note that the pandas parser may return different data types. See the Notes Section in fetch_openml's API doc for details.\n",
            "  warn(\n"
          ]
        }
      ]
    },
    {
      "cell_type": "markdown",
      "source": [
        "---------------------------------------------------------------"
      ],
      "metadata": {
        "id": "h1OnprAkwGxV"
      }
    },
    {
      "cell_type": "markdown",
      "metadata": {
        "id": "uYAL83hpI1qp"
      },
      "source": [
        "**Q0-0**: This the classifier we built in class. Find a setting for *batch_size* and *max_iter*, so that the subsequent fit function **converges**. "
      ]
    },
    {
      "cell_type": "code",
      "metadata": {
        "id": "6I39VdCmI1qp"
      },
      "source": [
        "mlp_mnist = MLPClassifier(verbose = True, hidden_layer_sizes = (50,), batch_size = 10, \\\n",
        "                          max_iter = 300, solver = 'sgd', activation = 'logistic',\\\n",
        "                          learning_rate = 'constant', learning_rate_init = 0.001, random_state = 1)"
      ],
      "execution_count": null,
      "outputs": []
    },
    {
      "cell_type": "code",
      "metadata": {
        "id": "Hv4XQEb-I1qp",
        "colab": {
          "base_uri": "https://localhost:8080/",
          "height": 1000
        },
        "outputId": "6743318c-300d-40bb-aa00-343ac04d73c3"
      },
      "source": [
        "mlp_mnist.fit(X_train,y_train)"
      ],
      "execution_count": null,
      "outputs": [
        {
          "output_type": "stream",
          "name": "stdout",
          "text": [
            "Iteration 1, loss = 0.77659209\n",
            "Iteration 2, loss = 0.35169476\n",
            "Iteration 3, loss = 0.29370323\n",
            "Iteration 4, loss = 0.26160018\n",
            "Iteration 5, loss = 0.23835006\n",
            "Iteration 6, loss = 0.22020206\n",
            "Iteration 7, loss = 0.20524977\n",
            "Iteration 8, loss = 0.19250908\n",
            "Iteration 9, loss = 0.18166501\n",
            "Iteration 10, loss = 0.17223005\n",
            "Iteration 11, loss = 0.16398489\n",
            "Iteration 12, loss = 0.15674479\n",
            "Iteration 13, loss = 0.15032197\n",
            "Iteration 14, loss = 0.14438893\n",
            "Iteration 15, loss = 0.13925911\n",
            "Iteration 16, loss = 0.13410892\n",
            "Iteration 17, loss = 0.12973445\n",
            "Iteration 18, loss = 0.12544996\n",
            "Iteration 19, loss = 0.12168089\n",
            "Iteration 20, loss = 0.11826818\n",
            "Iteration 21, loss = 0.11486403\n",
            "Iteration 22, loss = 0.11185901\n",
            "Iteration 23, loss = 0.10913528\n",
            "Iteration 24, loss = 0.10600094\n",
            "Iteration 25, loss = 0.10378532\n",
            "Iteration 26, loss = 0.10133948\n",
            "Iteration 27, loss = 0.09901220\n",
            "Iteration 28, loss = 0.09697084\n",
            "Iteration 29, loss = 0.09496202\n",
            "Iteration 30, loss = 0.09295482\n",
            "Iteration 31, loss = 0.09074511\n",
            "Iteration 32, loss = 0.08912391\n",
            "Iteration 33, loss = 0.08738903\n",
            "Iteration 34, loss = 0.08565472\n",
            "Iteration 35, loss = 0.08420766\n",
            "Iteration 36, loss = 0.08272366\n",
            "Iteration 37, loss = 0.08120384\n",
            "Iteration 38, loss = 0.07996620\n",
            "Iteration 39, loss = 0.07851583\n",
            "Iteration 40, loss = 0.07702592\n",
            "Iteration 41, loss = 0.07591513\n",
            "Iteration 42, loss = 0.07467269\n",
            "Iteration 43, loss = 0.07376388\n",
            "Iteration 44, loss = 0.07244570\n",
            "Iteration 45, loss = 0.07137564\n",
            "Iteration 46, loss = 0.07032046\n",
            "Iteration 47, loss = 0.06939159\n",
            "Iteration 48, loss = 0.06840130\n",
            "Iteration 49, loss = 0.06723987\n",
            "Iteration 50, loss = 0.06638381\n",
            "Iteration 51, loss = 0.06555810\n",
            "Iteration 52, loss = 0.06460751\n",
            "Iteration 53, loss = 0.06360214\n",
            "Iteration 54, loss = 0.06291040\n",
            "Iteration 55, loss = 0.06216025\n",
            "Iteration 56, loss = 0.06152016\n",
            "Iteration 57, loss = 0.06061969\n",
            "Iteration 58, loss = 0.05980390\n",
            "Iteration 59, loss = 0.05905587\n",
            "Iteration 60, loss = 0.05845287\n",
            "Iteration 61, loss = 0.05767261\n",
            "Iteration 62, loss = 0.05686698\n",
            "Iteration 63, loss = 0.05637241\n",
            "Iteration 64, loss = 0.05583489\n",
            "Iteration 65, loss = 0.05512632\n",
            "Iteration 66, loss = 0.05443720\n",
            "Iteration 67, loss = 0.05388250\n",
            "Iteration 68, loss = 0.05327557\n",
            "Iteration 69, loss = 0.05277201\n",
            "Iteration 70, loss = 0.05213810\n",
            "Iteration 71, loss = 0.05150209\n",
            "Iteration 72, loss = 0.05100463\n",
            "Iteration 73, loss = 0.05051139\n",
            "Iteration 74, loss = 0.04998574\n",
            "Iteration 75, loss = 0.04954391\n",
            "Iteration 76, loss = 0.04879035\n",
            "Iteration 77, loss = 0.04855296\n",
            "Iteration 78, loss = 0.04804704\n",
            "Iteration 79, loss = 0.04744306\n",
            "Iteration 80, loss = 0.04739455\n",
            "Iteration 81, loss = 0.04670309\n",
            "Iteration 82, loss = 0.04610933\n",
            "Iteration 83, loss = 0.04579732\n",
            "Iteration 84, loss = 0.04527204\n",
            "Iteration 85, loss = 0.04505492\n",
            "Iteration 86, loss = 0.04451223\n",
            "Iteration 87, loss = 0.04400939\n",
            "Iteration 88, loss = 0.04364029\n",
            "Iteration 89, loss = 0.04345397\n",
            "Iteration 90, loss = 0.04289662\n",
            "Iteration 91, loss = 0.04255368\n",
            "Iteration 92, loss = 0.04221875\n",
            "Iteration 93, loss = 0.04181239\n",
            "Iteration 94, loss = 0.04146468\n",
            "Iteration 95, loss = 0.04119931\n",
            "Iteration 96, loss = 0.04077622\n",
            "Iteration 97, loss = 0.04047715\n",
            "Iteration 98, loss = 0.04015814\n",
            "Iteration 99, loss = 0.03981521\n",
            "Iteration 100, loss = 0.03955621\n",
            "Iteration 101, loss = 0.03915517\n",
            "Iteration 102, loss = 0.03904632\n",
            "Iteration 103, loss = 0.03854489\n",
            "Iteration 104, loss = 0.03834123\n",
            "Iteration 105, loss = 0.03802273\n",
            "Iteration 106, loss = 0.03763450\n",
            "Iteration 107, loss = 0.03738968\n",
            "Iteration 108, loss = 0.03698652\n",
            "Iteration 109, loss = 0.03682003\n",
            "Iteration 110, loss = 0.03661497\n",
            "Iteration 111, loss = 0.03632661\n",
            "Iteration 112, loss = 0.03613755\n",
            "Iteration 113, loss = 0.03595112\n",
            "Iteration 114, loss = 0.03556792\n",
            "Iteration 115, loss = 0.03524888\n",
            "Iteration 116, loss = 0.03508341\n",
            "Iteration 117, loss = 0.03485294\n",
            "Iteration 118, loss = 0.03456703\n",
            "Iteration 119, loss = 0.03433396\n",
            "Iteration 120, loss = 0.03415643\n",
            "Iteration 121, loss = 0.03392089\n",
            "Iteration 122, loss = 0.03369334\n",
            "Iteration 123, loss = 0.03359918\n",
            "Iteration 124, loss = 0.03327821\n",
            "Iteration 125, loss = 0.03306742\n",
            "Iteration 126, loss = 0.03285904\n",
            "Iteration 127, loss = 0.03261904\n",
            "Iteration 128, loss = 0.03239006\n",
            "Iteration 129, loss = 0.03220186\n",
            "Iteration 130, loss = 0.03190238\n",
            "Iteration 131, loss = 0.03174641\n",
            "Iteration 132, loss = 0.03177540\n",
            "Iteration 133, loss = 0.03148466\n",
            "Iteration 134, loss = 0.03126944\n",
            "Iteration 135, loss = 0.03109514\n",
            "Iteration 136, loss = 0.03089911\n",
            "Iteration 137, loss = 0.03077134\n",
            "Iteration 138, loss = 0.03074872\n",
            "Iteration 139, loss = 0.03041143\n",
            "Iteration 140, loss = 0.03029596\n",
            "Iteration 141, loss = 0.03014552\n",
            "Iteration 142, loss = 0.02993112\n",
            "Iteration 143, loss = 0.02974024\n",
            "Iteration 144, loss = 0.02957005\n",
            "Iteration 145, loss = 0.02950086\n",
            "Iteration 146, loss = 0.02925733\n",
            "Iteration 147, loss = 0.02917756\n",
            "Iteration 148, loss = 0.02902424\n",
            "Iteration 149, loss = 0.02887811\n",
            "Iteration 150, loss = 0.02867300\n",
            "Iteration 151, loss = 0.02855578\n",
            "Iteration 152, loss = 0.02844942\n",
            "Iteration 153, loss = 0.02834028\n",
            "Iteration 154, loss = 0.02813598\n",
            "Iteration 155, loss = 0.02800036\n",
            "Iteration 156, loss = 0.02792343\n",
            "Iteration 157, loss = 0.02771059\n",
            "Iteration 158, loss = 0.02768987\n",
            "Iteration 159, loss = 0.02752203\n",
            "Iteration 160, loss = 0.02734819\n",
            "Iteration 161, loss = 0.02724592\n",
            "Iteration 162, loss = 0.02708185\n",
            "Iteration 163, loss = 0.02702623\n",
            "Iteration 164, loss = 0.02692941\n",
            "Iteration 165, loss = 0.02676813\n",
            "Iteration 166, loss = 0.02673706\n",
            "Iteration 167, loss = 0.02654885\n",
            "Iteration 168, loss = 0.02638828\n",
            "Iteration 169, loss = 0.02636107\n",
            "Iteration 170, loss = 0.02626703\n",
            "Iteration 171, loss = 0.02611144\n",
            "Iteration 172, loss = 0.02601080\n",
            "Iteration 173, loss = 0.02599704\n",
            "Iteration 174, loss = 0.02575943\n",
            "Iteration 175, loss = 0.02575072\n",
            "Iteration 176, loss = 0.02561648\n",
            "Iteration 177, loss = 0.02560790\n",
            "Iteration 178, loss = 0.02537408\n",
            "Iteration 179, loss = 0.02533754\n",
            "Iteration 180, loss = 0.02532227\n",
            "Iteration 181, loss = 0.02521857\n",
            "Iteration 182, loss = 0.02508274\n",
            "Iteration 183, loss = 0.02497259\n",
            "Iteration 184, loss = 0.02487126\n",
            "Iteration 185, loss = 0.02475029\n",
            "Iteration 186, loss = 0.02474162\n",
            "Iteration 187, loss = 0.02459089\n",
            "Iteration 188, loss = 0.02453062\n",
            "Iteration 189, loss = 0.02445432\n",
            "Iteration 190, loss = 0.02437926\n",
            "Iteration 191, loss = 0.02429475\n",
            "Iteration 192, loss = 0.02425932\n",
            "Iteration 193, loss = 0.02417743\n",
            "Iteration 194, loss = 0.02396331\n",
            "Iteration 195, loss = 0.02391551\n",
            "Iteration 196, loss = 0.02396394\n",
            "Iteration 197, loss = 0.02385143\n",
            "Iteration 198, loss = 0.02376792\n",
            "Iteration 199, loss = 0.02374289\n",
            "Iteration 200, loss = 0.02360476\n",
            "Iteration 201, loss = 0.02357534\n",
            "Iteration 202, loss = 0.02351188\n",
            "Iteration 203, loss = 0.02344980\n",
            "Iteration 204, loss = 0.02331842\n",
            "Iteration 205, loss = 0.02326380\n",
            "Iteration 206, loss = 0.02316166\n",
            "Iteration 207, loss = 0.02318271\n",
            "Iteration 208, loss = 0.02309092\n",
            "Iteration 209, loss = 0.02301490\n",
            "Iteration 210, loss = 0.02293142\n",
            "Iteration 211, loss = 0.02290801\n",
            "Iteration 212, loss = 0.02279947\n",
            "Iteration 213, loss = 0.02272150\n",
            "Iteration 214, loss = 0.02266641\n",
            "Iteration 215, loss = 0.02269754\n",
            "Iteration 216, loss = 0.02261850\n",
            "Iteration 217, loss = 0.02249412\n",
            "Iteration 218, loss = 0.02249087\n",
            "Iteration 219, loss = 0.02239473\n",
            "Iteration 220, loss = 0.02234531\n",
            "Iteration 221, loss = 0.02227755\n",
            "Iteration 222, loss = 0.02226609\n",
            "Iteration 223, loss = 0.02223867\n",
            "Iteration 224, loss = 0.02218460\n",
            "Iteration 225, loss = 0.02211229\n",
            "Iteration 226, loss = 0.02202673\n",
            "Iteration 227, loss = 0.02199307\n",
            "Iteration 228, loss = 0.02193633\n",
            "Training loss did not improve more than tol=0.000100 for 10 consecutive epochs. Stopping.\n"
          ]
        },
        {
          "output_type": "execute_result",
          "data": {
            "text/plain": [
              "MLPClassifier(activation='logistic', batch_size=10, hidden_layer_sizes=(50,),\n",
              "              max_iter=300, random_state=1, solver='sgd', verbose=True)"
            ],
            "text/html": [
              "<style>#sk-container-id-1 {color: black;background-color: white;}#sk-container-id-1 pre{padding: 0;}#sk-container-id-1 div.sk-toggleable {background-color: white;}#sk-container-id-1 label.sk-toggleable__label {cursor: pointer;display: block;width: 100%;margin-bottom: 0;padding: 0.3em;box-sizing: border-box;text-align: center;}#sk-container-id-1 label.sk-toggleable__label-arrow:before {content: \"▸\";float: left;margin-right: 0.25em;color: #696969;}#sk-container-id-1 label.sk-toggleable__label-arrow:hover:before {color: black;}#sk-container-id-1 div.sk-estimator:hover label.sk-toggleable__label-arrow:before {color: black;}#sk-container-id-1 div.sk-toggleable__content {max-height: 0;max-width: 0;overflow: hidden;text-align: left;background-color: #f0f8ff;}#sk-container-id-1 div.sk-toggleable__content pre {margin: 0.2em;color: black;border-radius: 0.25em;background-color: #f0f8ff;}#sk-container-id-1 input.sk-toggleable__control:checked~div.sk-toggleable__content {max-height: 200px;max-width: 100%;overflow: auto;}#sk-container-id-1 input.sk-toggleable__control:checked~label.sk-toggleable__label-arrow:before {content: \"▾\";}#sk-container-id-1 div.sk-estimator input.sk-toggleable__control:checked~label.sk-toggleable__label {background-color: #d4ebff;}#sk-container-id-1 div.sk-label input.sk-toggleable__control:checked~label.sk-toggleable__label {background-color: #d4ebff;}#sk-container-id-1 input.sk-hidden--visually {border: 0;clip: rect(1px 1px 1px 1px);clip: rect(1px, 1px, 1px, 1px);height: 1px;margin: -1px;overflow: hidden;padding: 0;position: absolute;width: 1px;}#sk-container-id-1 div.sk-estimator {font-family: monospace;background-color: #f0f8ff;border: 1px dotted black;border-radius: 0.25em;box-sizing: border-box;margin-bottom: 0.5em;}#sk-container-id-1 div.sk-estimator:hover {background-color: #d4ebff;}#sk-container-id-1 div.sk-parallel-item::after {content: \"\";width: 100%;border-bottom: 1px solid gray;flex-grow: 1;}#sk-container-id-1 div.sk-label:hover label.sk-toggleable__label {background-color: #d4ebff;}#sk-container-id-1 div.sk-serial::before {content: \"\";position: absolute;border-left: 1px solid gray;box-sizing: border-box;top: 0;bottom: 0;left: 50%;z-index: 0;}#sk-container-id-1 div.sk-serial {display: flex;flex-direction: column;align-items: center;background-color: white;padding-right: 0.2em;padding-left: 0.2em;position: relative;}#sk-container-id-1 div.sk-item {position: relative;z-index: 1;}#sk-container-id-1 div.sk-parallel {display: flex;align-items: stretch;justify-content: center;background-color: white;position: relative;}#sk-container-id-1 div.sk-item::before, #sk-container-id-1 div.sk-parallel-item::before {content: \"\";position: absolute;border-left: 1px solid gray;box-sizing: border-box;top: 0;bottom: 0;left: 50%;z-index: -1;}#sk-container-id-1 div.sk-parallel-item {display: flex;flex-direction: column;z-index: 1;position: relative;background-color: white;}#sk-container-id-1 div.sk-parallel-item:first-child::after {align-self: flex-end;width: 50%;}#sk-container-id-1 div.sk-parallel-item:last-child::after {align-self: flex-start;width: 50%;}#sk-container-id-1 div.sk-parallel-item:only-child::after {width: 0;}#sk-container-id-1 div.sk-dashed-wrapped {border: 1px dashed gray;margin: 0 0.4em 0.5em 0.4em;box-sizing: border-box;padding-bottom: 0.4em;background-color: white;}#sk-container-id-1 div.sk-label label {font-family: monospace;font-weight: bold;display: inline-block;line-height: 1.2em;}#sk-container-id-1 div.sk-label-container {text-align: center;}#sk-container-id-1 div.sk-container {/* jupyter's `normalize.less` sets `[hidden] { display: none; }` but bootstrap.min.css set `[hidden] { display: none !important; }` so we also need the `!important` here to be able to override the default hidden behavior on the sphinx rendered scikit-learn.org. See: https://github.com/scikit-learn/scikit-learn/issues/21755 */display: inline-block !important;position: relative;}#sk-container-id-1 div.sk-text-repr-fallback {display: none;}</style><div id=\"sk-container-id-1\" class=\"sk-top-container\"><div class=\"sk-text-repr-fallback\"><pre>MLPClassifier(activation=&#x27;logistic&#x27;, batch_size=10, hidden_layer_sizes=(50,),\n",
              "              max_iter=300, random_state=1, solver=&#x27;sgd&#x27;, verbose=True)</pre><b>In a Jupyter environment, please rerun this cell to show the HTML representation or trust the notebook. <br />On GitHub, the HTML representation is unable to render, please try loading this page with nbviewer.org.</b></div><div class=\"sk-container\" hidden><div class=\"sk-item\"><div class=\"sk-estimator sk-toggleable\"><input class=\"sk-toggleable__control sk-hidden--visually\" id=\"sk-estimator-id-1\" type=\"checkbox\" checked><label for=\"sk-estimator-id-1\" class=\"sk-toggleable__label sk-toggleable__label-arrow\">MLPClassifier</label><div class=\"sk-toggleable__content\"><pre>MLPClassifier(activation=&#x27;logistic&#x27;, batch_size=10, hidden_layer_sizes=(50,),\n",
              "              max_iter=300, random_state=1, solver=&#x27;sgd&#x27;, verbose=True)</pre></div></div></div></div></div>"
            ]
          },
          "metadata": {},
          "execution_count": 5
        }
      ]
    },
    {
      "cell_type": "code",
      "metadata": {
        "id": "mDpqVYN1I1qq"
      },
      "source": [
        "predictions = mlp_mnist.predict(X_test)\n",
        "probability_predictions = mlp_mnist.predict_proba(X_test)"
      ],
      "execution_count": null,
      "outputs": []
    },
    {
      "cell_type": "markdown",
      "source": [
        "For batch_size = 10, the subsequent fit function converges at 228 iterations."
      ],
      "metadata": {
        "id": "hMaLYzpJnTyi"
      }
    },
    {
      "cell_type": "markdown",
      "source": [
        "---------------------------------------------------------------"
      ],
      "metadata": {
        "id": "lZ0Sjgw3wLJk"
      }
    },
    {
      "cell_type": "markdown",
      "metadata": {
        "id": "qaKRY5l7I1qq"
      },
      "source": [
        "**Q0-1**: Write a short function that outputs the **second best** prediction for each point &mdash; that is, the label that gets the second highest probability in the softmax output. "
      ]
    },
    {
      "cell_type": "code",
      "metadata": {
        "id": "d3ZqtfJTI1qq",
        "colab": {
          "base_uri": "https://localhost:8080/"
        },
        "outputId": "77792b7d-7d1e-4056-e499-4a87f1ae6d48"
      },
      "source": [
        "def Second_Best(p1):\n",
        "    a = []\n",
        "    for p in p1:\n",
        "        a.append(np.argsort(np.array(p))[-2])\n",
        "    return(a)\n",
        "print(Second_Best(probability_predictions))"
      ],
      "execution_count": null,
      "outputs": [
        {
          "output_type": "stream",
          "name": "stdout",
          "text": [
            "[5, 4, 0, 9, 5, 1, 7, 1, 2, 8, 8, 6, 5, 9, 5, 9, 5, 3, 8, 9, 3, 6, 3, 1, 2, 9, 3, 2, 7, 9, 3, 7, 2, 7, 9, 6, 5, 9, 3, 9, 3, 5, 9, 9, 9, 1, 2, 4, 8, 7, 7, 4, 2, 5, 7, 5, 9, 9, 3, 5, 9, 1, 5, 1, 3, 2, 4, 9, 4, 2, 7, 9, 3, 8, 2, 9, 9, 5, 9, 5, 6, 5, 7, 6, 2, 8, 2, 2, 8, 1, 7, 3, 6, 2, 9, 5, 8, 5, 4, 7, 4, 8, 5, 6, 9, 3, 7, 2, 2, 3, 0, 9, 6, 6, 7, 2, 8, 3, 9, 9, 2, 7, 4, 8, 5, 9, 5, 9, 8, 1, 2, 2, 3, 1, 9, 3, 8, 2, 3, 9, 9, 5, 9, 6, 8, 3, 1, 9, 7, 9, 9, 9, 0, 2, 9, 3, 8, 6, 4, 3, 2, 6, 4, 9, 7, 4, 5, 6, 9, 3, 6, 2, 9, 9, 0, 9, 2, 2, 8, 7, 8, 7, 3, 4, 1, 9, 4, 2, 1, 8, 4, 3, 5, 6, 9, 3, 1, 6, 6, 9, 2, 6, 2, 7, 2, 3, 7, 3, 9, 8, 6, 2, 4, 2, 0, 2, 9, 9, 9, 9, 9, 7, 8, 4, 7, 8, 4, 8, 6, 2, 1, 5, 8, 3, 4, 3, 1, 3, 2, 3, 7, 6, 5, 3, 2, 4, 3, 3, 3, 9, 0, 2, 2, 1, 5, 5, 9, 0, 4, 0, 1, 2, 3, 3, 2, 2, 3, 2, 5, 3, 2, 0, 2, 6, 7, 7, 9, 4, 7, 9, 3, 8, 9, 9, 3, 3, 9, 4, 3, 9, 9, 4, 7, 7, 1, 4, 2, 4, 3, 6, 7, 1, 0, 0, 2, 3, 3, 9, 8, 6, 9, 4, 2, 6, 8, 7, 2, 2, 5, 6, 3, 3, 3, 0, 3, 3, 6, 9, 4, 9, 5, 3, 2, 7, 7, 1, 3, 3, 8, 7, 6, 7, 3, 3, 7, 3, 2, 5, 8, 4, 5, 8, 9, 2, 9, 5, 6, 3, 4, 5, 8, 4, 3, 4, 9, 2, 7, 2, 7, 5, 9, 7, 2, 5, 2, 9, 4, 4, 9, 9, 2, 3, 1, 5, 3, 8, 5, 2, 8, 9, 3, 1, 8, 8, 9, 4, 2, 3, 7, 5, 5, 3, 4, 7, 3, 4, 8, 2, 3, 2, 9, 8, 1, 2, 3, 4, 8, 4, 2, 2, 7, 2, 7, 9, 8, 3, 7, 4, 2, 7, 7, 4, 4, 9, 7, 3, 9, 3, 2, 5, 2, 1, 2, 2, 3, 8, 2, 9, 9, 2, 9, 8, 7, 9, 5, 7, 2, 7, 5, 2, 3, 9, 9, 8, 5, 3, 3, 3, 2, 5, 9, 4, 3, 2, 0, 5, 7, 2, 3, 9, 9, 9, 2, 9, 8, 5, 2, 8, 4, 2, 3, 2, 0, 9, 2, 5, 8, 4, 7, 6, 8, 2, 5, 8, 5, 3, 0, 9, 5, 9, 8, 1, 5, 3, 2, 9, 7, 6, 8, 1, 7, 3, 2, 9, 2, 3, 7, 9, 3, 3, 3, 7, 2, 3, 1, 2, 9, 1, 3, 9, 0, 3, 1, 9, 8, 3, 6, 9, 7, 8, 2, 7, 3, 3, 8, 9, 9, 7, 7, 2, 5, 9, 5, 3, 2, 3, 7, 5, 5, 8, 6, 1, 9, 5, 3, 3, 2, 8, 5, 8, 9, 4, 6, 2, 8, 3, 9, 5, 3, 3, 9, 2, 3, 1, 2, 2, 3, 0, 4, 7, 5, 9, 3, 3, 3, 9, 5, 9, 7, 9, 3, 3, 9, 7, 9, 9, 2, 8, 9, 1, 2, 6, 2, 3, 5, 1, 1, 2, 4, 3, 7, 7, 7, 7, 5, 3, 6, 6, 8, 3, 9, 7, 3, 2, 5, 3, 2, 6, 9, 9, 3, 9, 4, 7, 4, 3, 2, 4, 5, 9, 6, 3, 7, 8, 3, 6, 3, 5, 3, 2, 7, 3, 6, 9, 8, 5, 5, 9, 2, 8, 7, 7, 3, 9, 9, 3, 3, 5, 3, 8, 5, 8, 1, 5, 8, 9, 9, 9, 9, 2, 3, 2, 3, 5, 9, 4, 6, 4, 4, 5, 9, 9, 3, 7, 9, 9, 9, 3, 1, 8, 7, 5, 8, 5, 3, 7, 8, 7, 7, 3, 2, 9, 6, 7, 4, 3, 8, 5, 3, 3, 5, 6, 9, 9, 7, 9, 7, 3, 5, 6, 7, 5, 9, 2, 9, 9, 3, 9, 7, 8, 9, 8, 8, 9, 2, 8, 4, 8, 9, 7, 8, 6, 8, 7, 9, 9, 7, 4, 2, 9, 8, 3, 0, 8, 3, 6, 5, 5, 2, 9, 2, 2, 9, 4, 3, 1, 1, 4, 3, 4, 8, 9, 2, 3, 8, 5, 0, 3, 8, 4, 4, 9, 4, 7, 5, 4, 5, 3, 8, 9, 3, 8, 2, 3, 3, 4, 5, 7, 6, 4, 3, 2, 7, 9, 2, 8, 8, 2, 5, 7, 7, 3, 2, 3, 3, 2, 5, 7, 8, 9, 5, 7, 6, 4, 8, 3, 9, 1, 9, 8, 7, 7, 9, 7, 6, 2, 8, 5, 7, 5, 9, 3, 8, 9, 9, 4, 8, 7, 8, 3, 2, 7, 7, 3, 3, 9, 6, 4, 9, 9, 2, 2, 9, 7, 5, 9, 5, 3, 1, 8, 5, 3, 8, 1, 5, 4, 9, 3, 3, 0, 9, 1, 8, 9, 2, 3, 1, 6, 3, 5, 3, 6, 2, 2, 5, 9, 8, 4, 8, 3, 5, 5, 5, 3, 7, 9, 3, 2, 3, 4, 2, 9, 1, 4, 5, 9, 4, 3, 7, 9, 0, 3, 5, 2, 8, 2, 5, 6, 8, 0, 7, 7, 3, 9, 8, 6, 7, 1, 6, 6, 3, 6, 8, 3, 8, 7, 9, 2, 3, 7, 1, 2, 3, 3, 2, 3, 9, 1, 8, 9, 9, 5, 5, 8, 3, 5, 2, 8, 0, 9, 3, 9, 6, 4, 4, 8, 9, 8, 9, 2, 7, 9, 3, 3, 9, 1, 1, 3, 8, 3, 7, 3, 9, 3, 0, 9, 7, 8, 5, 4, 7, 9, 6, 9, 3, 8, 9, 5, 9, 9, 1, 6, 7, 2, 2, 3, 7, 7, 4, 5, 9, 3, 5, 3, 8, 3, 6, 7, 7, 8, 0, 9, 4, 9, 9, 5, 5, 7, 2, 9, 5, 9, 8, 8, 1, 2, 3, 4, 5, 9, 9, 9, 2, 4, 4, 8, 5, 7, 2, 4, 3, 4, 7, 6, 5, 1, 0, 3, 3, 9, 9, 1, 9, 8, 9, 9, 9, 3, 3, 6, 7, 2, 8, 2, 5, 2, 3, 7, 1, 6, 9, 8, 8, 3, 9, 8, 1, 2, 8, 9, 8, 9, 2, 3, 8, 6, 7, 5, 3, 3, 2, 7, 2, 3, 9, 9, 8, 3, 8, 2, 8, 9, 7, 8, 4, 8, 2, 3, 6, 2, 2, 7, 7, 3, 9, 8, 9, 5, 4, 9, 0, 7, 3, 3, 3, 6, 2, 1, 6, 1, 5, 3, 3, 9, 2, 2, 2, 5, 3, 2, 7, 4, 7, 9, 8, 2, 8, 8, 7, 7, 8, 5, 2, 1, 8, 4, 3, 8, 2, 7, 5, 5, 5, 2, 5, 5, 3, 7, 4, 8, 5, 8, 3, 9, 9, 7, 5, 9, 8, 9, 9, 9, 7, 5, 2, 8, 3, 2, 2, 2, 8, 5, 5, 9, 3, 3, 7, 3, 7, 3, 9, 7, 1, 7, 8, 2, 1, 7, 9, 9, 4, 8, 9, 7, 5, 9, 5, 3, 9, 5, 3, 8, 3, 2, 2, 8, 9, 6, 9, 5, 7, 5, 9, 9, 5, 5, 7, 7, 6, 3, 9, 4, 3, 3, 0, 9, 9, 0, 5, 1, 6, 7, 3, 8, 3, 3, 3, 9, 7, 5, 7, 2, 7, 4, 7, 8, 8, 9, 3, 9, 9, 5, 2, 9, 2, 8, 9, 3, 8, 3, 3, 3, 9, 8, 5, 2, 3, 9, 4, 3, 8, 3, 3, 7, 3, 2, 9, 5, 9, 4, 8, 2, 3, 4, 3, 7, 9, 8, 8, 2, 4, 2, 3, 2, 8, 5, 5, 7, 9, 3, 4, 7, 8, 3, 3, 4, 3, 8, 9, 5, 2, 2, 4, 1, 8, 3, 3, 3, 3, 1, 5, 9, 9, 0, 1, 8, 3, 8, 4, 8, 5, 9, 7, 9, 3, 3, 2, 7, 3, 8, 4, 9, 8, 9, 8, 7, 9, 5, 2, 5, 0, 4, 3, 9, 7, 1, 6, 5, 8, 6, 7, 0, 9, 9, 5, 9, 9, 3, 5, 4, 7, 4, 9, 3, 2, 6, 8, 9, 9, 5, 3, 7, 5, 9, 9, 5, 5, 6, 7, 9, 9, 5, 3, 9, 5, 9, 9, 2, 3, 7, 2, 5, 2, 9, 9, 3, 9, 5, 7, 2, 7, 2, 5, 8, 2, 8, 9, 6, 7, 3, 5, 9, 6, 0, 9, 5, 5, 8, 7, 3, 8, 8, 3, 9, 7, 3, 8, 8, 2, 3, 3, 2, 3, 2, 9, 7, 2, 7, 9, 5, 6, 7, 7, 1, 8, 9, 3, 8, 7, 3, 9, 2, 8, 9, 0, 2, 9, 7, 7, 8, 1, 1, 8, 3, 5, 5, 0, 6, 8, 8, 3, 5, 3, 9, 9, 3, 7, 5, 0, 5, 5, 9, 4, 6, 2, 8, 1, 9, 9, 9, 3, 8, 9, 8, 4, 3, 4, 9, 5, 9, 9, 1, 5, 7, 3, 2, 9, 9, 8, 2, 3, 3, 4, 4, 1, 9, 9, 3, 3, 8, 3, 3, 9, 9, 8, 9, 3, 7, 7, 9, 5, 3, 7, 5, 8, 3, 3, 7, 5, 3, 7, 0, 6, 2, 7, 2, 0, 0, 9, 8, 9, 2, 5, 2, 9, 7, 5, 4, 7, 9, 5, 2, 9, 5, 8, 9, 5, 7, 3, 9, 9, 8, 9, 2, 7, 7, 2, 8, 2, 9, 3, 4, 8, 8, 5, 5, 3, 4, 4, 3, 7, 5, 2, 8, 9, 8, 8, 2, 6, 9, 3, 2, 1, 8, 4, 9, 8, 9, 1, 2, 6, 8, 8, 3, 2, 2, 7, 9, 9, 9, 2, 3, 0, 3, 8, 3, 9, 4, 2, 7, 3, 8, 2, 9, 3, 0, 7, 9, 9, 8, 6, 1, 4, 5, 9, 3, 4, 5, 5, 2, 7, 4, 3, 9, 8, 2, 4, 8, 1, 3, 2, 5, 8, 2, 5, 8, 3, 2, 1, 9, 7, 3, 7, 2, 9, 3, 9, 9, 9, 8, 0, 2, 7, 9, 5, 3, 5, 6, 5, 1, 8, 5, 7, 7, 9, 9, 4, 9, 3, 8, 8, 3, 3, 5, 8, 6, 8, 3, 5, 5, 3, 5, 1, 3, 2, 3, 2, 9, 9, 9, 9, 3, 3, 0, 3, 9, 2, 2, 9, 8, 7, 9, 8, 4, 3, 7, 1, 3, 9, 1, 2, 3, 2, 3, 0, 2, 2, 3, 8, 5, 2, 7, 9, 7, 9, 2, 9, 9, 9, 3, 2, 2, 7, 2, 4, 3, 3, 8, 6, 3, 3, 9, 7, 6, 3, 1, 1, 7, 4, 4, 6, 3, 9, 9, 8, 8, 3, 9, 7, 9, 2, 1, 5, 9, 2, 5, 6, 9, 9, 7, 5, 5, 8, 8, 3, 6, 9, 5, 9, 5, 9, 3, 3, 1, 9, 3, 5, 2, 7, 2, 7, 5, 9, 8, 8, 1, 9, 2, 7, 2, 2, 9, 2, 7, 9, 4, 9, 8, 0, 7, 3, 7, 4, 7, 9, 3, 9, 3, 9, 4, 5, 4, 1, 8, 9, 8, 2, 8, 5, 9, 7, 6, 5, 3, 5, 4, 3, 9, 9, 9, 2, 0, 6, 9, 0, 8, 9, 8, 1, 9, 7, 2, 8, 3, 9, 3, 3, 9, 4, 5, 2, 7, 5, 2, 9, 2, 2, 7, 4, 8, 2, 2, 5, 9, 4, 9, 5, 2, 9, 3, 9, 0, 9, 3, 2, 9, 7, 2, 7, 7, 8, 9, 4, 2, 8, 2, 4, 9, 9, 0, 9, 4, 9, 3, 5, 2, 8, 3, 4, 7, 9, 9, 4, 3, 9, 2, 2, 2, 1, 6, 3, 2, 9, 5, 2, 0, 5, 9, 2, 3, 5, 2, 9, 0, 7, 0, 9, 2, 3, 7, 1, 6, 3, 9, 9, 3, 4, 2, 9, 7, 6, 2, 3, 3, 3, 2, 6, 5, 3, 3, 1, 8, 8, 9, 2, 3, 2, 5, 2, 3, 9, 7, 9, 7, 5, 2, 5, 9, 6, 5, 9, 1, 9, 9, 5, 2, 2, 9, 0, 5, 2, 5, 5, 4, 3, 2, 3, 7, 9, 5, 8, 3, 7, 6, 3, 5, 5, 9, 9, 8, 2, 5, 9, 3, 5, 5, 5, 9, 2, 6, 9, 9, 9, 4, 8, 9, 4, 9, 8, 1, 7, 5, 3, 9, 9, 3, 8, 4, 1, 7, 4, 3, 7, 5, 9, 4, 8, 3, 8, 4, 9, 8, 1, 8, 9, 7, 9, 2, 8, 2, 7, 3, 9, 6, 7, 5, 9, 8, 8, 0, 9, 3, 4, 0, 2, 8, 5, 8, 3, 4, 9, 2, 5, 7, 9, 5, 1, 8, 7, 3, 8, 2, 5, 3, 5, 5, 9, 3, 7, 9, 3, 0, 3, 0, 3, 9, 9, 8, 3, 5, 5, 2, 3, 3, 5, 3, 2, 7, 3, 7, 3, 2, 2, 0, 0, 2, 9, 6, 8, 5, 5, 9, 3, 9, 8, 3, 3, 5, 5, 5, 7, 9, 8, 5, 6, 3, 2, 1, 7, 4, 5, 6, 3, 9, 2, 3, 9, 5, 8, 4, 2, 7, 9, 5, 3, 7, 4, 9, 5, 9, 9, 1, 1, 9, 8, 9, 8, 5, 3, 5, 9, 9, 6, 5, 5, 8, 6, 1, 2, 3, 9, 2, 8, 6, 1, 7, 8, 3, 5, 5, 9, 8, 8, 8, 5, 5, 9, 3, 4, 6, 2, 2, 3, 6, 9, 2, 7, 4, 0, 5, 5, 0, 9, 7, 8, 2, 9, 2, 2, 8, 2, 1, 8, 5, 5, 2, 8, 1, 9, 9, 8, 2, 5, 8, 7, 2, 9, 1, 6, 2, 3, 8, 2, 3, 2, 3, 8, 8, 7, 2, 2, 1, 3, 8, 8, 2, 4, 5, 5, 3, 5, 9, 9, 9, 9, 3, 2, 2, 8, 5, 3, 5, 2, 9, 2, 3, 6, 1, 2, 6, 6, 8, 5, 4, 7, 7, 9, 5, 8, 2, 5, 9, 9, 2, 7, 9, 7, 8, 1, 9, 2, 8, 4, 8, 3, 3, 6, 4, 2, 0, 1, 2, 4, 2, 5, 3, 5, 8, 8, 1, 8, 5, 5, 9, 0, 9, 4, 5, 8, 3, 4, 8, 6, 5, 9, 3, 2, 7, 2, 2, 5, 4, 9, 5, 2, 3, 0, 2, 5, 4, 9, 2, 7, 3, 3, 9, 9, 6, 8, 9, 5, 2, 3, 5, 9, 3, 2, 8, 8, 9, 2, 3, 2, 2, 9, 5, 3, 3, 9, 5, 4, 4, 3, 1, 4, 8, 6, 5, 1, 6, 8, 5, 6, 2, 2, 2, 2, 3, 1, 6, 3, 9, 3, 7, 3, 9, 2, 3, 8, 6, 3, 7, 6, 8, 3, 7, 1, 9, 2, 5, 6, 5, 6, 1, 9, 8, 4, 3, 8, 9, 9, 2, 8, 5, 4, 3, 8, 3, 3, 2, 6, 4, 9, 9, 5, 7, 7, 4, 8, 2, 4, 3, 1, 1, 2, 4, 4, 8, 8, 8, 3, 9, 7, 8, 0, 9, 9, 9, 8, 1, 9, 2, 4, 1, 2, 2, 5, 2, 6, 2, 5, 8, 4, 7, 9, 5, 5, 4, 7, 8, 9, 5, 6, 6, 3, 7, 3, 9, 3, 7, 0, 9, 5, 3, 6, 4, 9, 4, 9, 5, 1, 7, 7, 6, 3, 4, 7, 5, 9, 8, 5, 5, 8, 7, 8, 9, 2, 3, 5, 9, 4, 7, 1, 1, 6, 9, 2, 3, 7, 3, 5, 9, 9, 9, 8, 9, 5, 4, 8, 5, 4, 9, 7, 3, 2, 4, 4, 4, 9, 3, 2, 2, 1, 1, 8, 7, 4, 4, 6, 9, 4, 6, 9, 7, 7, 5, 7, 3, 5, 8, 8, 5, 3, 7, 6, 3, 5, 8, 2, 9, 6, 6, 5, 8, 8, 8, 3, 8, 7, 4, 9, 8, 0, 9, 2, 6, 2, 8, 0, 5, 9, 9, 1, 3, 7, 3, 2, 9, 3, 8, 8, 5, 4, 0, 7, 4, 8, 7, 4, 4, 3, 4, 1, 6, 8, 4, 8, 3, 3, 4, 8, 2, 8, 6, 2, 4, 3, 4, 7, 2, 7, 5, 1, 2, 4, 9, 8, 9, 4, 6, 7, 8, 3, 7, 7, 2, 9, 5, 3, 2, 5, 5, 8, 8, 3, 0, 5, 2, 5, 5, 5, 3, 3, 6, 5, 3, 9, 4, 7, 7, 2, 7, 4, 5, 5, 2, 9, 7, 9, 9, 5, 4, 2, 1, 3, 7, 7, 3, 8, 6, 9, 3, 2, 5, 1, 9, 4, 3, 2, 8, 9, 3, 3, 7, 2, 7, 9, 9, 4, 4, 9, 2, 3, 2, 2, 8, 9, 3, 2, 6, 7, 5, 1, 2, 9, 7, 9, 9, 7, 5, 9, 4, 8, 5, 3, 6, 6, 4, 2, 9, 3, 1, 5, 5, 7, 4, 4, 7, 3, 8, 9, 7, 3, 2, 9, 6, 5, 9, 8, 3, 5, 2, 7, 7, 9, 1, 7, 9, 2, 2, 9, 5, 2, 8, 3, 9, 5, 5, 9, 1, 0, 4, 2, 9, 1, 4, 2, 4, 8, 9, 9, 4, 5, 3, 6, 9, 8, 5, 3, 9, 3, 3, 3, 5, 0, 6, 3, 4, 8, 9, 3, 0, 7, 1, 7, 2, 2, 6, 5, 0, 3, 8, 9, 5, 9, 2, 2, 7, 2, 3, 7, 9, 0, 9, 2, 2, 7, 2, 0, 4, 6, 4, 9, 9, 3, 9, 2, 4, 2, 2, 9, 5, 4, 6, 3, 1, 2, 5, 1, 5, 2, 3, 3, 9, 3, 5, 4, 3, 8, 3, 3, 3, 9, 5, 4, 0, 8, 3, 8, 2, 2, 3, 9, 4, 8, 2, 3, 3, 9, 6, 5, 3, 6, 5, 9, 2, 2, 8, 6, 3, 9, 9, 2, 5, 3, 4, 5, 8, 8, 1, 7, 5, 7, 3, 8, 3, 0, 2, 5, 9, 7, 2, 8, 2, 9, 8, 5, 7, 4, 1, 3, 4, 4, 9, 6, 4, 7, 3, 2, 6, 9, 5, 3, 9, 7, 1, 5, 5, 8, 2, 2, 9, 7, 2, 9, 8, 9, 8, 2, 2, 3, 2, 4, 2, 4, 8, 6, 5, 5, 6, 8, 8, 5, 9, 3, 7, 7, 9, 6, 2, 0, 8, 2, 7, 5, 8, 8, 3, 9, 9, 9, 2, 1, 3, 1, 1, 5, 9, 0, 3, 9, 0, 7, 9, 7, 5, 8, 8, 6, 8, 5, 9, 7, 0, 3, 3, 5, 3, 9, 0, 6, 3, 4, 6, 9, 9, 5, 9, 9, 6, 8, 3, 3, 9, 3, 2, 4, 8, 3, 3, 2, 3, 0, 0, 5, 7, 9, 7, 9, 7, 3, 6, 8, 0, 2, 4, 7, 3, 0, 3, 9, 1, 7, 5, 4, 9, 7, 3, 2, 7, 2, 8, 4, 4, 9, 3, 1, 9, 9, 2, 5, 2, 5, 0, 4, 2, 6, 5, 1, 3, 7, 9, 3, 2, 9, 9, 4, 7, 7, 7, 1, 2, 2, 0, 2, 8, 3, 8, 2, 8, 4, 8, 5, 9, 9, 4, 2, 3, 9, 2, 6, 2, 7, 4, 9, 3, 5, 2, 3, 8, 8, 7, 3, 3, 5, 9, 3, 7, 9, 4, 3, 2, 5, 2, 8, 3, 3, 6, 8, 3, 2, 2, 5, 5, 5, 9, 5, 1, 5, 2, 9, 8, 4, 9, 2, 2, 7, 9, 3, 3, 7, 0, 5, 9, 4, 8, 5, 9, 2, 3, 4, 8, 4, 7, 9, 5, 9, 5, 8, 9, 2, 8, 6, 3, 2, 3, 4, 9, 2, 0, 2, 5, 9, 3, 9, 7, 8, 1, 0, 9, 3, 4, 7, 8, 8, 8, 9, 9, 3, 7, 9, 9, 3, 9, 3, 9, 3, 3, 7, 4, 3, 7, 3, 8, 2, 2, 3, 3, 1, 2, 2, 5, 5, 2, 2, 7, 3, 6, 3, 2, 5, 5, 9, 7, 5, 7, 6, 5, 9, 3, 8, 7, 5, 7, 5, 9, 1, 3, 8, 7, 7, 5, 5, 8, 2, 5, 4, 5, 2, 3, 2, 8, 5, 1, 9, 7, 7, 1, 9, 6, 9, 5, 4, 2, 7, 1, 5, 7, 1, 8, 5, 5, 6, 7, 8, 1, 3, 4, 1, 9, 5, 2, 1, 0, 7, 3, 1, 1, 1, 7, 3, 3, 5, 7, 5, 7, 2, 3, 2, 4, 3, 5, 7, 1, 3, 5, 1, 7, 3, 3, 5, 8, 3, 5, 8, 9, 3, 2, 7, 7, 6, 8, 7, 8, 5, 3, 4, 8, 2, 4, 9, 2, 1, 2, 7, 6, 6, 3, 0, 1, 9, 1, 3, 8, 2, 8, 3, 5, 9, 2, 9, 9, 4, 4, 6, 5, 2, 8, 5, 9, 8, 1, 5, 4, 3, 6, 1, 3, 3, 5, 3, 8, 3, 2, 4, 7, 3, 8, 3, 1, 4, 6, 4, 4, 5, 3, 3, 0, 9, 2, 7, 7, 9, 5, 1, 4, 5, 5, 2, 8, 9, 5, 6, 2, 9, 3, 3, 9, 9, 4, 7, 1, 7, 3, 8, 5, 9, 4, 9, 3, 5, 2, 0, 3, 6, 2, 9, 2, 4, 5, 9, 3, 3, 9, 8, 2, 3, 1, 5, 8, 9, 1, 0, 3, 9, 9, 7, 9, 2, 4, 9, 3, 4, 9, 2, 4, 2, 9, 9, 9, 8, 2, 2, 8, 8, 2, 9, 6, 8, 3, 1, 9, 9, 6, 2, 7, 9, 7, 9, 9, 7, 5, 2, 2, 6, 8, 7, 5, 8, 9, 9, 4, 5, 9, 3, 3, 3, 8, 3, 6, 5, 8, 3, 6, 3, 7, 3, 2, 7, 3, 3, 2, 9, 5, 9, 9, 2, 7, 1, 5, 3, 9, 6, 3, 5, 1, 5, 7, 1, 1, 5, 8, 3, 3, 2, 7, 6, 8, 7, 3, 6, 1, 4, 6, 0, 3, 9, 7, 8, 9, 4, 3, 8, 2, 2, 2, 8, 5, 9, 2, 5, 5, 3, 4, 9, 3, 3, 9, 5, 3, 9, 7, 6, 3, 1, 3, 2, 9, 8, 2, 9, 4, 3, 7, 7, 9, 6, 8, 9, 7, 3, 3, 7, 6, 6, 3, 3, 7, 4, 7, 7, 2, 2, 9, 2, 5, 0, 2, 3, 9, 0, 9, 3, 9, 3, 4, 4, 8, 7, 9, 9, 1, 3, 9, 7, 2, 3, 4, 8, 2, 4, 7, 5, 9, 7, 9, 3, 8, 1, 5, 3, 7, 3, 6, 3, 6, 2, 9, 3, 5, 3, 8, 8, 3, 3, 3, 4, 7, 3, 4, 9, 3, 3, 8, 5, 3, 8, 8, 6, 8, 4, 3, 1, 7, 2, 5, 5, 9, 5, 1, 3, 9, 8, 4, 7, 3, 9, 3, 4, 8, 9, 3, 8, 8, 8, 0, 9, 2, 4, 6, 4, 2, 5, 8, 8, 0, 8, 9, 5, 8, 8, 3, 0, 4, 5, 5, 0, 3, 3, 2, 2, 2, 3, 5, 6, 5, 6, 1, 2, 9, 4, 5, 9, 2, 7, 0, 5, 9, 4, 7, 7, 5, 0, 9, 7, 6, 8, 1, 4, 4, 9, 2, 9, 2, 8, 7, 9, 8, 9, 7, 9, 1, 3, 3, 9, 3, 8, 9, 2, 4, 8, 4, 9, 5, 3, 3, 4, 7, 2, 8, 8, 3, 7, 7, 7, 3, 8, 7, 5, 3, 5, 7, 3, 9, 0, 4, 7, 7, 1, 7, 7, 8, 7, 2, 9, 9, 8, 8, 2, 5, 7, 8, 0, 2, 2, 2, 2, 2, 8, 9, 3, 3, 4, 2, 5, 4, 9, 8, 3, 2, 5, 9, 9, 5, 3, 9, 8, 7, 3, 9, 2, 5, 7, 8, 1, 3, 4, 2, 2, 3, 2, 2, 8, 1, 3, 5, 7, 2, 5, 4, 7, 0, 5, 8, 7, 9, 8, 9, 8, 9, 8, 0, 5, 0, 2, 9, 7, 9, 6, 6, 9, 1, 5, 3, 4, 9, 7, 4, 9, 9, 8, 3, 3, 3, 7, 6, 4, 1, 6, 0, 2, 1, 2, 2, 6, 8, 2, 4, 5, 4, 2, 4, 2, 2, 6, 8, 5, 5, 6, 9, 2, 3, 2, 6, 3, 3, 0, 3, 2, 2, 5, 7, 2, 2, 3, 9, 3, 9, 3, 0, 8, 8, 9, 0, 5, 6, 3, 7, 2, 7, 8, 3, 7, 2, 3, 8, 5, 6, 2, 2, 0, 4, 9, 9, 7, 2, 2, 4, 8, 3, 2, 5, 2, 7, 8, 4, 7, 3, 7, 3, 6, 4, 4, 3, 7, 1, 7, 5, 9, 8, 8, 7, 3, 9, 2, 5, 7, 9, 2, 1, 8, 3, 7, 2, 1, 7, 9, 4, 3, 5, 2, 3, 3, 4, 9, 4, 3, 3, 3, 4, 6, 1, 4, 3, 1, 9, 2, 6, 2, 4, 2, 2, 3, 7, 7, 6, 3, 7, 6, 9, 4, 3, 5, 5, 0, 6, 5, 8, 5, 3, 9, 7, 9, 7, 3, 1, 3, 3, 2, 5, 6, 4, 2, 5, 9, 2, 9, 5, 7, 6, 6, 5, 3, 9, 8, 1, 2, 3, 8, 6, 2, 7, 2, 3, 8, 7, 7, 9, 9, 9, 2, 4, 9, 7, 2, 3, 6, 3, 4, 8, 9, 8, 6, 3, 2, 8, 9, 2, 7, 2, 1, 5, 8, 9, 3, 4, 2, 8, 9, 2, 2, 9, 8, 3, 5, 8, 8, 3, 3, 2, 7, 9, 9, 5, 6, 5, 5, 5, 4, 3, 1, 1, 3, 1, 4, 3, 1, 3, 2, 5, 5, 2, 4, 6, 7, 8, 2, 2, 0, 9, 9, 0, 9, 2, 9, 1, 8, 8, 8, 7, 9, 3, 0, 2, 2, 5, 8, 9, 3, 3, 4, 8, 8, 7, 2, 5, 2, 9, 0, 8, 7, 3, 3, 2, 1, 4, 9, 8, 2, 3, 1, 4, 3, 5, 9, 7, 7, 3, 2, 6, 8, 4, 7, 2, 0, 3, 8, 9, 5, 3, 5, 3, 2, 4, 7, 7, 6, 8, 5, 7, 6, 7, 7, 3, 3, 2, 3, 6, 4, 3, 4, 9, 5, 6, 2, 6, 1, 3, 4, 8, 8, 3, 2, 5, 5, 3, 0, 2, 3, 2, 4, 6, 7, 5, 3, 3, 3, 7, 2, 9, 3, 6, 2, 9, 3, 3, 0, 2, 4, 9, 9, 2, 8, 6, 8, 8, 6, 8, 7, 5, 9, 6, 2, 2, 2, 0, 2, 3, 2, 7, 2, 9, 4, 1, 3, 3, 3, 2, 8, 8, 9, 5, 9, 8, 6, 8, 5, 3, 4, 7, 4, 3, 4, 2, 3, 3, 3, 5, 0, 3, 2, 8, 3, 3, 2, 6, 1, 9, 4, 8, 0, 9, 9, 9, 4, 8, 3, 9, 5, 3, 1, 9, 3, 7, 9, 8, 8, 7, 8, 1, 5, 3, 2, 7, 2, 7, 8, 5, 5, 2, 3, 3, 0, 9, 3, 4, 6, 4, 3, 3, 3, 5, 7, 4, 8, 4, 2, 9, 5, 7, 6, 9, 8, 3, 4, 5, 0, 3, 3, 4, 5, 9, 4, 9, 2, 7, 4, 6, 9, 0, 8, 5, 5, 9, 9, 8, 0, 3, 2, 2, 2, 8, 4, 6, 5, 8, 5, 6, 9, 7, 6, 0, 7, 4, 9, 3, 5, 2, 5, 8, 7, 2, 0, 3, 5, 4, 3, 9, 2, 2, 3, 3, 8, 5, 5, 3, 8, 8, 2, 1, 7, 9, 7, 3, 3, 1, 3, 9, 2, 1, 0, 4, 9, 3, 7, 4, 9, 2, 3, 9, 7, 0, 5, 9, 4, 7, 3, 8, 3, 6, 0, 8, 3, 3, 7, 3, 3, 4, 5, 2, 9, 3, 8, 1, 7, 7, 7, 5, 9, 5, 8, 4, 3, 7, 8, 3, 5, 5, 0, 2, 7, 0, 2, 3, 8, 1, 3, 6, 7, 6, 2, 3, 9, 8, 9, 2, 1, 3, 0, 2, 8, 5, 4, 1, 3, 8, 0, 7, 5, 8, 9, 3, 4, 6, 2, 5, 3, 2, 5, 3, 2, 7, 2, 8, 7, 5, 4, 7, 3, 0, 8, 3, 8, 6, 8, 9, 3, 6, 9, 8, 5, 5, 8, 8, 5, 2, 1, 8, 4, 1, 5, 9, 9, 4, 3, 9, 3, 9, 2, 9, 5, 3, 3, 4, 8, 3, 7, 3, 8, 6, 5, 8, 5, 9, 1, 2, 1, 3, 8, 6, 9, 3, 3, 2, 9, 1, 3, 7, 9, 5, 2, 5, 3, 9, 6, 1, 3, 7, 3, 3, 2, 7, 6, 3, 9, 3, 8, 8, 7, 3, 3, 2, 7, 2, 4, 5, 9, 3, 6, 3, 0, 0, 7, 3, 3, 3, 2, 2, 8, 3, 3, 9, 7, 2, 2, 3, 8, 9, 9, 3, 2, 5, 9, 6, 3, 9, 3, 7, 6, 3, 8, 2, 7, 2, 9, 3, 7, 2, 9, 2, 9, 7, 2, 1, 8, 3, 3, 9, 3, 8, 5, 2, 7, 2, 2, 8, 3, 5, 9, 7, 4, 7, 9, 9, 8, 2, 8, 4, 5, 0, 9, 9, 8, 2, 3, 3, 8, 8, 8, 3, 6, 5, 3, 9, 3, 5, 2, 8, 9, 9, 2, 9, 9, 2, 9, 8, 3, 9, 7, 3, 8, 5, 5, 9, 9, 9, 6, 2, 2, 3, 3, 3, 3, 9, 4, 9, 4, 5, 2, 9, 7, 3, 5, 2, 5, 9, 5, 2, 8, 7, 3, 7, 4, 7, 9, 4, 9, 9, 5, 2, 2, 3, 3, 6, 7, 3, 8, 0, 1, 4, 4, 3, 2, 4, 8, 1, 9, 2, 9, 2, 2, 7, 6, 2, 6, 3, 9, 9, 5, 3, 7, 3, 3, 3, 9, 5, 9, 5, 9, 1, 9, 3, 2, 3, 2, 3, 3, 7, 9, 4, 7, 9, 9, 7, 7, 3, 4, 9, 9, 1, 3, 9, 7, 0, 5, 2, 6, 3, 8, 5, 8, 9, 2, 4, 4, 3, 3, 3, 3, 7, 3, 9, 4, 1, 4, 0, 4, 3, 3, 7, 9, 2, 9, 6, 9, 3, 3, 3, 6, 2, 5, 2, 6, 4, 9, 9, 3, 9, 3, 4, 3, 4, 5, 1, 7, 9, 9, 9, 1, 4, 2, 5, 3, 8, 2, 3, 7, 9, 2, 4, 2, 3, 6, 8, 8, 2, 0, 6, 9, 1, 3, 8, 1, 3, 9, 6, 0, 2, 3, 2, 9, 5, 3, 6, 9, 5, 9, 9, 8, 5, 9, 3, 5, 3, 3, 4, 9, 9, 9, 8, 9, 9, 7, 5, 7, 3, 7, 7, 8, 4, 8, 9, 8, 9, 4, 9, 8, 7, 7, 2, 3, 3, 7, 7, 0, 6, 2, 2, 8, 7, 3, 9, 4, 2, 8, 8, 3, 8, 1, 3, 2, 8, 0, 3, 7, 5, 4, 2, 1, 2, 8, 6, 3, 9, 6, 4, 5, 1, 3, 3, 7, 6, 5, 3, 8, 2, 4, 3, 8, 5, 3, 8, 1, 3, 8, 9, 5, 5, 9, 7, 8, 7, 5, 9, 4, 8, 9, 2, 9, 9, 9, 8, 2, 8, 2, 9, 5, 8, 3, 0, 4, 8, 8, 3, 9, 8, 8, 7, 9, 7, 0, 5, 3, 4, 2, 5, 7, 1, 7, 5, 5, 1, 8, 6, 6, 9, 5, 2, 7, 9, 9, 4, 7, 3, 3, 5, 5, 1, 3, 2, 2, 4, 2, 6, 4, 9, 2, 7, 6, 8, 6, 9, 9, 6, 9, 0, 8, 7, 3, 3, 5, 2, 9, 7, 8, 3, 3, 3, 5, 2, 7, 6, 2, 6, 7, 7, 5, 8, 2, 8, 2, 3, 2, 0, 5, 2, 9, 9, 8, 8, 3, 5, 7, 8, 5, 7, 4, 5, 2, 8, 3, 5, 7, 3, 7, 3, 5, 8, 9, 3, 0, 8, 9, 2, 9, 7, 7, 4, 9, 3, 9, 3, 2, 4, 8, 9, 8, 7, 3, 0, 9, 9, 2, 9, 5, 1, 7, 8, 7, 9, 7, 4, 2, 9, 6, 6, 2, 9, 7, 5, 7, 8, 3, 6, 3, 5, 2, 7, 4, 7, 4, 3, 9, 7, 7, 9, 7, 3, 1, 7, 1, 4, 9, 2, 9, 3, 8, 3, 2, 2, 5, 3, 3, 9, 2, 4, 2, 9, 9, 5, 3, 3, 4, 5, 9, 8, 9, 5, 5, 3, 3, 9, 1, 8, 3, 4, 2, 7, 2, 8, 2, 0, 3, 8, 8, 3, 5, 3, 8, 7, 9, 9, 8, 3, 6, 5, 3, 4, 5, 2, 9, 4, 9, 4, 1, 2, 3, 9, 3, 5, 7, 9, 7, 2, 2, 4, 5, 2, 5, 8, 3, 4, 1, 7, 7, 4, 8, 7, 2, 5, 9, 8, 3, 2, 4, 5, 5, 2, 7, 5, 8, 8, 4, 3, 3, 5, 6, 0, 7, 3, 4, 7, 3, 5, 2, 5, 5, 2, 0, 8, 9, 9, 5, 9, 6, 3, 0, 9, 8, 9, 5, 9, 5, 4, 9, 4, 7, 8, 2, 8, 2, 1, 0, 2, 5, 5, 5, 9, 7, 9, 2, 2, 9, 2, 1, 5, 4, 9, 6, 0, 5, 1, 9, 9, 4, 8, 2, 3, 3, 5, 0, 1, 8, 9, 1, 8, 9, 9, 1, 4, 3, 7, 6, 7, 2, 7, 5, 5, 8, 6, 8, 7, 7, 6, 9, 7, 5, 8, 4, 8, 5, 4, 9, 2, 7, 4, 5, 3, 2, 3, 2, 3, 2, 9, 3, 7, 5, 9, 9, 3, 8, 9, 5, 3, 3, 6, 5, 6, 5, 3, 7, 0, 5, 9, 5, 8, 9, 8, 2, 0, 3, 5, 1, 6, 3, 9, 3, 9, 3, 3, 1, 3, 2, 9, 8, 6, 2, 3, 5, 2, 9, 9, 7, 2, 7, 5, 1, 5, 5, 7, 3, 8, 2, 4, 9, 5, 9, 4, 6, 3, 5, 9, 2, 8, 3, 9, 8, 9, 9, 2, 3, 2, 2, 3, 8, 2, 7, 3, 8, 1, 3, 1, 3, 5, 3, 2, 7, 3, 9, 2, 6, 7, 7, 2, 5, 2, 2, 2, 9, 8, 5, 5, 5, 6, 1, 3, 9, 9, 6, 7, 4, 8, 9, 3, 7, 6, 9, 6, 6, 2, 1, 9, 3, 9, 2, 5, 5, 0, 9, 8, 7, 0, 6, 2, 9, 3, 4, 4, 9, 5, 2, 2, 3, 9, 8, 5, 3, 8, 7, 8, 3, 7, 4, 2, 8, 3, 2, 1, 4, 9, 2, 0, 3, 9, 7, 9, 8, 6, 9, 1, 1, 3, 2, 2, 3, 5, 5, 9, 9, 7, 3, 4, 7, 3, 2, 7, 3, 4, 7, 8, 2, 2, 9, 2, 5, 7, 3, 5, 3, 3, 5, 2, 2, 7, 9, 3, 9, 2, 7, 7, 5, 8, 2, 2, 9, 3, 8, 8, 1, 3, 3, 5, 1, 8, 8, 6, 8, 5, 9, 3, 1, 3, 3, 2, 5, 8, 1, 7, 6, 2, 0, 3, 7, 8, 7, 1, 7, 2, 3, 9, 2, 3, 8, 4, 7, 5, 5, 8, 4, 3, 7, 0, 5, 9, 5, 8, 8, 5, 2, 9, 9, 3, 2, 9, 1, 2, 2, 6, 3, 9, 7, 5, 3, 8, 5, 9, 3, 7, 7, 8, 7, 4, 2, 0, 7, 3, 3, 9, 2, 6, 7, 7, 7, 7, 9, 3, 8, 6, 8, 9, 3, 3, 2, 5, 2, 8, 9, 3, 9, 8, 4, 3, 4, 3, 7, 0, 8, 3, 9, 5, 9, 8, 6, 4, 1, 4, 8, 4, 7, 2, 7, 7, 7, 3, 9, 5, 2, 2, 1, 7, 9, 7, 9, 0, 9, 8, 3, 7, 4, 7, 0, 3, 1, 1, 0, 8, 2, 5, 8, 5, 7, 3, 5, 9, 9, 5, 2, 1, 5, 1, 4, 5, 7, 9, 6, 5, 3, 9, 9, 3, 7, 2, 6, 2, 7, 8, 3, 9, 2, 6, 1, 2, 8, 7, 4, 8, 6, 8, 9, 3, 2, 9, 2, 7, 5, 2, 1, 3, 6, 5, 2, 6, 2, 9, 5, 1, 4, 8, 3, 3, 9, 7, 9, 7, 3, 5, 3, 8, 8, 3, 8, 3, 3, 8, 9, 7, 8, 2, 2, 3, 1, 9, 2, 4, 9, 6, 0, 2, 1, 7, 3, 9, 5, 3, 7, 9, 9, 9, 9, 0, 6, 8, 6, 0, 1, 4, 4, 7, 5, 5, 8, 5, 4, 9, 5, 2, 7, 9, 5, 9, 4, 0, 5, 9, 5, 3, 4, 6, 9, 7, 5, 5, 0, 9, 9, 2, 0, 3, 4, 0, 6, 8, 3, 3, 7, 5, 8, 7, 9, 9, 2, 9, 7, 1, 8, 2, 6, 5, 3, 9, 8, 9, 2, 7, 1, 8, 5, 4, 5, 5, 6, 2, 9, 9, 2, 2, 2, 7, 8, 7, 2, 4, 8, 9, 3, 2, 6, 7, 3, 0, 5, 7, 9, 3, 3, 9, 1, 2, 3, 6, 9, 9, 9, 1, 7, 7, 2, 3, 2, 6, 8, 5, 1, 2, 8, 2, 9, 2, 7, 3, 2, 9, 2, 4, 6, 7, 9, 8, 8, 4, 8, 8, 1, 0, 2, 8, 2, 8, 4, 2, 1, 2, 8, 6, 7, 2, 5, 2, 2, 3, 9, 5, 3, 0, 7, 3, 5, 4, 6, 8, 2, 9, 4, 6, 9, 9, 8, 2, 7, 5, 5, 3, 0, 2, 8, 5, 8, 9, 7, 7, 2, 8, 4, 8, 9, 8, 3, 3, 9, 3, 8, 2, 7, 4, 2, 4, 8, 0, 2, 2, 5, 7, 8, 9, 0, 5, 9, 8, 6, 5, 5, 3, 3, 4, 9, 4, 5, 6, 2, 1, 8, 3, 5, 9, 2, 6, 5, 7, 1, 3, 9, 5, 9, 9, 7, 9, 2, 3, 9, 5, 7, 9, 2, 7, 4, 3, 9, 3, 3, 9, 7, 2, 5, 6, 3, 7, 5, 9, 5, 8, 4, 6, 4, 4, 7, 4, 1, 9, 9, 9, 7, 5, 7, 1, 1, 3, 3, 1, 5, 9, 0, 0, 6, 6, 8, 8, 2, 5, 3, 9, 8, 2, 8, 6, 9, 5, 6, 3, 5, 1, 7, 5, 3, 2, 1, 5, 7, 0, 3, 9, 6, 3, 7, 9, 5, 8, 6, 3, 7, 5, 4, 6, 9, 5, 0, 6, 8, 0, 3, 3, 0, 9, 7, 1, 5, 7, 8, 7, 6, 3, 8, 6, 8, 9, 6, 9, 9, 5, 4, 8, 5, 2, 1, 5, 4, 1, 2, 1, 8, 2, 7, 2, 9, 2, 5, 8, 9, 3, 1, 8, 4, 8, 4, 9, 3, 2, 4, 8, 0, 4, 7, 8, 2, 5, 4, 4, 9, 8, 3, 7, 9, 8, 3, 5, 9, 8, 2, 5, 9, 8, 4, 9, 3, 2, 9, 5, 9, 9, 2, 5, 8, 2, 5, 1, 8, 3, 5, 2, 3, 2, 6, 7, 6, 7, 8, 7, 5, 2, 8, 4, 0, 2, 2, 3, 1, 3, 5, 7, 5, 3, 5, 8, 7, 4, 3, 9, 3, 8, 2, 8, 3, 9, 0, 2, 4, 1, 4, 7, 6, 7, 3, 4, 9, 8, 5, 1, 2, 1, 9, 3, 4, 7, 8, 3, 3, 5, 9, 4, 7, 7, 6, 5, 1, 9, 8, 3, 7, 6, 3, 3, 3, 9, 6, 6, 7, 7, 3, 7, 9, 6, 3, 4, 8, 3, 3, 6, 1, 9, 2, 2, 9, 3, 9, 5, 9, 4, 5, 3, 3, 3, 7, 7, 6, 6, 4, 0, 0, 9, 5, 9, 5, 9, 9, 7, 4, 3, 6, 5, 5, 4, 3, 9, 9, 9, 2, 2, 3, 6, 1, 9, 2, 8, 0, 9, 3, 1, 2, 6, 8, 7, 3, 2, 4, 5, 9, 3, 7, 2, 3, 2, 1, 7, 5, 3, 2, 7, 3, 9, 7, 9, 4, 5, 9, 3, 2, 4, 7, 3, 3, 2, 2, 1, 2, 2, 5, 2, 8, 2, 8, 2, 2, 3, 7, 8, 6, 7, 1, 1, 8, 4, 9, 8, 9, 5, 7, 8, 9, 5, 9, 3, 3, 2, 1, 4, 6, 3, 3, 4, 2, 6, 3, 5, 5, 4, 9, 3, 9, 6, 4, 2, 9, 3, 6, 3, 2, 6, 9, 7, 5, 9, 9, 9, 7, 7, 3, 9, 5, 9, 9, 4, 3, 7, 3, 0, 8, 6, 2, 8, 8, 1, 8, 2, 5, 6, 8, 2, 3, 2, 9, 9, 7, 4, 3, 3, 9, 9, 3, 3, 2, 9, 7, 2, 4, 3, 2, 4, 8, 7, 9, 2, 9, 7, 2, 7, 9, 8, 3, 4, 8, 8, 9, 9, 9, 4, 5, 9, 6, 3, 5, 7, 7, 8, 2, 3, 4, 2, 9, 8, 7, 9, 1, 7, 1, 1, 4, 2, 5, 8, 1, 3, 5, 7, 9, 4, 7, 8, 6, 5, 9, 9, 2, 7, 3, 5, 4, 7, 9, 4, 5, 8, 3, 9, 7, 3, 9, 3, 9, 7, 3, 5, 3, 2, 6, 8, 3, 7, 5, 8, 7, 5, 7, 8, 9, 6, 2, 5, 2, 4, 3, 7, 5, 3, 9, 5, 7, 9, 5, 3, 3, 2, 5, 4, 9, 4, 4, 7, 6, 2, 6, 8, 5, 7, 7, 3, 5, 8, 3, 3, 5, 3, 0, 8, 2, 5, 2, 0, 9, 9, 8, 4, 3, 1, 1, 6, 0, 7, 4, 8, 9, 4, 8, 7, 8, 9, 2, 7, 5, 7, 3, 2, 3, 5, 8, 4, 9, 0, 9, 8, 9, 4, 3, 9, 5, 9, 3, 9, 0, 9, 7, 8, 6, 4, 1, 2, 5, 3, 8, 2, 8, 6, 8, 9, 7, 2, 3, 7, 5, 7, 4, 9, 8, 8, 9, 5, 0, 7, 2, 7, 2, 3, 9, 9, 3, 3, 8, 3, 3, 6, 2, 5, 4, 2, 5, 9, 2, 2, 9, 6, 2, 1, 7, 9, 2, 1, 3, 5, 5, 4, 7, 2, 3, 8, 3, 9, 8, 2, 2, 2, 9, 2, 3, 5, 7, 9, 6, 3, 5, 7, 3, 5, 4, 7, 8, 2, 5, 9, 4, 5, 9, 3, 7, 3, 9, 9, 6, 3, 6, 9, 3, 5, 9, 0, 5, 8, 1, 3, 5, 9, 9, 4, 9, 4, 3, 5, 9, 8, 4, 9, 3, 1, 2, 4, 1, 7, 3, 8, 6, 9, 9, 2, 7, 1, 8, 5, 8, 8, 2, 8, 3, 3, 9, 6, 8, 4, 3, 3, 1, 9, 1, 7, 2, 7, 7, 3, 3, 1, 2, 1, 1, 8, 3, 8, 3, 3, 3, 2, 3, 4, 2, 3, 5, 4, 4, 9, 1, 3, 9, 1, 6, 9, 3, 3, 2, 0, 1, 6, 3, 7, 2, 7, 9, 8, 1, 8, 4, 3, 7, 4, 6, 3, 5, 5, 3, 9, 4, 7, 8, 8, 3, 5, 5, 1, 3, 9, 4, 2, 0, 2, 7, 3, 8, 2, 2, 0, 9, 9, 8, 3, 0, 7, 8, 5, 7, 9, 9, 5, 1, 7, 3, 2, 9, 5, 2, 5, 4, 8, 4, 9, 9, 7, 1, 8, 8, 2, 8, 9, 2, 9, 2, 5, 8, 8, 9, 2, 4, 7, 3, 6, 8, 5, 9, 9, 2, 8, 6, 3, 8, 4, 2, 3, 3, 1, 8, 5, 9, 2, 2, 3, 5, 3, 4, 9, 6, 2, 6, 2, 7, 8, 6, 2, 7, 2, 3, 7, 8, 7, 3, 3, 7, 9, 5, 4, 2, 9, 7, 3, 9, 5, 7, 5, 3, 4, 7, 9, 4, 3, 5, 4, 5, 2, 2, 8, 6, 3, 4, 2, 3, 1, 7, 5, 3, 7, 7, 9, 9, 8, 3, 8, 8, 9, 7, 3, 3, 5, 7, 8, 2, 5, 8, 6, 9, 4, 9, 8, 4, 3, 8, 3, 9, 4, 8, 3, 3, 2, 2, 5, 3, 8, 5, 5, 5, 6, 7, 2, 5, 1, 8, 7, 3, 1, 1, 7, 3, 9, 3, 9, 7, 8, 8, 5, 5, 9, 5, 7, 9, 1, 9, 5, 5, 3, 4, 6, 1, 4, 9, 2, 3, 2, 9, 2, 9, 5, 3, 5, 7, 7, 8, 8, 2, 4, 4, 4, 7, 3, 9, 5, 3, 3, 9, 3, 9, 2, 7, 7, 1, 9, 3, 9, 1, 5, 8, 8, 5, 7, 5, 7, 2, 3, 3, 4, 2, 3, 4, 1, 2, 7, 9, 8, 5, 4, 7, 5, 2, 7, 3, 2, 9, 3, 3, 2, 8, 9, 3, 7, 3, 6, 9, 1, 8, 3, 4, 3, 8, 1, 5, 0, 2, 3, 8, 9, 9, 6, 4, 3, 9, 1, 8, 3, 3, 3, 5, 6, 0, 3, 7, 8, 9, 3, 2, 2, 3, 3, 2, 7, 2, 4, 7, 2, 3, 8, 6, 7, 1, 8, 8, 2, 1, 4, 7, 7, 9, 6, 3, 9, 8, 5, 9, 2, 2, 6, 7, 7, 7, 2, 8, 4, 3, 8, 3, 9, 2, 4, 8, 4, 5, 2, 7, 9, 3, 9, 9, 2, 1, 1, 8, 7, 4, 5, 8, 9, 2, 3, 1, 2, 1, 4, 9, 1, 4, 9, 2, 3, 2, 5, 5, 8, 2, 5, 3, 6, 2, 8, 4, 9, 5, 2, 7, 8, 2, 5, 3, 2, 4, 5, 3, 3, 6, 3, 7, 8, 3, 2, 9, 6, 3, 0, 2, 9, 9, 3, 7, 9, 3, 2, 7, 3, 4, 5, 5, 8, 5, 4, 8, 8, 4, 7, 7, 3, 1, 4, 2, 8, 2, 5, 5, 2, 2, 7, 6, 8, 5, 5, 3, 9, 5, 8, 0, 3, 3, 9, 2, 3, 5, 6, 7, 7, 9, 6, 3, 3, 7, 9, 4, 3, 1, 7, 7, 9, 9, 8, 3, 3, 2, 3, 3, 7, 8, 4, 5, 5, 8, 9, 4, 9, 6, 3, 1, 6, 9, 2, 2, 3, 3, 4, 6, 1, 6, 7, 6, 8, 8, 7, 1, 2, 7, 7, 9, 8, 5, 3, 9, 6, 9, 8, 2, 9, 2, 7, 5, 9, 1, 0, 3, 2, 1, 2, 9, 2, 2, 8, 2, 5, 2, 9, 2, 5, 3, 2, 2, 5, 1, 2, 8, 5, 1, 7, 9, 9, 2, 2, 1, 9, 5, 2, 8, 3, 5, 5, 9, 9, 9, 3, 7, 2, 9, 2, 6, 9, 5, 2, 8, 4, 5, 7, 2, 6, 8, 2, 0, 7, 8, 2, 6, 7, 5, 3, 9, 6, 0, 6, 3, 7, 7, 2, 7, 4, 9, 9, 1, 1, 9, 5, 9, 9, 9, 9, 8, 1, 7, 3, 4, 4, 9, 8, 2, 3, 5, 7, 4, 2, 3, 9, 2, 8, 8, 6, 8, 3, 3, 7, 8, 8, 6, 8, 3, 2, 7, 8, 9, 7, 9, 4, 3, 4, 7, 3, 2, 3, 5, 5, 3, 8, 9, 8, 3, 9, 5, 9, 0, 8, 2, 6, 6, 9, 7, 9, 5, 7, 1, 1, 9, 3, 9, 8, 7, 3, 9, 4, 8, 5, 4, 6, 3, 8, 2, 8, 3, 8, 4, 9, 9, 5, 7, 3, 5, 3, 4, 3, 3, 7, 6, 1, 1, 5, 9, 9, 9, 7, 3, 8, 9, 8, 9, 7, 2, 8, 4, 9, 7, 2, 9, 1, 4, 6, 2, 8, 8, 2, 5, 7, 3, 6, 2, 4, 9, 4, 4, 0, 3, 9, 4, 3, 7, 5, 3, 6, 7, 8, 6, 7, 5, 0, 5, 9, 8, 1, 1, 3, 5, 4, 3, 6, 3, 2, 3, 5, 9, 7, 7, 5, 3, 4, 7, 9, 7, 3, 7, 8, 4, 6, 9, 5, 6, 2, 1, 2, 1, 6, 7, 9, 1, 7, 5, 5, 4, 7, 5, 9, 9, 4, 9, 3, 9, 4, 0, 2, 1, 9, 5, 3, 3, 8, 9, 2, 5, 9, 8, 5, 8, 9, 9, 9, 9, 3, 3, 2, 3, 6, 7, 2, 3, 5, 7, 5, 8, 2, 9, 8, 3, 3, 2, 3, 6, 9, 1, 3, 9, 2, 4, 9, 5, 4, 7, 4, 1, 7, 7, 2, 7, 4, 3, 8, 8, 3, 9, 9, 5, 5, 8, 4, 1, 3, 4, 9, 1, 9, 1, 7, 8, 2, 9, 4, 7, 6, 5, 4, 9, 4, 4, 7, 2, 7, 8, 7, 0, 9, 6, 9, 8, 7, 2, 4, 5, 2, 3, 9, 6, 8, 2, 7, 9, 9, 1, 3, 2, 9, 9, 8, 9, 9, 8, 9, 7, 0, 1, 7, 3, 5, 8, 4, 9, 5, 4, 4, 8, 7, 8, 3, 9, 2, 6, 3, 5, 4, 2, 5, 7, 8, 9, 0, 3, 2, 4, 2, 1, 2, 8, 6, 1, 3, 4, 3, 5, 3, 8, 5, 2, 4, 2, 7, 3, 8, 6, 8, 2, 8, 4, 6, 5, 8, 9, 2, 4, 6, 2, 3, 9, 4, 8, 7, 7, 8, 7, 5, 6, 2, 4, 9, 8, 3, 3, 5, 7, 9, 3, 0, 6, 4, 2, 2, 2, 2, 7, 9, 6, 1, 2, 3, 2, 6, 8, 5, 8, 5, 8, 9, 4, 5, 1, 4, 4, 3, 4, 2, 8, 5, 3, 8, 4, 5, 1, 5, 9, 2, 8, 9, 9, 2, 5, 4, 9, 7, 7, 4, 3, 4, 3, 5, 7, 9, 5, 1, 7, 9, 5, 9, 3, 4, 3, 9, 5, 9, 2, 3, 8, 9, 9, 7, 2, 3, 9, 7, 9, 8, 9, 3, 7, 3, 2, 5, 0, 9, 0, 3, 6, 6, 2, 7, 9, 2, 9, 6, 1, 7, 3, 3, 8, 5, 2, 2, 8, 7, 1, 5, 2, 2, 3, 3, 4, 9, 7, 3, 4, 4, 3, 5, 3, 9, 3, 3, 3, 4, 2, 5, 3, 9, 5, 1, 3, 5, 6, 7, 7, 2, 9, 5, 3, 4, 2, 2, 8, 8, 9, 2, 9, 2, 3, 7, 4, 7, 9, 1, 9, 3, 9, 9, 8, 9, 9, 5, 3, 3, 5, 8, 8, 3, 3, 5, 6, 9, 5, 5, 2, 3, 8, 4, 4, 3, 2, 2, 8, 7, 5, 1, 2, 8, 1, 6, 4, 9, 1, 9, 5, 9, 3, 3, 7, 3, 6, 4, 9, 4, 9, 3, 1, 8, 3, 9, 8, 4, 4, 5, 4, 8, 3, 6, 9, 9, 9, 5, 3, 8, 7, 7, 9, 6, 6, 5, 3, 9, 3, 8, 0, 9, 1, 2, 4, 2, 8, 2, 9, 5, 4, 7, 5, 7, 4, 2, 7, 0, 1, 2, 3, 1, 9, 8, 5, 7, 8, 9, 9, 6, 2, 6, 2, 6, 9, 4, 0, 3, 5, 1, 3, 3, 3, 2, 9, 5, 5, 7, 2, 2, 5, 8, 0, 7, 3, 9, 3, 7, 1, 9, 5, 9, 7, 5, 9, 2, 3, 3, 7, 4, 5, 2, 3, 3, 2, 6, 9, 6, 5, 5, 1, 9, 8, 5, 6, 7, 2, 8, 3, 9, 3, 7, 2, 3, 5, 6, 3, 1, 5, 7, 9, 4, 1, 9, 5, 5, 1, 5, 9, 4, 2, 3, 9, 8, 7, 9, 7, 9, 8, 5, 9, 3, 3, 3, 9, 4, 6, 3, 2, 7, 1, 6, 4, 8, 5, 7, 9, 5, 7, 4, 5, 3, 6, 9, 6, 6, 9, 4, 7, 8, 3, 2, 8, 5, 7, 8, 3, 2, 9, 7, 6, 9, 5, 4, 6, 5, 6, 2, 0, 9, 9, 9, 3, 9, 2, 3, 7, 4, 9, 9, 9, 3, 1, 3, 5, 2, 2, 2, 8, 5, 4, 5, 6, 6, 3, 6, 2, 3, 5, 1, 5, 2, 6, 6, 3, 7, 3, 3, 1, 9, 3, 4, 5, 8, 8, 9, 7, 3, 2, 8, 3, 2, 7, 9, 7, 1, 3, 2, 9, 5, 3, 7, 9, 9, 9, 9, 6, 4, 4, 7, 2, 4, 4, 7, 9, 8, 2, 2, 5, 5, 8, 2, 9, 9, 6, 3, 4, 2, 7, 7, 7, 7, 3, 5, 2, 8, 9, 2, 3, 3, 5, 9, 8, 3, 9, 8, 5, 4, 3, 2, 9, 2, 3, 9, 8, 8, 2, 9, 3, 8, 3, 3, 9, 9, 2, 3, 9, 9, 2, 5, 3, 8, 1, 2, 9, 4, 3, 7, 8, 3, 3, 3, 8, 7, 5, 2, 4, 3, 5, 3, 6, 9, 9, 4, 3, 7, 7, 8, 5, 9, 7, 5, 7, 2, 9, 3, 6, 8, 9, 3, 8, 3, 9, 3, 3, 3, 9, 9, 5, 2, 8, 5, 9, 2, 4, 7, 7, 4, 3, 9, 5, 4, 2, 5, 7, 7, 2, 5, 6, 6, 5, 3, 5, 4, 5, 0, 4, 7, 4, 4, 1, 3, 9, 7, 8, 8, 5, 9, 2, 7, 5, 7, 9, 6, 5, 9, 8, 3, 5, 9, 4, 4, 5, 0, 1, 2, 6, 9, 3, 5, 9, 1, 0, 2, 8, 2, 3, 4, 0, 5, 7, 2, 4, 3, 7, 3, 4, 3, 9, 0, 3, 1, 3, 0, 2, 3, 9, 8, 8, 3, 0, 1, 6, 5, 9, 2, 2, 2, 7, 9, 9, 9, 4, 2, 3, 3, 4, 9, 9, 8, 7, 5, 2, 8, 8, 3, 6, 5, 9, 4, 4, 9, 8, 8, 2, 9, 7, 9, 4, 5, 9, 1, 4, 9, 4, 6, 8, 2, 1, 9, 6, 7, 5, 7, 0, 3, 3, 9, 4, 7, 6, 1, 5, 2, 8, 1, 7, 3, 4, 8, 2, 2, 8, 9, 0, 3, 2, 3, 3, 9, 5, 9, 6, 7, 5, 3, 3, 4, 5, 3, 7, 7, 8, 1, 9, 3, 8, 7, 4, 8, 1, 3, 6, 2, 5, 3, 5, 2, 8, 3, 8, 4, 5, 3, 4, 9, 4, 2, 7, 5, 9, 7, 4, 4, 3, 9, 7, 0, 8, 3, 0, 2, 7, 4, 6, 2, 4, 8, 3, 4, 5, 5, 2, 8, 9, 8, 3, 8, 2, 2, 6, 2, 5, 9, 7, 9, 5, 5, 7, 1, 8, 4, 4, 5, 2, 4, 2, 9, 7, 3, 8, 3, 5, 9, 2, 7, 9, 7, 8, 5, 7, 9, 5, 6, 7, 7, 7, 7, 2, 8, 6, 8, 4, 3, 9, 9, 3, 2, 2, 3, 5, 7, 3, 9, 9, 4, 6, 1, 5, 1, 7, 9, 2, 2, 5, 4, 8, 3, 2, 5, 1, 3, 5, 3, 4, 4, 3, 6, 9, 7, 7, 9, 4, 1, 2, 3, 9, 8, 2, 5, 9, 8, 3, 6, 9, 4, 4, 8, 9, 9, 3, 8, 2, 9, 3, 8, 3, 5, 3, 1, 2, 2, 8, 3, 1, 7, 3, 2, 9, 5, 2, 7, 5, 8, 2, 7, 8, 5, 9, 2, 5, 3, 3, 2, 0, 3, 5, 3, 7, 2, 7, 2, 8, 9, 8, 8, 8, 3, 5, 7, 5, 3, 8, 5, 5, 0, 9, 3, 2, 5, 3, 7, 3, 5, 4, 2, 3, 5, 1, 2, 7, 3, 9, 5, 5, 0, 6, 9, 4, 2, 0, 7, 9, 9, 1, 3, 5, 5, 5, 3, 8, 7, 4, 6, 3, 5, 2, 2, 7, 8, 4, 9, 3, 3, 3, 7, 8, 7, 2, 3, 7, 5, 8, 6, 4, 2, 1, 5, 3, 0, 6, 7, 4, 2, 1, 3, 6, 2, 3, 2, 2, 9, 5, 3, 6, 2, 8, 4, 4, 8, 7, 5, 1, 7, 7, 3, 3, 6, 7, 9, 9, 3, 7, 3, 4, 8, 4, 3, 7, 0, 9, 5, 2, 9, 2, 3, 2, 6, 4, 1, 3, 3, 1, 5, 6, 9, 3, 8, 6, 9, 9, 8, 7, 8, 0, 7, 3, 7, 9, 7, 2, 6, 2, 8, 2, 4, 8, 5, 7, 7, 4, 1, 8, 3, 8, 8, 2, 9, 2, 2, 9, 9, 5, 5, 9, 7, 5, 2, 9, 6, 8, 9, 7, 7, 5, 5, 2, 2, 3, 7, 3, 1, 8, 9, 9, 2, 5, 9, 3, 8, 2, 7, 5, 8, 5, 9, 9, 9, 2, 4, 5, 7, 6, 1, 3, 9, 3, 2, 5, 9, 8, 8, 4, 3, 3, 8, 7, 2, 2, 2, 6, 0, 6, 9, 9, 9, 2, 0, 1, 9, 1, 3, 4, 7, 7, 2, 0, 5, 6, 5, 4, 9, 5, 6, 0, 1, 2, 6, 3, 2, 1, 7, 8, 8, 2, 7, 5, 7, 9, 5, 8, 9, 2, 7, 9, 9, 5, 7, 8, 7, 3, 2, 2, 2, 1, 7, 5, 5, 0, 9, 2, 1, 3, 4, 4, 9, 5, 1, 6, 8, 9, 7, 9, 2, 7, 2, 3, 2, 8, 4, 1, 9, 3, 6, 6, 8, 2, 3, 3, 7, 3, 2, 7, 4, 9, 2, 9, 4, 8, 4, 8, 6, 9, 5, 1, 5, 2, 8, 5, 0, 2, 3, 8, 3, 5, 8, 9, 7, 7, 1, 3, 9, 7, 3, 2, 4, 5, 1, 4, 9, 9, 0, 5, 3, 5, 7, 2, 8, 7, 4, 7, 8, 3, 8, 5, 7, 7, 5, 9, 1, 2, 3, 3, 2, 2, 7, 4, 3, 2, 4, 4, 5, 5, 0, 4, 9, 3, 9, 3, 5, 1, 9, 9, 8, 1, 6, 3, 3, 7, 6, 1, 9, 7, 5, 7, 7, 9, 6, 2, 7, 3, 9, 4, 8, 9, 4, 3, 9, 7, 3, 9, 3, 4, 8, 3, 1, 2, 6, 8, 6, 7, 7, 9, 9, 9, 1, 9, 7, 3, 7, 3, 5, 9, 5, 6, 9, 5, 9, 2, 6, 9, 6, 5, 6, 3, 3, 5, 4, 9, 9, 3, 6, 7, 6, 2, 2, 9, 1, 5, 9, 5, 8, 8, 3, 8, 8, 8, 9, 9, 9, 2, 8, 5, 3, 3, 3, 2, 0, 3, 4, 5, 8, 9, 9, 7, 5, 2, 3, 7, 6, 2, 7, 5, 4, 7, 1, 7, 7, 8, 1, 2, 8, 9, 7, 2, 1, 5, 1, 8, 2, 6, 5, 2, 2, 8, 1, 3, 6, 8, 3, 2, 3, 1, 6, 9, 4, 8, 6, 2, 3, 3, 9, 2, 4, 3, 7, 8, 6, 3, 4, 8, 5, 3, 0, 5, 6, 3, 4, 9, 3, 8, 9, 7, 6, 9, 7, 3, 9, 7, 2, 5, 1, 7, 7, 8, 9, 4, 9, 7, 3, 8, 5, 9, 4, 5, 8, 5, 5, 4, 9, 1, 4, 5, 8, 2, 3, 9, 7, 2, 2, 9, 9, 9, 2, 9, 3, 6, 8, 7, 9, 7, 4, 9, 3, 3, 5, 9, 4, 5, 1, 4, 3, 9, 8, 4, 8, 9, 7, 8, 2, 5, 3, 1, 4, 4, 4, 8, 5, 3, 5, 5, 3, 2, 3, 9, 3, 5, 2, 3, 1, 7, 3, 2, 8, 6, 7, 3, 2, 5, 9, 6, 7, 1, 3, 4, 3, 3, 3, 4, 5, 3, 2, 8, 2, 0, 6, 4, 5, 3, 8, 8, 1, 5, 7, 9, 3, 4, 8, 4, 8, 8, 9, 2, 3, 1, 9, 2, 3, 4, 9, 3, 8, 2, 9, 7, 2, 5, 5, 4, 7, 9, 3, 9, 9, 8, 5, 2, 5, 9, 3, 9, 2, 2, 3, 9, 2, 6, 5, 8, 8, 7, 9, 7, 9, 8, 7, 9, 8, 3, 8, 8, 6, 4, 3, 1, 0, 6, 4, 2, 3, 5, 3, 3, 9, 9, 2, 6, 9, 5, 9, 7, 2, 3, 2, 3, 5, 5, 2, 6, 7, 5, 5, 6, 4, 6, 8, 1, 0, 8, 2, 6, 9, 9, 3, 3, 5, 5, 2, 2, 3, 7, 9, 5, 8, 7, 7, 3, 5, 3, 2, 3, 5, 4, 3, 8, 7, 3, 5, 9, 3, 1, 9, 7, 8, 2, 8, 6, 5, 2, 5, 2, 1, 6, 7, 7, 3, 1, 3]\n"
          ]
        }
      ]
    },
    {
      "cell_type": "markdown",
      "source": [
        "---------------------------------------------------------------"
      ],
      "metadata": {
        "id": "Tky_pDyPwMvw"
      }
    },
    {
      "cell_type": "markdown",
      "metadata": {
        "id": "J7bbDT1CI1qq"
      },
      "source": [
        "**Q0-2**: For each data point misclassified by the model, determine whether the second best prediction is actually the correct label. Calculate the percentage of those misclassified points that are correctly classified based on the second best prediction. "
      ]
    },
    {
      "cell_type": "code",
      "metadata": {
        "id": "CVEQ7pLPI1qq",
        "colab": {
          "base_uri": "https://localhost:8080/"
        },
        "outputId": "49491ceb-4ee6-4366-9828-d0ba77cd799e"
      },
      "source": [
        "a = Second_Best(probability_predictions)\n",
        "b = y_test.values\n",
        "Missclassify = []\n",
        "Original_Missclassify = []\n",
        "for i in range(0,len(b)):\n",
        "    if(a[i]==b[i]):\n",
        "        Missclassify.append(a[i])\n",
        "        Original_Missclassify.append(b[i])\n",
        "\n",
        "print('The percentage of those misclassified points is ', len(Missclassify)/len(y_test)*100, '%')"
      ],
      "execution_count": null,
      "outputs": [
        {
          "output_type": "stream",
          "name": "stdout",
          "text": [
            "The percentage of those misclassified points is  2.1999999999999997 %\n"
          ]
        }
      ]
    },
    {
      "cell_type": "markdown",
      "source": [
        "This shows that only 2.2% of the points are missclassified, therefore, the highest probability level is truly matching in almost 98% of the scenarios."
      ],
      "metadata": {
        "id": "jEgW0fxwp8tA"
      }
    },
    {
      "cell_type": "markdown",
      "source": [
        "---------------------------------------------------------------"
      ],
      "metadata": {
        "id": "Wz5-1TKYwOSb"
      }
    },
    {
      "cell_type": "markdown",
      "metadata": {
        "id": "uPkG0fb2I1qq"
      },
      "source": [
        "**Q0-3**: From a human point of view, we can perhaps see a frequent similarity between handwritten digits 3 and 5 (sometimes we have to pay closer attention to figure out what the true written digit is). We may want to ask if the MLP also detects digit similarities.    \n",
        "<br>\n",
        "Consider then the subset $X_i$ of data points that have label $i$ (e.g. all data points with label 5). For each label $j\\neq i$, report the frequency by which label $j$ (e.g. label 3) shows up as the second best prediction for points in $X_i$. \n",
        "<br>\n",
        "<br> \n",
        "***Further Clarification***: Suppose we have 100 data points with label i=5. Let's say that for 28 of these 100 points, the second predicted label is j=3. Then, the frequency of j=3 as second-best prediction to i=5 is 28%.  We want to compute that frequency for every i and j.  \n",
        "<br>\n",
        "Give your code and comment on your findings."
      ]
    },
    {
      "cell_type": "code",
      "metadata": {
        "id": "ZL_sboa1I1qq",
        "colab": {
          "base_uri": "https://localhost:8080/"
        },
        "outputId": "2c92f4be-4243-40ee-957c-90de29d43b87"
      },
      "source": [
        "x = input (\"Input value for first label: \")\n",
        "y = input (\"Input value for second label: \")\n",
        "\n",
        "First_Prediction = []\n",
        "Second_Prediction  = []\n",
        "Counter = 0\n",
        "Counter_ = 0\n",
        "\n",
        "for p in probability_predictions:\n",
        "        First_Prediction.append(np.argsort(np.array(p))[-1])\n",
        "        Second_Prediction.append(np.argsort(np.array(p))[-2])\n",
        "for i in range(0, len(First_Prediction)):\n",
        "    if (First_Prediction[i]==int(x)):\n",
        "        Counter = Counter + 1\n",
        "    if (First_Prediction[i]==int(x) and Second_Prediction[i]==int(y)):\n",
        "        Counter_ = Counter_ + 1\n",
        "\n",
        "print (\"The frequency of label \" + str(y) + \" as second-best prediction to label \" + str(x) + \" is: \" + str(Counter_/Counter*100) + \"%\")"
      ],
      "execution_count": null,
      "outputs": [
        {
          "output_type": "stream",
          "name": "stdout",
          "text": [
            "Input value for first label: 3\n",
            "Input value for second label: 5\n",
            "The frequency of label 5 as second-best prediction to label 3 is: 32.47011952191235%\n"
          ]
        }
      ]
    },
    {
      "cell_type": "markdown",
      "source": [
        "For this dataset the frequency of j=3 as second-best prediction to i=5 is 32.47%."
      ],
      "metadata": {
        "id": "6WMXBB3esHBb"
      }
    },
    {
      "cell_type": "markdown",
      "source": [
        "---------------------------------------------------------------"
      ],
      "metadata": {
        "id": "3Yn--wGfxJUB"
      }
    },
    {
      "cell_type": "code",
      "metadata": {
        "id": "IllLoXxGAIIo"
      },
      "source": [
        "# For grader use only\n",
        "\n",
        "# insert grade here\n",
        "# G[0,0] =   \n",
        "# G[0,1] = \n",
        "# G[0,2] =\n",
        "# G[0,3] = \n",
        "\n",
        "maxScore = maxScore + 16"
      ],
      "execution_count": null,
      "outputs": []
    },
    {
      "cell_type": "markdown",
      "source": [
        "------------------------------\n",
        "------------------------------\n",
        "------------------------------"
      ],
      "metadata": {
        "id": "oko-ZnXEpBMc"
      }
    },
    {
      "cell_type": "markdown",
      "metadata": {
        "id": "Bescj6mdI1qq"
      },
      "source": [
        "## <font color='blue'>Question 1: Working with warm start for focused training\n",
        "\n"
      ]
    },
    {
      "cell_type": "markdown",
      "metadata": {
        "id": "xmDZTC1UI1qq"
      },
      "source": [
        "**Q1-0**. MLP classifiers in scikit-learn have an option for so-called 'warm start'. Do a bit of research to find out what it is. Then:\n",
        "\n",
        "Give an example of warm start. Specifically\n",
        "train the network for $k$ epochs, and then using warm start\n",
        "continue the training for another $k$ epochs (4 points).\n",
        "Here $k$ is a parameter of your choice.  \n",
        "\n",
        "\n",
        "\n"
      ]
    },
    {
      "cell_type": "code",
      "source": [
        "Initial_Time = time.time()\n",
        "\n",
        "mlp_test = MLPClassifier(verbose = True, hidden_layer_sizes = (50,), batch_size = 10, \\\n",
        "                          max_iter = 5, solver = 'sgd', activation = 'logistic',\\\n",
        "                          learning_rate = 'constant', learning_rate_init = 0.001, random_state = 1, warm_start = False)\n",
        "\n",
        "mlp_test.fit(X_train,y_train)\n",
        "\n",
        "Final_Time = time.time()\n",
        "\n",
        "print(Final_Time - Initial_Time)"
      ],
      "metadata": {
        "colab": {
          "base_uri": "https://localhost:8080/"
        },
        "id": "3EKtwqUVvJFK",
        "outputId": "7db12e05-be49-48b8-a2c9-cee72434410c"
      },
      "execution_count": null,
      "outputs": [
        {
          "output_type": "stream",
          "name": "stdout",
          "text": [
            "Iteration 1, loss = 0.77659209\n",
            "Iteration 2, loss = 0.35169476\n",
            "Iteration 3, loss = 0.29370323\n",
            "Iteration 4, loss = 0.26160018\n",
            "Iteration 5, loss = 0.23835006\n",
            "51.73737907409668\n"
          ]
        },
        {
          "output_type": "stream",
          "name": "stderr",
          "text": [
            "/usr/local/lib/python3.9/dist-packages/sklearn/neural_network/_multilayer_perceptron.py:686: ConvergenceWarning: Stochastic Optimizer: Maximum iterations (5) reached and the optimization hasn't converged yet.\n",
            "  warnings.warn(\n"
          ]
        }
      ]
    },
    {
      "cell_type": "code",
      "metadata": {
        "id": "8wY3lNEgI1qq",
        "colab": {
          "base_uri": "https://localhost:8080/"
        },
        "outputId": "afa1f674-32f5-434a-db24-0428e75e31c7"
      },
      "source": [
        "Initial_Time = time.time()\n",
        "\n",
        "mlp_test = MLPClassifier(verbose = True, hidden_layer_sizes = (50,), batch_size = 10, \\\n",
        "                          max_iter = 5, solver = 'sgd', activation = 'logistic',\\\n",
        "                          learning_rate = 'constant', learning_rate_init = 0.001, random_state = 1, warm_start = True)\n",
        "\n",
        "mlp_test.fit(X_train,y_train)\n",
        "\n",
        "Final_Time = time.time()\n",
        "\n",
        "print(Final_Time - Initial_Time)"
      ],
      "execution_count": null,
      "outputs": [
        {
          "output_type": "stream",
          "name": "stdout",
          "text": [
            "Iteration 1, loss = 0.77659209\n",
            "Iteration 2, loss = 0.35169476\n",
            "Iteration 3, loss = 0.29370323\n",
            "Iteration 4, loss = 0.26160018\n",
            "Iteration 5, loss = 0.23835006\n",
            "48.08075428009033\n"
          ]
        },
        {
          "output_type": "stream",
          "name": "stderr",
          "text": [
            "/usr/local/lib/python3.9/dist-packages/sklearn/neural_network/_multilayer_perceptron.py:686: ConvergenceWarning: Stochastic Optimizer: Maximum iterations (5) reached and the optimization hasn't converged yet.\n",
            "  warnings.warn(\n"
          ]
        }
      ]
    },
    {
      "cell_type": "markdown",
      "source": [
        "When Warm Start is set to True, the machine reuse the solution of the previous call to fit as initialization, otherwise, just erase the previous solution. My guess is that this method should be used for the primary purpose of reducing training time when fitting the same dataset, or when there is no significant concept drift in new data.\n",
        "\n",
        "In this case, I've initiated the MLP classifier with warm_start = False, and for 5 epochs, it took about 48 seconds. However, with warm_start = True, the training time got reduced slightly."
      ],
      "metadata": {
        "id": "GM47KnBts-9l"
      }
    },
    {
      "cell_type": "code",
      "source": [
        "Initial_Time = time.time()\n",
        "mlp_test.fit(X_train,y_train)\n",
        "Final_Time = time.time()\n",
        "print(Final_Time - Initial_Time)"
      ],
      "metadata": {
        "colab": {
          "base_uri": "https://localhost:8080/"
        },
        "id": "Qoksp27cu0Ad",
        "outputId": "b3dd631c-244c-4aad-d7ce-aaeb430be13d"
      },
      "execution_count": null,
      "outputs": [
        {
          "output_type": "stream",
          "name": "stdout",
          "text": [
            "Iteration 6, loss = 0.22022162\n",
            "Iteration 7, loss = 0.20535581\n",
            "Iteration 8, loss = 0.19261592\n",
            "Iteration 9, loss = 0.18174624\n",
            "Iteration 10, loss = 0.17227635\n",
            "50.50786542892456\n"
          ]
        }
      ]
    },
    {
      "cell_type": "markdown",
      "source": [
        "Continuing with the  same previously initiated MLP Classifier with warm_start = True, it started from iteration 6, reducing the training time in about 20 seconds."
      ],
      "metadata": {
        "id": "kqJhEN83vEUH"
      }
    },
    {
      "cell_type": "markdown",
      "source": [
        "---------------------------------------------------------------"
      ],
      "metadata": {
        "id": "kd0vX-NrwWiF"
      }
    },
    {
      "cell_type": "markdown",
      "metadata": {
        "id": "jwK_llxsI1qq"
      },
      "source": [
        "\n",
        "The training set usually remains the same after a warm start. Here, we will use a very similar (but not identical) dataset after the warm start:\n",
        "<br>\n",
        "<br>\n",
        "**Q1-1**. Randomly divide the MNIST dataset into three parts: *train1* (50000), *train2* (10000), *test* (10000). Make sure that all number classes are present in both *train1* and *train2*. [4 points]\n"
      ]
    },
    {
      "cell_type": "code",
      "metadata": {
        "id": "DwlNHIdcI1qq",
        "colab": {
          "base_uri": "https://localhost:8080/"
        },
        "outputId": "30004b28-8aa6-40cb-9e6d-466634aab5b2"
      },
      "source": [
        "X, y = fetch_openml('mnist_784', version=1, return_X_y=True)\n",
        "y = y.astype(int)\n",
        "X = ((X / 255.) - .5) * 2\n",
        "\n",
        "X_train_Q1, X_test_Q1, y_train_Q1, y_test_Q1 = train_test_split(X, y, test_size=10000, random_state=123, stratify=y)\n",
        "X_train1_Q1, X_train2_Q1, y_train1_Q1, y_train2_Q1 = train_test_split(X_train_Q1, y_train_Q1, test_size=10000, random_state=123, stratify=y_train_Q1)\n",
        "\n",
        "print(len(X_train1_Q1), len(y_train1_Q1), len(X_train2_Q1), len(y_train2_Q1), len(X_test_Q1), len(y_test_Q1))"
      ],
      "execution_count": null,
      "outputs": [
        {
          "output_type": "stream",
          "name": "stderr",
          "text": [
            "/usr/local/lib/python3.9/dist-packages/sklearn/datasets/_openml.py:968: FutureWarning: The default value of `parser` will change from `'liac-arff'` to `'auto'` in 1.4. You can set `parser='auto'` to silence this warning. Therefore, an `ImportError` will be raised from 1.4 if the dataset is dense and pandas is not installed. Note that the pandas parser may return different data types. See the Notes Section in fetch_openml's API doc for details.\n",
            "  warn(\n"
          ]
        },
        {
          "output_type": "stream",
          "name": "stdout",
          "text": [
            "50000 50000 10000 10000 10000 10000\n"
          ]
        }
      ]
    },
    {
      "cell_type": "markdown",
      "source": [
        "---------------------------------------------------------------"
      ],
      "metadata": {
        "id": "eItWUUpMwXUt"
      }
    },
    {
      "cell_type": "markdown",
      "metadata": {
        "id": "Qj639NWSI1qq"
      },
      "source": [
        "**Q1-2**. Use warm start and train your model using the *train1* dataset for $2k$ epochs. Then, using warm start, continue the training with the *train2* dataset for another $2k$ epochs. [4 points]\n",
        "<br>\n",
        "<br>\n",
        "Here, $k$ is the same parameter that you used above. Notice that each point\n",
        "is considered $2k$ times in this training, exactly as in Part 0. \n",
        "<br>\n",
        "<br>\n",
        "In effect, this process of training tries to spend more time learning half of the training set, and then moves to the second part of the training set to spend equal time. \n"
      ]
    },
    {
      "cell_type": "code",
      "metadata": {
        "id": "Qrr0rwxrI1qq",
        "colab": {
          "base_uri": "https://localhost:8080/"
        },
        "outputId": "58a8868f-b67b-4b57-86f9-1f05715aede9"
      },
      "source": [
        "Initial_Time = time.time()\n",
        "\n",
        "mlp_test = MLPClassifier(verbose = True, hidden_layer_sizes = (50,), batch_size = 10, \\\n",
        "                          max_iter = 10, solver = 'sgd', activation = 'logistic',\\\n",
        "                          learning_rate = 'constant', learning_rate_init = 0.001, random_state = 1, warm_start = True)\n",
        "\n",
        "mlp_test.fit(X_train1_Q1,y_train1_Q1)\n",
        "\n",
        "Final_Time = time.time()\n",
        "\n",
        "print(Final_Time - Initial_Time)"
      ],
      "execution_count": null,
      "outputs": [
        {
          "output_type": "stream",
          "name": "stdout",
          "text": [
            "Iteration 1, loss = 0.84805406\n",
            "Iteration 2, loss = 0.37653715\n",
            "Iteration 3, loss = 0.31228990\n",
            "Iteration 4, loss = 0.27825214\n",
            "Iteration 5, loss = 0.25438018\n",
            "Iteration 6, loss = 0.23578022\n",
            "Iteration 7, loss = 0.22005485\n",
            "Iteration 8, loss = 0.20718801\n",
            "Iteration 9, loss = 0.19564455\n",
            "Iteration 10, loss = 0.18548536\n",
            "85.14342975616455\n"
          ]
        },
        {
          "output_type": "stream",
          "name": "stderr",
          "text": [
            "/usr/local/lib/python3.9/dist-packages/sklearn/neural_network/_multilayer_perceptron.py:686: ConvergenceWarning: Stochastic Optimizer: Maximum iterations (10) reached and the optimization hasn't converged yet.\n",
            "  warnings.warn(\n"
          ]
        }
      ]
    },
    {
      "cell_type": "code",
      "source": [
        "Initial_Time = time.time()\n",
        "mlp_test.fit(X_train2_Q1, y_train2_Q1)\n",
        "Final_Time = time.time()\n",
        "print(Final_Time - Initial_Time)"
      ],
      "metadata": {
        "colab": {
          "base_uri": "https://localhost:8080/"
        },
        "id": "vVWakgoS01mc",
        "outputId": "5f3462fd-e6bf-4d66-8993-4c5dd7124724"
      },
      "execution_count": null,
      "outputs": [
        {
          "output_type": "stream",
          "name": "stdout",
          "text": [
            "Iteration 11, loss = 0.19570795\n",
            "Iteration 12, loss = 0.18875298\n",
            "Iteration 13, loss = 0.18331168\n",
            "Iteration 14, loss = 0.17877808\n",
            "Iteration 15, loss = 0.17410697\n",
            "Iteration 16, loss = 0.16985178\n",
            "Iteration 17, loss = 0.16686383\n",
            "Iteration 18, loss = 0.16271503\n",
            "Iteration 19, loss = 0.15976617\n",
            "Iteration 20, loss = 0.15619614\n",
            "17.34640884399414\n"
          ]
        }
      ]
    },
    {
      "cell_type": "markdown",
      "source": [
        "For 2k epochs (1) with the same training dataset, it took 85 seconds, for the next 10 epochs, it took only 17 seconds. Therefore, this strategy works well for retraining models faster without the need to start freshly with the full dataset."
      ],
      "metadata": {
        "id": "OsqMmtgW1CwX"
      }
    },
    {
      "cell_type": "markdown",
      "source": [
        "---------------------------------------------------------------"
      ],
      "metadata": {
        "id": "syR1jrFRwYRL"
      }
    },
    {
      "cell_type": "markdown",
      "metadata": {
        "id": "IVOatk-gVU4O"
      },
      "source": [
        "**Q1-3**. Which of the two above strategies\n",
        "works better (Q1-0 or Q1-2)? Feel free to experiment and report your findings."
      ]
    },
    {
      "cell_type": "code",
      "source": [
        "Initial_Time = time.time()\n",
        "\n",
        "mlp_test = MLPClassifier(verbose = True, hidden_layer_sizes = (50,), batch_size = 10, \\\n",
        "                          max_iter = 20, solver = 'sgd', activation = 'logistic',\\\n",
        "                          learning_rate = 'constant', learning_rate_init = 0.001, random_state = 1)\n",
        "\n",
        "mlp_test.fit(X_train_Q1,y_train_Q1)\n",
        "\n",
        "Final_Time = time.time()\n",
        "\n",
        "print(Final_Time - Initial_Time)"
      ],
      "metadata": {
        "colab": {
          "base_uri": "https://localhost:8080/"
        },
        "id": "zFyzG2h912-N",
        "outputId": "4efabadc-1e91-4ff6-941b-2c42fa1d46e3"
      },
      "execution_count": null,
      "outputs": [
        {
          "output_type": "stream",
          "name": "stdout",
          "text": [
            "Iteration 1, loss = 0.77659209\n",
            "Iteration 2, loss = 0.35169476\n",
            "Iteration 3, loss = 0.29370323\n",
            "Iteration 4, loss = 0.26160018\n",
            "Iteration 5, loss = 0.23835006\n",
            "Iteration 6, loss = 0.22020206\n",
            "Iteration 7, loss = 0.20524977\n",
            "Iteration 8, loss = 0.19250908\n",
            "Iteration 9, loss = 0.18166501\n",
            "Iteration 10, loss = 0.17223005\n",
            "Iteration 11, loss = 0.16398489\n",
            "Iteration 12, loss = 0.15674479\n",
            "Iteration 13, loss = 0.15032197\n",
            "Iteration 14, loss = 0.14438893\n",
            "Iteration 15, loss = 0.13925911\n",
            "Iteration 16, loss = 0.13410892\n",
            "Iteration 17, loss = 0.12973445\n",
            "Iteration 18, loss = 0.12544996\n",
            "Iteration 19, loss = 0.12168089\n",
            "Iteration 20, loss = 0.11826818\n",
            "216.54080843925476\n"
          ]
        },
        {
          "output_type": "stream",
          "name": "stderr",
          "text": [
            "/usr/local/lib/python3.9/dist-packages/sklearn/neural_network/_multilayer_perceptron.py:686: ConvergenceWarning: Stochastic Optimizer: Maximum iterations (20) reached and the optimization hasn't converged yet.\n",
            "  warnings.warn(\n"
          ]
        }
      ]
    },
    {
      "cell_type": "markdown",
      "source": [
        "---------------------------------------------------------------"
      ],
      "metadata": {
        "id": "k4HxGqb413ZO"
      }
    },
    {
      "cell_type": "markdown",
      "source": [
        "*   Strategy 1: same training dataset trained using warm start and in 2 sets of 5 epochs each (10 epoch in total). 98.58 seconds.\n",
        "*   Strategy 2: different training datasets: train 1 (50000), train 2(10000) of 5 epochs each (20 epoch in total). 102.49 seconds.\n",
        "*   Strategy 3: experimenting with 60000 records (20 epoch in total). 216.54 seconds.\n",
        "\n",
        "From the above strategies, my observation is that option 3 performs the best considering it has 60000 records. Warm start makes it faster to retrain with new incoming dataset, however, the loss is not better than cold start. Also, it's normal for soption 1 to peform less efficiently based on lesser number of epochs."
      ],
      "metadata": {
        "id": "Wgz_ccNC2MyF"
      }
    },
    {
      "cell_type": "code",
      "metadata": {
        "id": "5r9YkG3xsS5l"
      },
      "source": [
        "# For grader use only\n",
        "\n",
        "# insert grade here\n",
        "# G[1,0] =   \n",
        "# G[1,1] = \n",
        "# G[1,2] =\n",
        "# G[1,3] = \n",
        "\n",
        "maxScore = maxScore + 16"
      ],
      "execution_count": null,
      "outputs": []
    },
    {
      "cell_type": "markdown",
      "source": [
        "--------------------------\n",
        "--------------------------\n",
        "--------------------------"
      ],
      "metadata": {
        "id": "AgUw1wklsZOi"
      }
    },
    {
      "cell_type": "markdown",
      "metadata": {
        "id": "RBaZ0tdBVvDT"
      },
      "source": [
        "##  <font color='blue'> Q2. How Powerful are Neural Networks? \n",
        "\n",
        "There is a lot of hype surrounding Neural Networks, and their ability to solve problems. This is of course justified, but we should always be aware of their limitations. \n"
      ]
    },
    {
      "cell_type": "markdown",
      "metadata": {
        "id": "yrCrmP4tWnGx"
      },
      "source": [
        "Recall that every row in the matrix $X$  above comes from an image. Every entry of a row corresponds to a (grayscale) pixel. In particular, the first column of $X$ contains the grayscale values of the first pixels of the images in the data set. \n",
        "<br>\n",
        "<br>\n",
        "We will now 'hide' the label of the image, inside the image itself. \n",
        "Here is one way to do that: Replace the top-left pixel of the image (which is a value from 0 to 255) with the label for that image. For example, if the image\n",
        "contains number 3, then the first pixel of the image will now be set to 3. (In fact, let's set this to 3/255 because we already divided all pixel values by 255.)"
      ]
    },
    {
      "cell_type": "markdown",
      "source": [
        "---------------------------------------------------------------"
      ],
      "metadata": {
        "id": "zfJDxxN8waw1"
      }
    },
    {
      "cell_type": "markdown",
      "metadata": {
        "id": "dI8SbkQ2Xh6b"
      },
      "source": [
        "**Q2-0.** Create a new dataset $X1$, where each row is the same as the corresponding row of $X$, except in the first column, which contains the label of the corresponding image, divided by 255. Then split\n",
        "the set $X1$ into a training set and a test set, as we did with $X$. \n",
        "\n",
        "\n"
      ]
    },
    {
      "cell_type": "code",
      "metadata": {
        "id": "nxGaaYSbZc3y",
        "colab": {
          "base_uri": "https://localhost:8080/"
        },
        "outputId": "9cb17b40-779a-4402-caff-99ed4a9f1463"
      },
      "source": [
        "X, y = fetch_openml('mnist_784', version=1, return_X_y=True)\n",
        "y = y.astype(int)\n",
        "X = ((X / 255.) - .5) * 2\n",
        "print(X)"
      ],
      "execution_count": null,
      "outputs": [
        {
          "output_type": "stream",
          "name": "stderr",
          "text": [
            "/usr/local/lib/python3.9/dist-packages/sklearn/datasets/_openml.py:968: FutureWarning: The default value of `parser` will change from `'liac-arff'` to `'auto'` in 1.4. You can set `parser='auto'` to silence this warning. Therefore, an `ImportError` will be raised from 1.4 if the dataset is dense and pandas is not installed. Note that the pandas parser may return different data types. See the Notes Section in fetch_openml's API doc for details.\n",
            "  warn(\n"
          ]
        },
        {
          "output_type": "stream",
          "name": "stdout",
          "text": [
            "       pixel1  pixel2  pixel3  pixel4  pixel5  pixel6  pixel7  pixel8  pixel9  \\\n",
            "0        -1.0    -1.0    -1.0    -1.0    -1.0    -1.0    -1.0    -1.0    -1.0   \n",
            "1        -1.0    -1.0    -1.0    -1.0    -1.0    -1.0    -1.0    -1.0    -1.0   \n",
            "2        -1.0    -1.0    -1.0    -1.0    -1.0    -1.0    -1.0    -1.0    -1.0   \n",
            "3        -1.0    -1.0    -1.0    -1.0    -1.0    -1.0    -1.0    -1.0    -1.0   \n",
            "4        -1.0    -1.0    -1.0    -1.0    -1.0    -1.0    -1.0    -1.0    -1.0   \n",
            "...       ...     ...     ...     ...     ...     ...     ...     ...     ...   \n",
            "69995    -1.0    -1.0    -1.0    -1.0    -1.0    -1.0    -1.0    -1.0    -1.0   \n",
            "69996    -1.0    -1.0    -1.0    -1.0    -1.0    -1.0    -1.0    -1.0    -1.0   \n",
            "69997    -1.0    -1.0    -1.0    -1.0    -1.0    -1.0    -1.0    -1.0    -1.0   \n",
            "69998    -1.0    -1.0    -1.0    -1.0    -1.0    -1.0    -1.0    -1.0    -1.0   \n",
            "69999    -1.0    -1.0    -1.0    -1.0    -1.0    -1.0    -1.0    -1.0    -1.0   \n",
            "\n",
            "       pixel10  ...  pixel775  pixel776  pixel777  pixel778  pixel779  \\\n",
            "0         -1.0  ...      -1.0      -1.0      -1.0      -1.0      -1.0   \n",
            "1         -1.0  ...      -1.0      -1.0      -1.0      -1.0      -1.0   \n",
            "2         -1.0  ...      -1.0      -1.0      -1.0      -1.0      -1.0   \n",
            "3         -1.0  ...      -1.0      -1.0      -1.0      -1.0      -1.0   \n",
            "4         -1.0  ...      -1.0      -1.0      -1.0      -1.0      -1.0   \n",
            "...        ...  ...       ...       ...       ...       ...       ...   \n",
            "69995     -1.0  ...      -1.0      -1.0      -1.0      -1.0      -1.0   \n",
            "69996     -1.0  ...      -1.0      -1.0      -1.0      -1.0      -1.0   \n",
            "69997     -1.0  ...      -1.0      -1.0      -1.0      -1.0      -1.0   \n",
            "69998     -1.0  ...      -1.0      -1.0      -1.0      -1.0      -1.0   \n",
            "69999     -1.0  ...      -1.0      -1.0      -1.0      -1.0      -1.0   \n",
            "\n",
            "       pixel780  pixel781  pixel782  pixel783  pixel784  \n",
            "0          -1.0      -1.0      -1.0      -1.0      -1.0  \n",
            "1          -1.0      -1.0      -1.0      -1.0      -1.0  \n",
            "2          -1.0      -1.0      -1.0      -1.0      -1.0  \n",
            "3          -1.0      -1.0      -1.0      -1.0      -1.0  \n",
            "4          -1.0      -1.0      -1.0      -1.0      -1.0  \n",
            "...         ...       ...       ...       ...       ...  \n",
            "69995      -1.0      -1.0      -1.0      -1.0      -1.0  \n",
            "69996      -1.0      -1.0      -1.0      -1.0      -1.0  \n",
            "69997      -1.0      -1.0      -1.0      -1.0      -1.0  \n",
            "69998      -1.0      -1.0      -1.0      -1.0      -1.0  \n",
            "69999      -1.0      -1.0      -1.0      -1.0      -1.0  \n",
            "\n",
            "[70000 rows x 784 columns]\n"
          ]
        }
      ]
    },
    {
      "cell_type": "code",
      "source": [
        "X_Q2 = X\n",
        "X_Q2.pixel1 = y/255\n",
        "print(X_Q2)"
      ],
      "metadata": {
        "id": "wRmbZLKF2cvX",
        "colab": {
          "base_uri": "https://localhost:8080/"
        },
        "outputId": "a83177b1-76b1-4c27-99d2-ed75b340a9b2"
      },
      "execution_count": null,
      "outputs": [
        {
          "output_type": "stream",
          "name": "stdout",
          "text": [
            "         pixel1  pixel2  pixel3  pixel4  pixel5  pixel6  pixel7  pixel8  \\\n",
            "0      0.019608    -1.0    -1.0    -1.0    -1.0    -1.0    -1.0    -1.0   \n",
            "1      0.000000    -1.0    -1.0    -1.0    -1.0    -1.0    -1.0    -1.0   \n",
            "2      0.015686    -1.0    -1.0    -1.0    -1.0    -1.0    -1.0    -1.0   \n",
            "3      0.003922    -1.0    -1.0    -1.0    -1.0    -1.0    -1.0    -1.0   \n",
            "4      0.035294    -1.0    -1.0    -1.0    -1.0    -1.0    -1.0    -1.0   \n",
            "...         ...     ...     ...     ...     ...     ...     ...     ...   \n",
            "69995  0.007843    -1.0    -1.0    -1.0    -1.0    -1.0    -1.0    -1.0   \n",
            "69996  0.011765    -1.0    -1.0    -1.0    -1.0    -1.0    -1.0    -1.0   \n",
            "69997  0.015686    -1.0    -1.0    -1.0    -1.0    -1.0    -1.0    -1.0   \n",
            "69998  0.019608    -1.0    -1.0    -1.0    -1.0    -1.0    -1.0    -1.0   \n",
            "69999  0.023529    -1.0    -1.0    -1.0    -1.0    -1.0    -1.0    -1.0   \n",
            "\n",
            "       pixel9  pixel10  ...  pixel775  pixel776  pixel777  pixel778  pixel779  \\\n",
            "0        -1.0     -1.0  ...      -1.0      -1.0      -1.0      -1.0      -1.0   \n",
            "1        -1.0     -1.0  ...      -1.0      -1.0      -1.0      -1.0      -1.0   \n",
            "2        -1.0     -1.0  ...      -1.0      -1.0      -1.0      -1.0      -1.0   \n",
            "3        -1.0     -1.0  ...      -1.0      -1.0      -1.0      -1.0      -1.0   \n",
            "4        -1.0     -1.0  ...      -1.0      -1.0      -1.0      -1.0      -1.0   \n",
            "...       ...      ...  ...       ...       ...       ...       ...       ...   \n",
            "69995    -1.0     -1.0  ...      -1.0      -1.0      -1.0      -1.0      -1.0   \n",
            "69996    -1.0     -1.0  ...      -1.0      -1.0      -1.0      -1.0      -1.0   \n",
            "69997    -1.0     -1.0  ...      -1.0      -1.0      -1.0      -1.0      -1.0   \n",
            "69998    -1.0     -1.0  ...      -1.0      -1.0      -1.0      -1.0      -1.0   \n",
            "69999    -1.0     -1.0  ...      -1.0      -1.0      -1.0      -1.0      -1.0   \n",
            "\n",
            "       pixel780  pixel781  pixel782  pixel783  pixel784  \n",
            "0          -1.0      -1.0      -1.0      -1.0      -1.0  \n",
            "1          -1.0      -1.0      -1.0      -1.0      -1.0  \n",
            "2          -1.0      -1.0      -1.0      -1.0      -1.0  \n",
            "3          -1.0      -1.0      -1.0      -1.0      -1.0  \n",
            "4          -1.0      -1.0      -1.0      -1.0      -1.0  \n",
            "...         ...       ...       ...       ...       ...  \n",
            "69995      -1.0      -1.0      -1.0      -1.0      -1.0  \n",
            "69996      -1.0      -1.0      -1.0      -1.0      -1.0  \n",
            "69997      -1.0      -1.0      -1.0      -1.0      -1.0  \n",
            "69998      -1.0      -1.0      -1.0      -1.0      -1.0  \n",
            "69999      -1.0      -1.0      -1.0      -1.0      -1.0  \n",
            "\n",
            "[70000 rows x 784 columns]\n"
          ]
        }
      ]
    },
    {
      "cell_type": "code",
      "source": [
        "X_train, X_test, y_train, y_test = train_test_split(X_Q2, y, test_size=10000, random_state=123, stratify=y)"
      ],
      "metadata": {
        "id": "zvIKDjJV2f2_"
      },
      "execution_count": null,
      "outputs": []
    },
    {
      "cell_type": "markdown",
      "source": [
        "---------------------------------------------------------------"
      ],
      "metadata": {
        "id": "fsHNtIlvwaGs"
      }
    },
    {
      "cell_type": "markdown",
      "metadata": {
        "id": "zDmOC16kZgqM"
      },
      "source": [
        "**Q2-1.** With the label of the image 'planted' in the image itself, a Neural Network can achieve accuracy 100%. This is because all the weights connecting to pixels $2...28^2$ can be set to 0, and so effectively the only feature that will be taken into account is the first pixel. The question is whether an MLP can indeed 'discover' this weighting via training.\n",
        "<br>\n",
        "<br>\n",
        "Use an MLP classifier  with one hidden layer of any size you want. Train it on $X'$ and report the accuracy. Does it reach 100\\%? Is the accuracy better relative to training with the original input $X$? \n",
        "\n",
        "\n"
      ]
    },
    {
      "cell_type": "code",
      "source": [
        "MLP_MNIST_Planted = MLPClassifier(verbose = True, hidden_layer_sizes = (5,), batch_size = 10, \\\n",
        "                          max_iter = 20, solver = 'sgd', activation = 'logistic',\\\n",
        "                          learning_rate = 'constant', learning_rate_init = 0.001, random_state = 1)\n",
        "\n",
        "MLP_MNIST_Planted.fit(X_train,y_train)"
      ],
      "metadata": {
        "id": "t_mvS5-A2i9O",
        "colab": {
          "base_uri": "https://localhost:8080/",
          "height": 506
        },
        "outputId": "f75632d8-bf30-45ab-92ec-c601c4920839"
      },
      "execution_count": null,
      "outputs": [
        {
          "output_type": "stream",
          "name": "stdout",
          "text": [
            "Iteration 1, loss = 1.52524964\n",
            "Iteration 2, loss = 0.88900181\n",
            "Iteration 3, loss = 0.71956766\n",
            "Iteration 4, loss = 0.63691140\n",
            "Iteration 5, loss = 0.58163900\n",
            "Iteration 6, loss = 0.54010832\n",
            "Iteration 7, loss = 0.51188181\n",
            "Iteration 8, loss = 0.49304710\n",
            "Iteration 9, loss = 0.47996592\n",
            "Iteration 10, loss = 0.46996303\n",
            "Iteration 11, loss = 0.46123391\n",
            "Iteration 12, loss = 0.45447035\n",
            "Iteration 13, loss = 0.44961772\n",
            "Iteration 14, loss = 0.44435027\n",
            "Iteration 15, loss = 0.44083022\n",
            "Iteration 16, loss = 0.43791645\n",
            "Iteration 17, loss = 0.43551926\n",
            "Iteration 18, loss = 0.43194595\n",
            "Iteration 19, loss = 0.42944450\n",
            "Iteration 20, loss = 0.42773074\n"
          ]
        },
        {
          "output_type": "stream",
          "name": "stderr",
          "text": [
            "/usr/local/lib/python3.9/dist-packages/sklearn/neural_network/_multilayer_perceptron.py:686: ConvergenceWarning: Stochastic Optimizer: Maximum iterations (20) reached and the optimization hasn't converged yet.\n",
            "  warnings.warn(\n"
          ]
        },
        {
          "output_type": "execute_result",
          "data": {
            "text/plain": [
              "MLPClassifier(activation='logistic', batch_size=10, hidden_layer_sizes=(5,),\n",
              "              max_iter=20, random_state=1, solver='sgd', verbose=True)"
            ],
            "text/html": [
              "<style>#sk-container-id-2 {color: black;background-color: white;}#sk-container-id-2 pre{padding: 0;}#sk-container-id-2 div.sk-toggleable {background-color: white;}#sk-container-id-2 label.sk-toggleable__label {cursor: pointer;display: block;width: 100%;margin-bottom: 0;padding: 0.3em;box-sizing: border-box;text-align: center;}#sk-container-id-2 label.sk-toggleable__label-arrow:before {content: \"▸\";float: left;margin-right: 0.25em;color: #696969;}#sk-container-id-2 label.sk-toggleable__label-arrow:hover:before {color: black;}#sk-container-id-2 div.sk-estimator:hover label.sk-toggleable__label-arrow:before {color: black;}#sk-container-id-2 div.sk-toggleable__content {max-height: 0;max-width: 0;overflow: hidden;text-align: left;background-color: #f0f8ff;}#sk-container-id-2 div.sk-toggleable__content pre {margin: 0.2em;color: black;border-radius: 0.25em;background-color: #f0f8ff;}#sk-container-id-2 input.sk-toggleable__control:checked~div.sk-toggleable__content {max-height: 200px;max-width: 100%;overflow: auto;}#sk-container-id-2 input.sk-toggleable__control:checked~label.sk-toggleable__label-arrow:before {content: \"▾\";}#sk-container-id-2 div.sk-estimator input.sk-toggleable__control:checked~label.sk-toggleable__label {background-color: #d4ebff;}#sk-container-id-2 div.sk-label input.sk-toggleable__control:checked~label.sk-toggleable__label {background-color: #d4ebff;}#sk-container-id-2 input.sk-hidden--visually {border: 0;clip: rect(1px 1px 1px 1px);clip: rect(1px, 1px, 1px, 1px);height: 1px;margin: -1px;overflow: hidden;padding: 0;position: absolute;width: 1px;}#sk-container-id-2 div.sk-estimator {font-family: monospace;background-color: #f0f8ff;border: 1px dotted black;border-radius: 0.25em;box-sizing: border-box;margin-bottom: 0.5em;}#sk-container-id-2 div.sk-estimator:hover {background-color: #d4ebff;}#sk-container-id-2 div.sk-parallel-item::after {content: \"\";width: 100%;border-bottom: 1px solid gray;flex-grow: 1;}#sk-container-id-2 div.sk-label:hover label.sk-toggleable__label {background-color: #d4ebff;}#sk-container-id-2 div.sk-serial::before {content: \"\";position: absolute;border-left: 1px solid gray;box-sizing: border-box;top: 0;bottom: 0;left: 50%;z-index: 0;}#sk-container-id-2 div.sk-serial {display: flex;flex-direction: column;align-items: center;background-color: white;padding-right: 0.2em;padding-left: 0.2em;position: relative;}#sk-container-id-2 div.sk-item {position: relative;z-index: 1;}#sk-container-id-2 div.sk-parallel {display: flex;align-items: stretch;justify-content: center;background-color: white;position: relative;}#sk-container-id-2 div.sk-item::before, #sk-container-id-2 div.sk-parallel-item::before {content: \"\";position: absolute;border-left: 1px solid gray;box-sizing: border-box;top: 0;bottom: 0;left: 50%;z-index: -1;}#sk-container-id-2 div.sk-parallel-item {display: flex;flex-direction: column;z-index: 1;position: relative;background-color: white;}#sk-container-id-2 div.sk-parallel-item:first-child::after {align-self: flex-end;width: 50%;}#sk-container-id-2 div.sk-parallel-item:last-child::after {align-self: flex-start;width: 50%;}#sk-container-id-2 div.sk-parallel-item:only-child::after {width: 0;}#sk-container-id-2 div.sk-dashed-wrapped {border: 1px dashed gray;margin: 0 0.4em 0.5em 0.4em;box-sizing: border-box;padding-bottom: 0.4em;background-color: white;}#sk-container-id-2 div.sk-label label {font-family: monospace;font-weight: bold;display: inline-block;line-height: 1.2em;}#sk-container-id-2 div.sk-label-container {text-align: center;}#sk-container-id-2 div.sk-container {/* jupyter's `normalize.less` sets `[hidden] { display: none; }` but bootstrap.min.css set `[hidden] { display: none !important; }` so we also need the `!important` here to be able to override the default hidden behavior on the sphinx rendered scikit-learn.org. See: https://github.com/scikit-learn/scikit-learn/issues/21755 */display: inline-block !important;position: relative;}#sk-container-id-2 div.sk-text-repr-fallback {display: none;}</style><div id=\"sk-container-id-2\" class=\"sk-top-container\"><div class=\"sk-text-repr-fallback\"><pre>MLPClassifier(activation=&#x27;logistic&#x27;, batch_size=10, hidden_layer_sizes=(5,),\n",
              "              max_iter=20, random_state=1, solver=&#x27;sgd&#x27;, verbose=True)</pre><b>In a Jupyter environment, please rerun this cell to show the HTML representation or trust the notebook. <br />On GitHub, the HTML representation is unable to render, please try loading this page with nbviewer.org.</b></div><div class=\"sk-container\" hidden><div class=\"sk-item\"><div class=\"sk-estimator sk-toggleable\"><input class=\"sk-toggleable__control sk-hidden--visually\" id=\"sk-estimator-id-2\" type=\"checkbox\" checked><label for=\"sk-estimator-id-2\" class=\"sk-toggleable__label sk-toggleable__label-arrow\">MLPClassifier</label><div class=\"sk-toggleable__content\"><pre>MLPClassifier(activation=&#x27;logistic&#x27;, batch_size=10, hidden_layer_sizes=(5,),\n",
              "              max_iter=20, random_state=1, solver=&#x27;sgd&#x27;, verbose=True)</pre></div></div></div></div></div>"
            ]
          },
          "metadata": {},
          "execution_count": 30
        }
      ]
    },
    {
      "cell_type": "code",
      "source": [
        "from sklearn.metrics import confusion_matrix\n",
        "y_pred = MLP_MNIST_Planted.predict(X_test)\n",
        "CM = confusion_matrix(y_pred, y_test)\n",
        "print(CM)\n",
        "\n",
        "from sklearn.metrics import accuracy_score\n",
        "accuracy_score(y_pred, y_test)"
      ],
      "metadata": {
        "id": "PekI4xOu2ldB",
        "colab": {
          "base_uri": "https://localhost:8080/"
        },
        "outputId": "7cff8940-b55e-40cf-988d-edb05bf2cf17"
      },
      "execution_count": null,
      "outputs": [
        {
          "output_type": "stream",
          "name": "stdout",
          "text": [
            "[[ 889    0   20    8    0    9   13    3    8    5]\n",
            " [   0 1080   16    8    2    7    3    4   74    1]\n",
            " [   9   10  822   21    0    5   21    4   11    0]\n",
            " [  24    7   33  891    2   88    0    6   43   12]\n",
            " [   4    4   13    3  882   24   40   10   37   50]\n",
            " [  20    6    7   37    0  702   20    0   47    5]\n",
            " [  15    0   29    1   22    9  877    0    8    1]\n",
            " [  17   12   38   36   13   10    0  964   12  143]\n",
            " [   5    4   20   13    1   36    6    2  716    5]\n",
            " [   3    2    1    2   53   12    2   49   19  772]]\n"
          ]
        },
        {
          "output_type": "execute_result",
          "data": {
            "text/plain": [
              "0.8595"
            ]
          },
          "metadata": {},
          "execution_count": 31
        }
      ]
    },
    {
      "cell_type": "markdown",
      "source": [
        "The Confusion Matrix shows an accuracy score of 85.95%, therefore, even if the original labels are planted in the first pixel values, a 100% accuracy is not reached."
      ],
      "metadata": {
        "id": "hZuGgXeDOqqE"
      }
    },
    {
      "cell_type": "code",
      "source": [
        "# Accuracy using original data (no implanted label within the image) with same hyperparameters.\n",
        "\n",
        "X, y = fetch_openml('mnist_784', version=1, return_X_y=True)\n",
        "y = y.astype(int)\n",
        "X = ((X / 255.) - .5) * 2\n",
        "X_train_original, X_test_original, y_train_original, y_test_original = train_test_split( X, y, test_size = 10000, random_state = 123, stratify=y)\n",
        "mlp_mnist_original = MLPClassifier(verbose = True, hidden_layer_sizes = (5,), batch_size = 10, \\\n",
        "                          max_iter = 20, solver = 'sgd', activation = 'logistic',\\\n",
        "                          learning_rate = 'constant', learning_rate_init = 0.001, random_state = 1)\n",
        "\n",
        "mlp_mnist_original.fit(X_train_original,y_train_original)\n",
        "\n",
        "from sklearn.metrics import confusion_matrix\n",
        "y_pred_original = mlp_mnist_original.predict(X_test_original)\n",
        "CM_original = confusion_matrix(y_pred_original, y_test_original)\n",
        "print(CM_original)\n",
        "\n",
        "from sklearn.metrics import accuracy_score\n",
        "accuracy_score(y_pred_original, y_test_original)"
      ],
      "metadata": {
        "id": "HXEtyWCw2nY-",
        "colab": {
          "base_uri": "https://localhost:8080/"
        },
        "outputId": "2cb23ed5-b8c8-4be1-a780-0eaad8004f16"
      },
      "execution_count": null,
      "outputs": [
        {
          "output_type": "stream",
          "name": "stderr",
          "text": [
            "/usr/local/lib/python3.9/dist-packages/sklearn/datasets/_openml.py:968: FutureWarning: The default value of `parser` will change from `'liac-arff'` to `'auto'` in 1.4. You can set `parser='auto'` to silence this warning. Therefore, an `ImportError` will be raised from 1.4 if the dataset is dense and pandas is not installed. Note that the pandas parser may return different data types. See the Notes Section in fetch_openml's API doc for details.\n",
            "  warn(\n"
          ]
        },
        {
          "output_type": "stream",
          "name": "stdout",
          "text": [
            "Iteration 1, loss = 1.52494227\n",
            "Iteration 2, loss = 0.88888380\n",
            "Iteration 3, loss = 0.71952522\n",
            "Iteration 4, loss = 0.63688762\n",
            "Iteration 5, loss = 0.58159252\n",
            "Iteration 6, loss = 0.54008738\n",
            "Iteration 7, loss = 0.51191195\n",
            "Iteration 8, loss = 0.49312076\n",
            "Iteration 9, loss = 0.48007224\n",
            "Iteration 10, loss = 0.47009466\n",
            "Iteration 11, loss = 0.46139037\n",
            "Iteration 12, loss = 0.45464428\n",
            "Iteration 13, loss = 0.44981172\n",
            "Iteration 14, loss = 0.44456725\n",
            "Iteration 15, loss = 0.44106657\n",
            "Iteration 16, loss = 0.43816835\n",
            "Iteration 17, loss = 0.43578643\n",
            "Iteration 18, loss = 0.43223451\n",
            "Iteration 19, loss = 0.42975625\n",
            "Iteration 20, loss = 0.42805514\n",
            "[[ 889    0   19    8    0    9   13    3    8    5]\n",
            " [   0 1080   16    8    2    7    3    4   75    1]\n",
            " [   9   10  822   21    0    5   21    4   11    0]\n",
            " [  24    7   34  891    2   88    0    6   44   12]\n",
            " [   4    4   13    3  882   24   40    9   37   50]\n",
            " [  20    6    7   37    0  702   20    0   47    5]\n",
            " [  15    0   29    1   22    9  877    0    8    1]\n",
            " [  17   12   38   36   12   10    0  964   12  143]\n",
            " [   5    4   20   13    1   36    6    2  714    5]\n",
            " [   3    2    1    2   54   12    2   50   19  772]]\n"
          ]
        },
        {
          "output_type": "stream",
          "name": "stderr",
          "text": [
            "/usr/local/lib/python3.9/dist-packages/sklearn/neural_network/_multilayer_perceptron.py:686: ConvergenceWarning: Stochastic Optimizer: Maximum iterations (20) reached and the optimization hasn't converged yet.\n",
            "  warnings.warn(\n"
          ]
        },
        {
          "output_type": "execute_result",
          "data": {
            "text/plain": [
              "0.8593"
            ]
          },
          "metadata": {},
          "execution_count": 32
        }
      ]
    },
    {
      "cell_type": "markdown",
      "source": [
        "Based on the above confusion matrices and, I can conclude that original data based prediction accuracy (85.93%) is lower than the data having original label planted in pixel 1 (85.95%). Therefore, MLP CLassifier is not able to predict with 100% accuracy, however, predicted with better accuracy than original data."
      ],
      "metadata": {
        "id": "jpc3L7K62r12"
      }
    },
    {
      "cell_type": "markdown",
      "source": [
        "---------------------------------------------------------------"
      ],
      "metadata": {
        "id": "49a3gAvFwciD"
      }
    },
    {
      "cell_type": "code",
      "metadata": {
        "id": "Y-3zk90UufrX"
      },
      "source": [
        "# For grader use only\n",
        "\n",
        "# Insert grade here\n",
        "# G[2,0] =   \n",
        "# G[2,1] = \n",
        "# G[2,2] =\n",
        "\n",
        "maxScore = maxScore + 12"
      ],
      "execution_count": null,
      "outputs": []
    },
    {
      "cell_type": "code",
      "metadata": {
        "id": "fydXo8GRGkbp"
      },
      "source": [
        "# For grader use\n",
        "# Total Grade Calculation\n",
        "\n",
        "rawScore = np.sum(G)\n",
        "score = rawScore*100/maxScore"
      ],
      "execution_count": null,
      "outputs": []
    }
  ]
}