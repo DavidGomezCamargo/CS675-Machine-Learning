{
  "nbformat": 4,
  "nbformat_minor": 0,
  "metadata": {
    "kernelspec": {
      "display_name": "Python 3",
      "language": "python",
      "name": "python3"
    },
    "language_info": {
      "codemirror_mode": {
        "name": "ipython",
        "version": 3
      },
      "file_extension": ".py",
      "mimetype": "text/x-python",
      "name": "python",
      "nbconvert_exporter": "python",
      "pygments_lexer": "ipython3",
      "version": "3.7.4"
    },
    "colab": {
      "provenance": []
    }
  },
  "cells": [
    {
      "cell_type": "markdown",
      "metadata": {
        "id": "Tajfsk_7JY3E"
      },
      "source": [
        "**Note to grader:** Each question consists of parts, e.g. Q1(i), Q1(ii), etc. Each part must be graded  on a 0-4 scale, following the standard NJIT convention (A:4, B+: 3.5, B:3, C+: 2.5, C: 2, D:1, F:0). \n",
        "The total score must be re-scaled to 100 -- that should apply to all future assignments so that Canvas assigns the same weight on all assignments. \n",
        "\n"
      ]
    },
    {
      "cell_type": "markdown",
      "metadata": {
        "id": "0EFEd0Xqs5A2"
      },
      "source": [
        "# **Assignment 2**\n",
        "\n",
        "This assignment walks you through the basics of the perceptron. You will also do some first experiments on a toy data set, and check the effect of hyperparameters. The intended goal of the assignment is to familiarize you further with the Jupyter/Colab environment and help you acquire some tools that we will later use to experiment with 'professional-grade' data sets and algorithms. \n",
        "\n",
        "\n",
        "<b>Note: </b> You must run/evaluate all cells. <b>Order of cell execution is important.<b>"
      ]
    },
    {
      "cell_type": "markdown",
      "metadata": {
        "id": "XFiUns92s5A3"
      },
      "source": [
        "## Preparation Steps"
      ]
    },
    {
      "cell_type": "code",
      "metadata": {
        "id": "7LI03-u2s5A3"
      },
      "source": [
        "# Import all necessary python packages\n",
        "import numpy as np\n",
        "import os\n",
        "import pandas as pd\n",
        "import matplotlib.pyplot as plt\n",
        "from matplotlib.colors import ListedColormap"
      ],
      "execution_count": 1,
      "outputs": []
    },
    {
      "cell_type": "code",
      "metadata": {
        "id": "T_yXB--1s5A7",
        "outputId": "2699901c-6af4-4b29-f457-b2f8da7db05a",
        "colab": {
          "base_uri": "https://localhost:8080/"
        }
      },
      "source": [
        "# ### Loading the Iris data\n",
        "\n",
        "s = os.path.join('https://archive.ics.uci.edu', 'ml',\n",
        "                 'machine-learning-databases', 'iris','iris.data')\n",
        "s = s.replace(\"\\\\\",\"/\");\n",
        "print('URL:', s)\n",
        "df = pd.read_csv(s,header=None,encoding='utf-8')\n"
      ],
      "execution_count": 2,
      "outputs": [
        {
          "output_type": "stream",
          "name": "stdout",
          "text": [
            "URL: https://archive.ics.uci.edu/ml/machine-learning-databases/iris/iris.data\n"
          ]
        }
      ]
    },
    {
      "cell_type": "code",
      "metadata": {
        "id": "M27Ih_Jys5A-",
        "outputId": "7278b6de-28f7-455a-a5ce-d14abbbeefb6",
        "colab": {
          "base_uri": "https://localhost:8080/",
          "height": 279
        }
      },
      "source": [
        "# select setosa and versicolor\n",
        "y = df.iloc[0:100, 4].values\n",
        "y = np.where(y == 'Iris-setosa', -1, 1)\n",
        "\n",
        "# extract sepal length and petal length\n",
        "X = df.iloc[:100, [0, 2]].values\n",
        "\n",
        "# plot data\n",
        "plt.scatter(X[:50, 0], X[:50, 1],\n",
        "            color='red', marker='o', label='setosa')\n",
        "plt.scatter(X[50:100, 0], X[50:100, 1],\n",
        "            color='blue', marker='x', label='versicolor')\n",
        "\n",
        "plt.xlabel('sepal length [cm]')\n",
        "plt.ylabel('petal length [cm]')\n",
        "plt.legend(loc='upper left')\n",
        "\n",
        "\n",
        "# plt.savefig('images/02_06.png', dpi=300)\n",
        "plt.show()"
      ],
      "execution_count": 3,
      "outputs": [
        {
          "output_type": "display_data",
          "data": {
            "text/plain": [
              "<Figure size 432x288 with 1 Axes>"
            ],
            "image/png": "[encoded data removed]"
          },
          "metadata": {
            "needs_background": "light"
          }
        }
      ]
    },
    {
      "cell_type": "markdown",
      "source": [
        "-----------------------\n",
        "-----------------------\n",
        "-----------------------\n",
        "\n"
      ],
      "metadata": {
        "id": "mGypVpOlnmtY"
      }
    },
    {
      "cell_type": "markdown",
      "metadata": {
        "id": "nu16p_t8s5BA"
      },
      "source": [
        "## <font color='#008DFF'> **Question 0: Manual Perceptron Training**"
      ]
    },
    {
      "cell_type": "markdown",
      "metadata": {
        "id": "BDyWFxPjs5BB"
      },
      "source": [
        "Below you can see the first 5 data points of the data set, all labeled as 'setosa'. "
      ]
    },
    {
      "cell_type": "code",
      "metadata": {
        "id": "tEFG3hqRs5BB",
        "outputId": "2a89891e-6788-45cd-e5e9-ccf2fd0e46bb",
        "colab": {
          "base_uri": "https://localhost:8080/"
        }
      },
      "source": [
        "X[0:5], y[0:5]"
      ],
      "execution_count": 4,
      "outputs": [
        {
          "output_type": "execute_result",
          "data": {
            "text/plain": [
              "(array([[5.1, 1.4],\n",
              "        [4.9, 1.4],\n",
              "        [4.7, 1.3],\n",
              "        [4.6, 1.5],\n",
              "        [5. , 1.4]]), array([-1, -1, -1, -1, -1]))"
            ]
          },
          "metadata": {},
          "execution_count": 4
        }
      ]
    },
    {
      "cell_type": "markdown",
      "metadata": {
        "id": "b_8xfoZEs5BE"
      },
      "source": [
        "Suppose the initial weights of the perceptron are $w_0=0.1$, $w_1=0.2$, $w_2=-0.1$. Here $w_0$ is the bias. \n",
        "\n",
        "Write the weights after processing data points 0, 1, 2, and show your calculations (with $\\eta = 0.1$ and noting that $y,\\hat{y}\\in\\{-1,1\\}$):\n",
        "\n",
        "Please give your answers in the cell below. "
      ]
    },
    {
      "cell_type": "markdown",
      "source": [
        "<br>Double click here to type your answer.\n",
        "<br>\n",
        "<br>\n",
        "<br>\n",
        "<br>"
      ],
      "metadata": {
        "id": "eCd89PaUiloG"
      }
    },
    {
      "cell_type": "code",
      "source": [
        "## DATA POINT 0: (5.1, 1.4)\n",
        "\n",
        "n = 0.1\n",
        "w0 = 0.1\n",
        "w1 = 0.2\n",
        "w2 = -0.1\n",
        "\n",
        "x1 = 5.1\n",
        "x2 = 1.4\n",
        "y_ = -1\n",
        "\n",
        "if w1*x1 + w2*x2 + w0 >= 0:\n",
        "  y_hat = 1\n",
        "else:\n",
        "  y_hat = -1\n",
        "\n",
        "w0 = w0 + n*(y_ - y_hat)\n",
        "w1 = w1 + n*(y_ - y_hat)*x1\n",
        "w2 = w2 + n*(y_ - y_hat)*x2\n",
        "\n",
        "print(w0, w1, w2)"
      ],
      "metadata": {
        "colab": {
          "base_uri": "https://localhost:8080/"
        },
        "id": "3GLTWGEbUq99",
        "outputId": "61a687a1-9e25-4b54-8769-c18d099a5ff6"
      },
      "execution_count": 5,
      "outputs": [
        {
          "output_type": "stream",
          "name": "stdout",
          "text": [
            "-0.1 -0.8200000000000001 -0.38\n"
          ]
        }
      ]
    },
    {
      "cell_type": "code",
      "source": [
        "## DATA POINT 1: (4.9, 1.4) WITH ORIGINAL WEIGHTS\n",
        "\n",
        "n = 0.1\n",
        "w0 = 0.1\n",
        "w1 = 0.2\n",
        "w2 = -0.1\n",
        "\n",
        "x1 = 4.9\n",
        "x2 = 1.4\n",
        "y_ = -1\n",
        "\n",
        "if w1*x1 + w2*x2 + w0 >= 0:\n",
        "  y_hat = 1\n",
        "else:\n",
        "  y_hat = -1\n",
        "\n",
        "w0 = w0 + n*(y_ - y_hat)\n",
        "w1 = w1 + n*(y_ - y_hat)*x1\n",
        "w2 = w2 + n*(y_ - y_hat)*x2\n",
        "\n",
        "print(w0, w1, w2)"
      ],
      "metadata": {
        "colab": {
          "base_uri": "https://localhost:8080/"
        },
        "id": "oVqvzd0YY0Z9",
        "outputId": "37166595-3a98-4baf-ab88-0085c8a0cb0f"
      },
      "execution_count": 6,
      "outputs": [
        {
          "output_type": "stream",
          "name": "stdout",
          "text": [
            "-0.1 -0.78 -0.38\n"
          ]
        }
      ]
    },
    {
      "cell_type": "code",
      "source": [
        "## DATA POINT 1: (4.9, 1.4) WITH NEW WEIGHTS\n",
        "\n",
        "n = 0.1\n",
        "w0 = -0.1\n",
        "w1 = -0.82\n",
        "w2 = -0.38\n",
        "\n",
        "x1 = 4.9\n",
        "x2 = 1.4\n",
        "y_ = -1\n",
        "\n",
        "if w1*x1 + w2*x2 + w0 >= 0:\n",
        "  y_hat = 1\n",
        "else:\n",
        "  y_hat = -1\n",
        "\n",
        "w0 = w0 + n*(y_ - y_hat)\n",
        "w1 = w1 + n*(y_ - y_hat)*x1\n",
        "w2 = w2 + n*(y_ - y_hat)*x2\n",
        "\n",
        "print(w0, w1, w2)"
      ],
      "metadata": {
        "colab": {
          "base_uri": "https://localhost:8080/"
        },
        "id": "PUVpAf0yoDV5",
        "outputId": "5c725ce2-2e33-4cd2-f048-3f82dc717f29"
      },
      "execution_count": 7,
      "outputs": [
        {
          "output_type": "stream",
          "name": "stdout",
          "text": [
            "-0.1 -0.82 -0.38\n"
          ]
        }
      ]
    },
    {
      "cell_type": "code",
      "source": [
        "## DATA POINT 2: (4.7, 1.3) WITH ORIGINAL WEIGHTS\n",
        "\n",
        "n = 0.1\n",
        "w0 = 0.1\n",
        "w1 = 0.2\n",
        "w2 = -0.1\n",
        "\n",
        "x1 = 4.7\n",
        "x2 = 1.3\n",
        "y_ = -1\n",
        "\n",
        "if w1*x1 + w2*x2 + w0 >= 0:\n",
        "  y_hat = 1\n",
        "else:\n",
        "  y_hat = -1\n",
        "\n",
        "w0 = w0 + n*(y_ - y_hat)\n",
        "w1 = w1 + n*(y_ - y_hat)*x1\n",
        "w2 = w2 + n*(y_ - y_hat)*x2\n",
        "\n",
        "print(w0, w1, w2)"
      ],
      "metadata": {
        "colab": {
          "base_uri": "https://localhost:8080/"
        },
        "id": "44fsXXcbY0rm",
        "outputId": "4a7746bb-4076-4966-ab9b-058132050928"
      },
      "execution_count": 8,
      "outputs": [
        {
          "output_type": "stream",
          "name": "stdout",
          "text": [
            "-0.1 -0.74 -0.36\n"
          ]
        }
      ]
    },
    {
      "cell_type": "code",
      "source": [
        "## DATA POINT 2: (4.7, 1.3) WITH NEW WEIGHTS\n",
        "\n",
        "n = 0.1\n",
        "w0 = -0.1\n",
        "w1 = -0.82\n",
        "w2 = -0.38\n",
        "\n",
        "x1 = 4.7\n",
        "x2 = 1.3\n",
        "y_ = -1\n",
        "\n",
        "if w1*x1 + w2*x2 + w0 >= 0:\n",
        "  y_hat = 1\n",
        "else:\n",
        "  y_hat = -1\n",
        "\n",
        "w0 = w0 + n*(y_ - y_hat)\n",
        "w1 = w1 + n*(y_ - y_hat)*x1\n",
        "w2 = w2 + n*(y_ - y_hat)*x2\n",
        "\n",
        "print(w0, w1, w2)"
      ],
      "metadata": {
        "colab": {
          "base_uri": "https://localhost:8080/"
        },
        "id": "i1smgATdoPYV",
        "outputId": "0d531b96-819a-4b9e-9402-17fd1489c96b"
      },
      "execution_count": 9,
      "outputs": [
        {
          "output_type": "stream",
          "name": "stdout",
          "text": [
            "-0.1 -0.82 -0.38\n"
          ]
        }
      ]
    },
    {
      "cell_type": "code",
      "source": [
        "# Grader's area\n",
        "import numpy as np\n",
        "M = np.zeros([10,10])\n",
        "maxScore = 0\n",
        "\n",
        "maxScore = maxScore +4\n",
        "# M[0,1] = "
      ],
      "metadata": {
        "id": "zPnHTf9MfT5X"
      },
      "execution_count": null,
      "outputs": []
    },
    {
      "cell_type": "markdown",
      "source": [
        "-----------------------\n",
        "-----------------------\n",
        "-----------------------\n"
      ],
      "metadata": {
        "id": "aE0lUky4nrL5"
      }
    },
    {
      "cell_type": "markdown",
      "metadata": {
        "id": "GZr0a5pas5BE"
      },
      "source": [
        "## <font color='#008DFF'> **Question 1: Perceptron Code Modification**"
      ]
    },
    {
      "cell_type": "markdown",
      "metadata": {
        "id": "SpOkp4Ois5BE"
      },
      "source": [
        "The following code is a perceptron implementation (with three do-nothing lines 59-61)."
      ]
    },
    {
      "cell_type": "code",
      "metadata": {
        "id": "zG3B5C1rs5BF"
      },
      "source": [
        "import numpy as np\n",
        "\n",
        "\n",
        "class Perceptron(object):\n",
        "    \"\"\"Perceptron classifier.\n",
        "\n",
        "    Parameters\n",
        "    ------------\n",
        "    eta : float\n",
        "      Learning rate (between 0.0 and 1.0)\n",
        "    n_iter : int\n",
        "      Passes over the training dataset.\n",
        "    random_state : int\n",
        "      Random number generator seed for random weight\n",
        "      initialization.\n",
        "\n",
        "    Attributes\n",
        "    -----------\n",
        "    w_ : 1d-array\n",
        "      Weights after fitting.\n",
        "    errors_ : list\n",
        "      Number of misclassifications (updates) in each epoch.\n",
        "\n",
        "    \"\"\"\n",
        "    def __init__(self, eta=0.01, n_iter=50, random_state=1):\n",
        "        self.eta = eta\n",
        "        self.n_iter = n_iter\n",
        "        self.random_state = random_state\n",
        "\n",
        "    def fit(self, X, y):\n",
        "        \"\"\"Fit training data.\n",
        "\n",
        "        Parameters\n",
        "        ----------\n",
        "        X : {array-like}, shape = [n_examples, n_features]\n",
        "          Training vectors, where n_examples is the number of examples and\n",
        "          n_features is the number of features.\n",
        "        y : array-like, shape = [n_examples]\n",
        "          Target values.\n",
        "\n",
        "        Returns\n",
        "        -------\n",
        "        self : object\n",
        "\n",
        "        \"\"\"\n",
        "        rgen = np.random.RandomState(self.random_state)\n",
        "        self.w_ = rgen.normal(loc=0.0, scale=0.01, size=1 + X.shape[1])\n",
        "        self.errors_ = []\n",
        "        self.history_w_=[] ### Parameter to append all weights in model\n",
        "\n",
        "        for _ in range(self.n_iter):\n",
        "            errors = 0\n",
        "            for xi, target in zip(X, y):\n",
        "                update = self.eta * (target - self.predict(xi))\n",
        "                self.w_[1:] += update * xi\n",
        "                self.w_[0] += update\n",
        "                errors += int(update != 0.0)\n",
        "                self.history_w_.append(self.w_) ### (iii) The perceptron maintains a history of its weights\n",
        "            \n",
        "            if (len(self.errors_) >= 1): ### (i) The fit function stops when no more iterations are necessary.\n",
        "                if self.errors_[-1]==0:\n",
        "                    print('Model Converged')\n",
        "                    break\n",
        "                      \n",
        "            self.errors_.append(errors)\n",
        "      \n",
        "        print('Iterations needed are ',_) ### (ii) The trained perceptron contains the number of iterations it took for training.\n",
        "        print(self.w_)\n",
        "        return self\n",
        "\n",
        "    def net_input(self, X):\n",
        "        \"\"\"Calculate net input\"\"\"\n",
        "        return np.dot(X, self.w_[1:]) + self.w_[0]\n",
        "\n",
        "    def predict(self, X):\n",
        "        \"\"\"Return class label after unit step\"\"\"\n",
        "        return np.where(self.net_input(X) >= 0.0, 1, -1)"
      ],
      "execution_count": 10,
      "outputs": []
    },
    {
      "cell_type": "markdown",
      "metadata": {
        "id": "KSp8dd3Ws5BH"
      },
      "source": [
        " \n",
        "Work on the above cell and modify the code so that:\n",
        "\n",
        "(i) The fit function stops when no more iterations are necessary. <br>\n",
        "(ii) The trained perceptron contains as an attribute not only its weights, but also the number of iterations it took for training. <br>\n",
        "(iii) The perceptron maintains a history of its weights, i.e. the set of weights after each point is processed.\n",
        "\n",
        "To modify the code please insert your code with clear comments surrounding it, similarly to my \"do-nothing\" code. Make sure you evaluate the cell again, so that following cells will be using the modified perceptron.\n",
        "\n"
      ]
    },
    {
      "cell_type": "code",
      "source": [
        "# Grader's area\n",
        "\n",
        "maxScore = maxScore +4\n",
        "# M[1,1] = \n",
        "# M[1,2] = \n",
        "# M[1,3] = "
      ],
      "metadata": {
        "id": "jhbNBujBE6AZ"
      },
      "execution_count": null,
      "outputs": []
    },
    {
      "cell_type": "markdown",
      "source": [
        "-----------------------\n",
        "-----------------------\n",
        "-----------------------\n"
      ],
      "metadata": {
        "id": "HJnkSzlLntr7"
      }
    },
    {
      "cell_type": "markdown",
      "metadata": {
        "id": "FE-HlQjrs5BH"
      },
      "source": [
        "## <font color='#008DFF'> **Question 2: Experimenting with hyperparameters**"
      ]
    },
    {
      "cell_type": "code",
      "metadata": {
        "id": "_1LFHklis5BI",
        "outputId": "e90f5d44-a168-41c7-9364-151843661344",
        "colab": {
          "base_uri": "https://localhost:8080/",
          "height": 331
        }
      },
      "source": [
        "ppn = Perceptron(eta=0.0001, n_iter=20, random_state=1)\n",
        "\n",
        "ppn.fit(X, y)\n",
        "\n",
        "plt.plot(range(1, len(ppn.errors_) + 1), ppn.errors_, marker='o')\n",
        "plt.xlabel('Epochs')\n",
        "plt.ylabel('Number of updates')\n",
        "\n",
        "plt.show()"
      ],
      "execution_count": 11,
      "outputs": [
        {
          "output_type": "stream",
          "name": "stdout",
          "text": [
            "Model Converged\n",
            "Iterations needed are  16\n",
            "[ 0.01484345 -0.00547756  0.00567828]\n"
          ]
        },
        {
          "output_type": "display_data",
          "data": {
            "text/plain": [
              "<Figure size 432x288 with 1 Axes>"
            ],
            "image/png": "[encoded data removed]"
          },
          "metadata": {
            "needs_background": "light"
          }
        }
      ]
    },
    {
      "cell_type": "markdown",
      "metadata": {
        "id": "TPJ-seyas5BL"
      },
      "source": [
        "Running the above code, you can verify if your modification in question 1 works correctly. The point of this question is to experiment with the different hyperparameters. Here are some specific questions:<br>\n",
        "(i) Find the largest value of $\\eta$ for which the process takes more than 20 iterations to converge. Explain how you found that $\\eta$. <br>\n",
        "(ii) Are you able to find $\\eta>1$ for which the process fails to converge in less than 30 iterations? <br>\n",
        "(iii) Find two different settings for the random state, that give different convergence patterns, for the same $\\eta$. \n",
        "\n",
        "Please give your answers in the cell below. "
      ]
    },
    {
      "cell_type": "code",
      "source": [
        "### (i) Find the largest value of  η  for which the process takes more than 20 iterations to converge. Explain how you found that  η .\n",
        "\n",
        "ppn = Perceptron(eta=0.00005, n_iter=40, random_state=1)\n",
        "\n",
        "ppn.fit(X, y)\n",
        "\n",
        "plt.plot(range(1, len(ppn.errors_) + 1), ppn.errors_, marker='o')\n",
        "plt.xlabel('Epochs')\n",
        "plt.ylabel('Number of updates')\n",
        "\n",
        "\n",
        "plt.show()"
      ],
      "metadata": {
        "colab": {
          "base_uri": "https://localhost:8080/",
          "height": 331
        },
        "id": "odbtskre6Jpo",
        "outputId": "4e3ff887-bc25-45a1-da05-4abb1240125c"
      },
      "execution_count": 12,
      "outputs": [
        {
          "output_type": "stream",
          "name": "stdout",
          "text": [
            "Model Converged\n",
            "Iterations needed are  21\n",
            "[ 0.01504345 -0.00506756  0.00443828]\n"
          ]
        },
        {
          "output_type": "display_data",
          "data": {
            "text/plain": [
              "<Figure size 432x288 with 1 Axes>"
            ],
            "image/png": "[encoded data removed]"
          },
          "metadata": {
            "needs_background": "light"
          }
        }
      ]
    },
    {
      "cell_type": "code",
      "source": [
        "ppn = Perceptron(eta=0.00006, n_iter=40, random_state=1)\n",
        "\n",
        "ppn.fit(X, y)\n",
        "\n",
        "plt.plot(range(1, len(ppn.errors_) + 1), ppn.errors_, marker='o')\n",
        "plt.xlabel('Epochs')\n",
        "plt.ylabel('Number of updates')\n",
        "\n",
        "\n",
        "plt.show()"
      ],
      "metadata": {
        "colab": {
          "base_uri": "https://localhost:8080/",
          "height": 331
        },
        "id": "sgWW7VO0AdsH",
        "outputId": "f5d832ae-8369-40ab-836c-3dc8e99b3476"
      },
      "execution_count": 13,
      "outputs": [
        {
          "output_type": "stream",
          "name": "stdout",
          "text": [
            "Model Converged\n",
            "Iterations needed are  19\n",
            "[ 0.01504345 -0.00501356  0.00473828]\n"
          ]
        },
        {
          "output_type": "display_data",
          "data": {
            "text/plain": [
              "<Figure size 432x288 with 1 Axes>"
            ],
            "image/png": "[encoded data removed]"
          },
          "metadata": {
            "needs_background": "light"
          }
        }
      ]
    },
    {
      "cell_type": "code",
      "source": [
        "ppn = Perceptron(eta=0.000051, n_iter=40, random_state=1)\n",
        "\n",
        "ppn.fit(X, y)\n",
        "\n",
        "plt.plot(range(1, len(ppn.errors_) + 1), ppn.errors_, marker='o')\n",
        "plt.xlabel('Epochs')\n",
        "plt.ylabel('Number of updates')\n",
        "\n",
        "\n",
        "plt.show()"
      ],
      "metadata": {
        "colab": {
          "base_uri": "https://localhost:8080/",
          "height": 331
        },
        "id": "1u2mogkt76ID",
        "outputId": "2d8d5360-854f-4f1d-80da-4673fc578297"
      },
      "execution_count": 14,
      "outputs": [
        {
          "output_type": "stream",
          "name": "stdout",
          "text": [
            "Model Converged\n",
            "Iterations needed are  21\n",
            "[ 0.01501945 -0.00511796  0.00455108]\n"
          ]
        },
        {
          "output_type": "display_data",
          "data": {
            "text/plain": [
              "<Figure size 432x288 with 1 Axes>"
            ],
            "image/png": "[encoded data removed]"
          },
          "metadata": {
            "needs_background": "light"
          }
        }
      ]
    },
    {
      "cell_type": "code",
      "source": [
        "ppn = Perceptron(eta=0.0000510, n_iter=40, random_state=1)\n",
        "\n",
        "ppn.fit(X, y)\n",
        "\n",
        "plt.plot(range(1, len(ppn.errors_) + 1), ppn.errors_, marker='o')\n",
        "plt.xlabel('Epochs')\n",
        "plt.ylabel('Number of updates')\n",
        "\n",
        "\n",
        "plt.show()"
      ],
      "metadata": {
        "colab": {
          "base_uri": "https://localhost:8080/",
          "height": 331
        },
        "id": "4DTP2trh_fRx",
        "outputId": "b740b8a9-9868-40c9-d789-35226e716974"
      },
      "execution_count": 15,
      "outputs": [
        {
          "output_type": "stream",
          "name": "stdout",
          "text": [
            "Model Converged\n",
            "Iterations needed are  21\n",
            "[ 0.01501945 -0.00511796  0.00455108]\n"
          ]
        },
        {
          "output_type": "display_data",
          "data": {
            "text/plain": [
              "<Figure size 432x288 with 1 Axes>"
            ],
            "image/png": "[encoded data removed]"
          },
          "metadata": {
            "needs_background": "light"
          }
        }
      ]
    },
    {
      "cell_type": "code",
      "source": [
        "ppn = Perceptron(eta=0.00005109, n_iter=40, random_state=1)\n",
        "\n",
        "ppn.fit(X, y)\n",
        "\n",
        "plt.plot(range(1, len(ppn.errors_) + 1), ppn.errors_, marker='o')\n",
        "plt.xlabel('Epochs')\n",
        "plt.ylabel('Number of updates')\n",
        "\n",
        "\n",
        "plt.show()"
      ],
      "metadata": {
        "colab": {
          "base_uri": "https://localhost:8080/",
          "height": 331
        },
        "id": "R68VM5dc_hpV",
        "outputId": "a356f51e-ca48-4651-993b-71d32df8dbb4"
      },
      "execution_count": 16,
      "outputs": [
        {
          "output_type": "stream",
          "name": "stdout",
          "text": [
            "Model Converged\n",
            "Iterations needed are  22\n",
            "[ 0.01491511 -0.00521838  0.00479323]\n"
          ]
        },
        {
          "output_type": "display_data",
          "data": {
            "text/plain": [
              "<Figure size 432x288 with 1 Axes>"
            ],
            "image/png": "[encoded data removed]"
          },
          "metadata": {
            "needs_background": "light"
          }
        }
      ]
    },
    {
      "cell_type": "code",
      "source": [
        "ppn = Perceptron(eta=0.000051092, n_iter=40, random_state=1)\n",
        "\n",
        "ppn.fit(X, y)\n",
        "\n",
        "plt.plot(range(1, len(ppn.errors_) + 1), ppn.errors_, marker='o')\n",
        "plt.xlabel('Epochs')\n",
        "plt.ylabel('Number of updates')\n",
        "\n",
        "\n",
        "plt.show()"
      ],
      "metadata": {
        "colab": {
          "base_uri": "https://localhost:8080/",
          "height": 331
        },
        "id": "lkNRPNMd_jtH",
        "outputId": "81854c61-c313-46bd-e79f-48193c402ebf"
      },
      "execution_count": 17,
      "outputs": [
        {
          "output_type": "stream",
          "name": "stdout",
          "text": [
            "Model Converged\n",
            "Iterations needed are  22\n",
            "[ 0.01491506 -0.00521834  0.00479362]\n"
          ]
        },
        {
          "output_type": "display_data",
          "data": {
            "text/plain": [
              "<Figure size 432x288 with 1 Axes>"
            ],
            "image/png": "[encoded data removed]"
          },
          "metadata": {
            "needs_background": "light"
          }
        }
      ]
    },
    {
      "cell_type": "code",
      "source": [
        "ppn = Perceptron(eta=0.0000510921, n_iter=40, random_state=1)\n",
        "\n",
        "ppn.fit(X, y)\n",
        "\n",
        "plt.plot(range(1, len(ppn.errors_) + 1), ppn.errors_, marker='o')\n",
        "plt.xlabel('Epochs')\n",
        "plt.ylabel('Number of updates')\n",
        "\n",
        "\n",
        "plt.show()"
      ],
      "metadata": {
        "colab": {
          "base_uri": "https://localhost:8080/",
          "height": 331
        },
        "id": "_NelpXwx_nDG",
        "outputId": "f5c0e2da-8d37-49e5-f939-54f7738c647f"
      },
      "execution_count": 18,
      "outputs": [
        {
          "output_type": "stream",
          "name": "stdout",
          "text": [
            "Model Converged\n",
            "Iterations needed are  22\n",
            "[ 0.01491506 -0.00521834  0.00479364]\n"
          ]
        },
        {
          "output_type": "display_data",
          "data": {
            "text/plain": [
              "<Figure size 432x288 with 1 Axes>"
            ],
            "image/png": "[encoded data removed]"
          },
          "metadata": {
            "needs_background": "light"
          }
        }
      ]
    },
    {
      "cell_type": "code",
      "source": [
        "ppn = Perceptron(eta=0.00005109216, n_iter=40, random_state=1)\n",
        "\n",
        "ppn.fit(X, y)\n",
        "\n",
        "plt.plot(range(1, len(ppn.errors_) + 1), ppn.errors_, marker='o')\n",
        "plt.xlabel('Epochs')\n",
        "plt.ylabel('Number of updates')\n",
        "\n",
        "\n",
        "plt.show()"
      ],
      "metadata": {
        "colab": {
          "base_uri": "https://localhost:8080/",
          "height": 331
        },
        "id": "YUgRg-mO8ETi",
        "outputId": "c5e57068-3414-49ad-bdcd-b927ea8d8bf7"
      },
      "execution_count": 19,
      "outputs": [
        {
          "output_type": "stream",
          "name": "stdout",
          "text": [
            "Model Converged\n",
            "Iterations needed are  22\n",
            "[ 0.01491506 -0.00521834  0.00479366]\n"
          ]
        },
        {
          "output_type": "display_data",
          "data": {
            "text/plain": [
              "<Figure size 432x288 with 1 Axes>"
            ],
            "image/png": "[encoded data removed]"
          },
          "metadata": {
            "needs_background": "light"
          }
        }
      ]
    },
    {
      "cell_type": "code",
      "source": [
        "ppn = Perceptron(eta=0.000051092164, n_iter=40, random_state=1)\n",
        "\n",
        "ppn.fit(X, y)\n",
        "\n",
        "plt.plot(range(1, len(ppn.errors_) + 1), ppn.errors_, marker='o')\n",
        "plt.xlabel('Epochs')\n",
        "plt.ylabel('Number of updates')\n",
        "\n",
        "\n",
        "plt.show()"
      ],
      "metadata": {
        "colab": {
          "base_uri": "https://localhost:8080/",
          "height": 331
        },
        "id": "Ph69nh3690C2",
        "outputId": "636b9c55-aeac-4edc-c394-d75be20882d6"
      },
      "execution_count": 20,
      "outputs": [
        {
          "output_type": "stream",
          "name": "stdout",
          "text": [
            "Model Converged\n",
            "Iterations needed are  22\n",
            "[ 0.01491506 -0.00521834  0.00479366]\n"
          ]
        },
        {
          "output_type": "display_data",
          "data": {
            "text/plain": [
              "<Figure size 432x288 with 1 Axes>"
            ],
            "image/png": "[encoded data removed]"
          },
          "metadata": {
            "needs_background": "light"
          }
        }
      ]
    },
    {
      "cell_type": "code",
      "source": [
        "ppn = Perceptron(eta=0.0000510921646, n_iter=40, random_state=1)\n",
        "\n",
        "ppn.fit(X, y)\n",
        "\n",
        "plt.plot(range(1, len(ppn.errors_) + 1), ppn.errors_, marker='o')\n",
        "plt.xlabel('Epochs')\n",
        "plt.ylabel('Number of updates')\n",
        "\n",
        "\n",
        "plt.show()"
      ],
      "metadata": {
        "colab": {
          "base_uri": "https://localhost:8080/",
          "height": 331
        },
        "id": "_hKaZPipirq2",
        "outputId": "39149d10-b19c-4c63-d3b9-9c85e6df300d"
      },
      "execution_count": 21,
      "outputs": [
        {
          "output_type": "stream",
          "name": "stdout",
          "text": [
            "Model Converged\n",
            "Iterations needed are  22\n",
            "[ 0.01491506 -0.00521834  0.00479366]\n"
          ]
        },
        {
          "output_type": "display_data",
          "data": {
            "text/plain": [
              "<Figure size 432x288 with 1 Axes>"
            ],
            "image/png": "[encoded data removed]"
          },
          "metadata": {
            "needs_background": "light"
          }
        }
      ]
    },
    {
      "cell_type": "code",
      "source": [
        "ppn = Perceptron(eta=0.00005109216461, n_iter=40, random_state=1)\n",
        "\n",
        "ppn.fit(X, y)\n",
        "\n",
        "plt.plot(range(1, len(ppn.errors_) + 1), ppn.errors_, marker='o')\n",
        "plt.xlabel('Epochs')\n",
        "plt.ylabel('Number of updates')\n",
        "\n",
        "\n",
        "plt.show()"
      ],
      "metadata": {
        "colab": {
          "base_uri": "https://localhost:8080/",
          "height": 331
        },
        "id": "qP-sIrsdisOS",
        "outputId": "e69c4823-4bcc-4001-8754-c3bf2b052f9b"
      },
      "execution_count": 22,
      "outputs": [
        {
          "output_type": "stream",
          "name": "stdout",
          "text": [
            "Model Converged\n",
            "Iterations needed are  22\n",
            "[ 0.01491506 -0.00521834  0.00479366]\n"
          ]
        },
        {
          "output_type": "display_data",
          "data": {
            "text/plain": [
              "<Figure size 432x288 with 1 Axes>"
            ],
            "image/png": "[encoded data removed]"
          },
          "metadata": {
            "needs_background": "light"
          }
        }
      ]
    },
    {
      "cell_type": "code",
      "source": [
        "ppn = Perceptron(eta=0.000051092164618, n_iter=40, random_state=1)\n",
        "\n",
        "ppn.fit(X, y)\n",
        "\n",
        "plt.plot(range(1, len(ppn.errors_) + 1), ppn.errors_, marker='o')\n",
        "plt.xlabel('Epochs')\n",
        "plt.ylabel('Number of updates')\n",
        "\n",
        "\n",
        "plt.show()"
      ],
      "metadata": {
        "colab": {
          "base_uri": "https://localhost:8080/",
          "height": 331
        },
        "id": "8w4hwqWQism3",
        "outputId": "3328e1c5-f7e1-4cd1-bc15-a3d6a61f2253"
      },
      "execution_count": 23,
      "outputs": [
        {
          "output_type": "stream",
          "name": "stdout",
          "text": [
            "Model Converged\n",
            "Iterations needed are  22\n",
            "[ 0.01491506 -0.00521834  0.00479366]\n"
          ]
        },
        {
          "output_type": "display_data",
          "data": {
            "text/plain": [
              "<Figure size 432x288 with 1 Axes>"
            ],
            "image/png": "[encoded data removed]"
          },
          "metadata": {
            "needs_background": "light"
          }
        }
      ]
    },
    {
      "cell_type": "code",
      "source": [
        "ppn = Perceptron(eta=0.000051092164619, n_iter=40, random_state=1)\n",
        "\n",
        "ppn.fit(X, y)\n",
        "\n",
        "plt.plot(range(1, len(ppn.errors_) + 1), ppn.errors_, marker='o')\n",
        "plt.xlabel('Epochs')\n",
        "plt.ylabel('Number of updates')\n",
        "\n",
        "\n",
        "plt.show()"
      ],
      "metadata": {
        "colab": {
          "base_uri": "https://localhost:8080/",
          "height": 331
        },
        "id": "GlkIQnd0itBm",
        "outputId": "e8008075-cf89-4ce1-e01b-d3746e222d5a"
      },
      "execution_count": 24,
      "outputs": [
        {
          "output_type": "stream",
          "name": "stdout",
          "text": [
            "Model Converged\n",
            "Iterations needed are  19\n",
            "[ 0.01511943 -0.00493223  0.00417033]\n"
          ]
        },
        {
          "output_type": "display_data",
          "data": {
            "text/plain": [
              "<Figure size 432x288 with 1 Axes>"
            ],
            "image/png": "[encoded data removed]"
          },
          "metadata": {
            "needs_background": "light"
          }
        }
      ]
    },
    {
      "cell_type": "markdown",
      "source": [
        "As the learning rate ($\\eta$) increases the number of iterations needed for the model to converge tend to decrease. Therefore, for a higher number of iterations the learning rate ($\\eta$) should be low.\n",
        "\n",
        "*   For $\\eta$ = 0.00005 the model needs 21 iterations to converge.\n",
        "*   For $\\eta$ = 0.00006 the model needs 19 iterations to converge.\n",
        "*   For $\\eta$ = 0.000051 the model needs 21 iterations to converge.\n",
        "*   For $\\eta$ = 0.0000510 the model needs 21 iterations to converge.\n",
        "*   For $\\eta$ = 0.00005109 the model needs 22 iterations to converge.\n",
        "*   For $\\eta$ = 0.000051092 the model needs 22 iterations to converge.\n",
        "*   For $\\eta$ = 0.0000510921 the model needs 22 iterations to converge.\n",
        "*   For $\\eta$ = 0.00005109216 the model needs 22 iterations to converge.\n",
        "*   For $\\eta$ = 0.000051092164 the model needs 22 iterations to converge.\n",
        "*   For $\\eta$ = 0.0000510921646 the model needs 22 iterations to converge.\n",
        "*   For $\\eta$ = 0.00005109216461 the model needs 22 iterations to converge.\n",
        "*   For $\\eta$ = 0.000051092164618 the model needs 22 iterations to converge.\n",
        "*   For $\\eta$ = 0.000051092164619 the model needs 19 iterations to converge.\n",
        "\n",
        "I can conclude that the learning rate $\\eta$ = 0.000051092164618 is largest value of  η  for which the process takes more than 20 iterations to converge with 15 decimals."
      ],
      "metadata": {
        "id": "PZE6Sn2v6XDz"
      }
    },
    {
      "cell_type": "code",
      "source": [
        "### (ii) Are you able to find  η>1  for which the process fails to converge in less than 30 iterations?\n",
        "\n",
        "ppn = Perceptron(eta=1, n_iter=20, random_state=1)\n",
        "\n",
        "ppn.fit(X, y)\n",
        "\n",
        "plt.plot(range(1, len(ppn.errors_) + 1), ppn.errors_, marker='o')\n",
        "plt.xlabel('Epochs')\n",
        "plt.ylabel('Number of updates')\n",
        "\n",
        "\n",
        "plt.show()"
      ],
      "metadata": {
        "colab": {
          "base_uri": "https://localhost:8080/",
          "height": 331
        },
        "id": "kBhokFoXxLFt",
        "outputId": "7dadf892-5d56-493d-ba9b-5be587c3f20d"
      },
      "execution_count": 27,
      "outputs": [
        {
          "output_type": "stream",
          "name": "stdout",
          "text": [
            "Model Converged\n",
            "Iterations needed are  6\n",
            "[-3.98375655 -7.00611756 18.39471828]\n"
          ]
        },
        {
          "output_type": "display_data",
          "data": {
            "text/plain": [
              "<Figure size 432x288 with 1 Axes>"
            ],
            "image/png": "[encoded data removed]"
          },
          "metadata": {
            "needs_background": "light"
          }
        }
      ]
    },
    {
      "cell_type": "code",
      "source": [
        "ppn = Perceptron(eta=10, n_iter=20, random_state=1)\n",
        "\n",
        "ppn.fit(X, y)\n",
        "\n",
        "plt.plot(range(1, len(ppn.errors_) + 1), ppn.errors_, marker='o')\n",
        "plt.xlabel('Epochs')\n",
        "plt.ylabel('Number of updates')\n",
        "\n",
        "\n",
        "plt.show()"
      ],
      "metadata": {
        "colab": {
          "base_uri": "https://localhost:8080/",
          "height": 331
        },
        "id": "vxt-K4gbm_2d",
        "outputId": "40f2ecb3-6e8c-462e-f3fa-87f175cffd55"
      },
      "execution_count": 28,
      "outputs": [
        {
          "output_type": "stream",
          "name": "stdout",
          "text": [
            "Model Converged\n",
            "Iterations needed are  6\n",
            "[-39.98375655 -70.00611756 183.99471828]\n"
          ]
        },
        {
          "output_type": "display_data",
          "data": {
            "text/plain": [
              "<Figure size 432x288 with 1 Axes>"
            ],
            "image/png": "[encoded data removed]"
          },
          "metadata": {
            "needs_background": "light"
          }
        }
      ]
    },
    {
      "cell_type": "code",
      "source": [
        "ppn = Perceptron(eta=100, n_iter=20, random_state=1)\n",
        "\n",
        "ppn.fit(X, y)\n",
        "\n",
        "plt.plot(range(1, len(ppn.errors_) + 1), ppn.errors_, marker='o')\n",
        "plt.xlabel('Epochs')\n",
        "plt.ylabel('Number of updates')\n",
        "\n",
        "\n",
        "plt.show()"
      ],
      "metadata": {
        "colab": {
          "base_uri": "https://localhost:8080/",
          "height": 331
        },
        "id": "hHJS2WPunAy5",
        "outputId": "bc85b191-53f2-4651-87f9-828b6d61fa1d"
      },
      "execution_count": 29,
      "outputs": [
        {
          "output_type": "stream",
          "name": "stdout",
          "text": [
            "Model Converged\n",
            "Iterations needed are  6\n",
            "[-399.98375655 -700.00611756 1839.99471828]\n"
          ]
        },
        {
          "output_type": "display_data",
          "data": {
            "text/plain": [
              "<Figure size 432x288 with 1 Axes>"
            ],
            "image/png": "[encoded data removed]"
          },
          "metadata": {
            "needs_background": "light"
          }
        }
      ]
    },
    {
      "cell_type": "markdown",
      "source": [
        "<br> (ii) The process converges in 6 iterations for a $\\eta$ = 1. Therefore, any value of $\\eta$ > 1 the iterations needed are 6 or less. For that reason, there's no value of $\\eta$ > 1 for which the process fails to converge in less than 30 iterations."
      ],
      "metadata": {
        "id": "_qdpuKaOmsWE"
      }
    },
    {
      "cell_type": "code",
      "source": [
        "### (iii) Find two different settings for the random state, that give different convergence patterns, for the same  η .\n",
        "\n",
        "ppn = Perceptron(eta=0.0001, n_iter=20, random_state=1)\n",
        "\n",
        "ppn.fit(X, y)\n",
        "\n",
        "plt.plot(range(1, len(ppn.errors_) + 1), ppn.errors_, marker='o')\n",
        "plt.xlabel('Epochs')\n",
        "plt.ylabel('Number of updates')\n",
        "\n",
        "\n",
        "plt.show()"
      ],
      "metadata": {
        "colab": {
          "base_uri": "https://localhost:8080/",
          "height": 331
        },
        "id": "MEL7lHks3pFt",
        "outputId": "129063d0-bd66-4721-8d81-1a36c3f09bfc"
      },
      "execution_count": 51,
      "outputs": [
        {
          "output_type": "stream",
          "name": "stdout",
          "text": [
            "Model Converged\n",
            "Iterations needed are  16\n",
            "[ 0.01484345 -0.00547756  0.00567828]\n"
          ]
        },
        {
          "output_type": "display_data",
          "data": {
            "text/plain": [
              "<Figure size 432x288 with 1 Axes>"
            ],
            "image/png": "[encoded data removed]"
          },
          "metadata": {
            "needs_background": "light"
          }
        }
      ]
    },
    {
      "cell_type": "code",
      "source": [
        "ppn = Perceptron(eta=0.0001, n_iter=20, random_state=20)\n",
        "\n",
        "ppn.fit(X, y)\n",
        "\n",
        "plt.plot(range(1, len(ppn.errors_) + 1), ppn.errors_, marker='o')\n",
        "plt.xlabel('Epochs')\n",
        "plt.ylabel('Number of updates')\n",
        "\n",
        "\n",
        "plt.show()"
      ],
      "metadata": {
        "colab": {
          "base_uri": "https://localhost:8080/",
          "height": 331
        },
        "id": "2KADJLqdnHLk",
        "outputId": "d66488a0-ef00-4023-8448-f7340f9d75ba"
      },
      "execution_count": 49,
      "outputs": [
        {
          "output_type": "stream",
          "name": "stdout",
          "text": [
            "Model Converged\n",
            "Iterations needed are  4\n",
            "[ 0.00763893 -0.00306135  0.00319537]\n"
          ]
        },
        {
          "output_type": "display_data",
          "data": {
            "text/plain": [
              "<Figure size 432x288 with 1 Axes>"
            ],
            "image/png": "[encoded data removed]"
          },
          "metadata": {
            "needs_background": "light"
          }
        }
      ]
    },
    {
      "cell_type": "code",
      "source": [
        "# Grader's area\n",
        "\n",
        "maxScore = maxScore +4\n",
        "# M[2,1] = \n",
        "# M[2,2] = \n",
        "# M[2,3] = "
      ],
      "metadata": {
        "id": "nK1mGz3wFJXh"
      },
      "execution_count": null,
      "outputs": []
    },
    {
      "cell_type": "markdown",
      "source": [
        "-----------------------\n",
        "-----------------------\n",
        "-----------------------\n"
      ],
      "metadata": {
        "id": "-PoSjSM3nvv4"
      }
    },
    {
      "cell_type": "markdown",
      "metadata": {
        "id": "gmq48m4Is5BM"
      },
      "source": [
        "## <font color='#008DFF'> **Question 3: Visualizing multiple decision regions over time** "
      ]
    },
    {
      "cell_type": "markdown",
      "metadata": {
        "id": "2-japBw1s5BM"
      },
      "source": [
        "Here is the function for visualizing decision regions"
      ]
    },
    {
      "cell_type": "code",
      "metadata": {
        "id": "xYEgTzp0s5BN"
      },
      "source": [
        "from matplotlib.colors import ListedColormap\n",
        "\n",
        "\n",
        "def plot_decision_regions(X, y, classifier, resolution=0.02):\n",
        "\n",
        "    # setup marker generator and color map\n",
        "    markers = ('s', 'x', 'o', '^', 'v')\n",
        "    colors = ('red', 'blue', 'lightgreen', 'gray', 'cyan')\n",
        "    cmap = ListedColormap(colors[:len(np.unique(y))])\n",
        "\n",
        "    # plot the decision surface\n",
        "    x1_min, x1_max = X[:, 0].min() - 1, X[:, 0].max() + 1\n",
        "    x2_min, x2_max = X[:, 1].min() - 1, X[:, 1].max() + 1\n",
        "    xx1, xx2 = np.meshgrid(np.arange(x1_min, x1_max, resolution),\n",
        "                           np.arange(x2_min, x2_max, resolution))\n",
        "    Z = classifier.predict(np.array([xx1.ravel(), xx2.ravel()]).T)\n",
        "    Z = Z.reshape(xx1.shape)\n",
        "    plt.contourf(xx1, xx2, Z, alpha=0.3, cmap=cmap)\n",
        "    plt.xlim(xx1.min(), xx1.max())\n",
        "    plt.ylim(xx2.min(), xx2.max())\n",
        "\n",
        "    # plot class examples\n",
        "    for idx, cl in enumerate(np.unique(y)):\n",
        "        plt.scatter(x=X[y == cl, 0], \n",
        "                    y=X[y == cl, 1],\n",
        "                    alpha=0.8, \n",
        "                    c=colors[idx],\n",
        "                    marker=markers[idx], \n",
        "                    label=cl, \n",
        "                    edgecolor='black')"
      ],
      "execution_count": 36,
      "outputs": []
    },
    {
      "cell_type": "code",
      "metadata": {
        "id": "BuQZjt4Ls5BP",
        "outputId": "59d91c0d-2f97-40cc-e306-604bdb92c78d",
        "colab": {
          "base_uri": "https://localhost:8080/",
          "height": 280
        }
      },
      "source": [
        "plot_decision_regions(X, y, classifier=ppn)\n",
        "plt.xlabel('sepal length [cm]')\n",
        "plt.ylabel('petal length [cm]')\n",
        "plt.legend(loc='upper left')\n",
        "\n",
        "\n",
        "# plt.savefig('images/02_08.png', dpi=300)\n",
        "plt.show()"
      ],
      "execution_count": 37,
      "outputs": [
        {
          "output_type": "display_data",
          "data": {
            "text/plain": [
              "<Figure size 432x288 with 1 Axes>"
            ],
            "image/png": "[encoded data removed]"
          },
          "metadata": {
            "needs_background": "light"
          }
        }
      ]
    },
    {
      "cell_type": "markdown",
      "metadata": {
        "id": "1flxKzOJs5BR"
      },
      "source": [
        "Using the above, give code that plots the decision regions for the first 5 epochs. Use learning rate = 0.01 and random seed = 1 when applicable."
      ]
    },
    {
      "cell_type": "code",
      "metadata": {
        "id": "ELrAxgSMs5BR",
        "colab": {
          "base_uri": "https://localhost:8080/",
          "height": 332
        },
        "outputId": "e034cf9d-2a9f-49f8-ca6e-20281ae88552"
      },
      "source": [
        "ppn = Perceptron(eta=0.01 ,n_iter=5, random_state=1)\n",
        "\n",
        "ppn.fit(X, y)\n",
        "\n",
        "plot_decision_regions(X, y, classifier=ppn)\n",
        "plt.xlabel('sepal length [cm]')\n",
        "plt.ylabel('petal length [cm]')\n",
        "plt.legend(loc='upper left')"
      ],
      "execution_count": 39,
      "outputs": [
        {
          "output_type": "stream",
          "name": "stdout",
          "text": [
            "Iterations needed are  4\n",
            "[-0.02375655 -0.07011756  0.17671828]\n"
          ]
        },
        {
          "output_type": "execute_result",
          "data": {
            "text/plain": [
              "<matplotlib.legend.Legend at 0x7f192d193430>"
            ]
          },
          "metadata": {},
          "execution_count": 39
        },
        {
          "output_type": "display_data",
          "data": {
            "text/plain": [
              "<Figure size 432x288 with 1 Axes>"
            ],
            "image/png": "[encoded data removed]"
          },
          "metadata": {
            "needs_background": "light"
          }
        }
      ]
    },
    {
      "cell_type": "code",
      "source": [
        "# Grader's area\n",
        "\n",
        "maxScore = maxScore +4\n",
        "# M[3,1] = \n"
      ],
      "metadata": {
        "id": "XdYK3Wq-FdLx"
      },
      "execution_count": null,
      "outputs": []
    },
    {
      "cell_type": "markdown",
      "source": [
        "-----------------------\n",
        "-----------------------\n",
        "-----------------------\n"
      ],
      "metadata": {
        "id": "25qE27hgnxUe"
      }
    },
    {
      "cell_type": "markdown",
      "metadata": {
        "id": "K9NMguEVs5BU"
      },
      "source": [
        "## <font color='#008DFF'> **Question 4: Changing the data order in training**\n",
        "\n"
      ]
    },
    {
      "cell_type": "markdown",
      "metadata": {
        "id": "YaspqG0Vs5BU"
      },
      "source": [
        "The data arrays (X, y) currently in the memory are organized so that all data points with a given label (e.g. 'Setosa') lie in a contiguous part of the arrays (X, y). In this question we will check the impact of changing the order of the data on the number of iterations required to learn a correct perceptron. \n",
        "\n",
        "\n",
        "The commented code below needs a small change in order to generate a random shuffle (permutation) of the data. Please look up the particular functions of the code, see how they work and then do the required modification and uncomment / evaluate the code. "
      ]
    },
    {
      "cell_type": "code",
      "metadata": {
        "id": "p7vn0JpBs5BV"
      },
      "source": [
        "# Etablish a random shuffle\n",
        "s = np.arange(len(X))\n",
        "np.random.shuffle(s)\n",
        "\n",
        "# Shuffle sample\n",
        "X_shuffle = X[s];\n",
        "Y_shuffle = y[s];"
      ],
      "execution_count": 45,
      "outputs": []
    },
    {
      "cell_type": "markdown",
      "metadata": {
        "id": "iMRQkM_1s5BZ"
      },
      "source": [
        "Modify the code below as follows: <br>\n",
        "(i) Pick a sufficiently small $\\eta$ so that convergences takes 20 iterations or more. <br>\n",
        "(ii) Add an extra line that fits the perceptron on the shuffled data. <br>\n",
        "(iii) Plot the error for both training processes (the original data and the shuffled data). \n",
        "\n",
        "What do you observe?"
      ]
    },
    {
      "cell_type": "code",
      "metadata": {
        "id": "uL1T1_7As5BZ",
        "colab": {
          "base_uri": "https://localhost:8080/",
          "height": 383
        },
        "outputId": "94345994-be99-425d-af06-9ac7cd147448"
      },
      "source": [
        "### (i) Pick a sufficiently small  η  so that convergences takes 20 iterations or more.\n",
        "ppn4 = Perceptron(eta=0.00001 ,n_iter=25, random_state=1)\n",
        "\n",
        "ppn4.fit(X, y)\n",
        "\n",
        "plt.plot(range(1, len(ppn4.errors_) + 1), ppn4.errors_, marker='o')\n",
        "plt.xlabel('Epochs')\n",
        "plt.ylabel('Number of updates')\n",
        "\n",
        "\n",
        "plt.show()\n",
        "\n",
        "### (ii) Add an extra line that fits the perceptron on the shuffled data.\n",
        "ppn4.fit(X_shuffle, Y_shuffle)"
      ],
      "execution_count": 52,
      "outputs": [
        {
          "output_type": "stream",
          "name": "stdout",
          "text": [
            "Iterations needed are  24\n",
            "[ 0.01550345 -0.00439556  0.00317028]\n"
          ]
        },
        {
          "output_type": "display_data",
          "data": {
            "text/plain": [
              "<Figure size 432x288 with 1 Axes>"
            ],
            "image/png": "[encoded data removed]"
          },
          "metadata": {
            "needs_background": "light"
          }
        },
        {
          "output_type": "stream",
          "name": "stdout",
          "text": [
            "Model Converged\n",
            "Iterations needed are  21\n",
            "[ 0.01548345 -0.00474356  0.00377428]\n"
          ]
        },
        {
          "output_type": "execute_result",
          "data": {
            "text/plain": [
              "<__main__.Perceptron at 0x7f192d0c59d0>"
            ]
          },
          "metadata": {},
          "execution_count": 52
        }
      ]
    },
    {
      "cell_type": "code",
      "source": [
        "### (iii) Plot the error for both training processes (the original data and the shuffled data).\n",
        "plt.plot(range(1, len(ppn4.errors_) + 1), ppn4.errors_, marker='o')\n",
        "plt.xlabel('Epochs')\n",
        "plt.ylabel('Number of updates')\n",
        "plt.show()\n",
        "\n",
        "### (iii) Un-shuffled dataset\n",
        "ppn = Perceptron(eta=0.00001 ,n_iter=25, random_state=1)\n",
        "ppn.fit(X, y)\n",
        "plt.plot(range(1, len(ppn.errors_) + 1), ppn.errors_, marker='o')\n",
        "plt.xlabel('Epochs')\n",
        "plt.ylabel('Number of updates')\n",
        "plt.show()"
      ],
      "metadata": {
        "colab": {
          "base_uri": "https://localhost:8080/",
          "height": 576
        },
        "id": "u5CUFfBlg7uD",
        "outputId": "5c6f80e4-550d-477e-8194-ca3f151f3c44"
      },
      "execution_count": 54,
      "outputs": [
        {
          "output_type": "display_data",
          "data": {
            "text/plain": [
              "<Figure size 432x288 with 1 Axes>"
            ],
            "image/png": "[encoded data removed]"
          },
          "metadata": {
            "needs_background": "light"
          }
        },
        {
          "output_type": "stream",
          "name": "stdout",
          "text": [
            "Iterations needed are  24\n",
            "[ 0.01550345 -0.00439556  0.00317028]\n"
          ]
        },
        {
          "output_type": "display_data",
          "data": {
            "text/plain": [
              "<Figure size 432x288 with 1 Axes>"
            ],
            "image/png": "[encoded data removed]"
          },
          "metadata": {
            "needs_background": "light"
          }
        }
      ]
    },
    {
      "cell_type": "markdown",
      "metadata": {
        "id": "XA3HAeKJs5Bc"
      },
      "source": [
        "Give your answers here.\n",
        "\n",
        "<br> The number of updates are high with the shuffled data. The number of updates are widely spread with the shuffled data."
      ]
    },
    {
      "cell_type": "code",
      "source": [
        "# Grader's area\n",
        "\n",
        "maxScore = maxScore +4\n",
        "# M[4,1] = \n",
        "# M[4,2] = \n",
        "# M[4,3] = "
      ],
      "metadata": {
        "id": "0RXr9FkQFikr"
      },
      "execution_count": null,
      "outputs": []
    },
    {
      "cell_type": "markdown",
      "source": [
        "-----------------------\n",
        "-----------------------\n",
        "-----------------------\n"
      ],
      "metadata": {
        "id": "Tq_fo7MQnysW"
      }
    },
    {
      "cell_type": "markdown",
      "metadata": {
        "id": "2AYf1oGGs5Bi"
      },
      "source": [
        "## <font color='#008DFF'> **Question 5: Understanding linear transformations**\n",
        "\n",
        "Suppose we have a 2-dimensional data set. Then we transform each data point $X_j = (X_{j,1}, X_{j,2})$ as follows: $\\tilde{X_j} = ( a X_{j,1} - c, b X_{j,2}-c)$, where $a$, $b$, $c$ are constant values. This is a linear transformation, because our transformed data comes from simple operations that use 'first powers' of the original data. \n",
        "\n",
        "\n",
        "If our given data set is linearly separable, is the same true for the transformed one? In the following cells you can plot a transformed version of the Iris dataset, so that you see how it behaves (for your choice of $a$, $b$, $c$.) But you should also try and justify your answer in a theoretical way: if there exists a  'good' perceptron for the original data set, what would be the weights for the perceptron that works on the transformed set?"
      ]
    },
    {
      "cell_type": "code",
      "source": [
        "### Transformed dataset.\n",
        "\n",
        "first, second = zip(*X)\n",
        "first = np.asarray(first) \n",
        "X1_T = 10*first-1\n",
        "second = np.asarray(second) \n",
        "X2_T = 30*second-1\n",
        "X_T = np.column_stack((X1_T,X2_T))\n",
        "ppn = Perceptron(eta=0.0001 ,n_iter=20, random_state=1)\n",
        "\n",
        "ppn.fit(X_T, y)\n",
        "\n",
        "plot_decision_regions(X_T, y, classifier=ppn)\n",
        "plt.xlabel('sepal length [cm]')\n",
        "plt.ylabel('petal length [cm]')\n",
        "plt.legend(loc='upper left')"
      ],
      "metadata": {
        "colab": {
          "base_uri": "https://localhost:8080/",
          "height": 348
        },
        "id": "TZ1avxQmjXZb",
        "outputId": "4255dfba-84ac-4f32-a143-613ddd8b8dfa"
      },
      "execution_count": 61,
      "outputs": [
        {
          "output_type": "stream",
          "name": "stdout",
          "text": [
            "Model Converged\n",
            "Iterations needed are  5\n",
            "[ 0.01564345 -0.02731756  0.01931828]\n"
          ]
        },
        {
          "output_type": "execute_result",
          "data": {
            "text/plain": [
              "<matplotlib.legend.Legend at 0x7f192980b7f0>"
            ]
          },
          "metadata": {},
          "execution_count": 61
        },
        {
          "output_type": "display_data",
          "data": {
            "text/plain": [
              "<Figure size 432x288 with 1 Axes>"
            ],
            "image/png": "[encoded data removed]"
          },
          "metadata": {
            "needs_background": "light"
          }
        }
      ]
    },
    {
      "cell_type": "code",
      "source": [
        "### Original dataset.\n",
        "\n",
        "ppn = Perceptron(eta=0.0001 ,n_iter=20, random_state=1)\n",
        "\n",
        "ppn.fit(X, y)\n",
        "\n",
        "plot_decision_regions(X, y, classifier=ppn)\n",
        "plt.xlabel('sepal length [cm]')\n",
        "plt.ylabel('petal length [cm]')\n",
        "plt.legend(loc='upper left')"
      ],
      "metadata": {
        "colab": {
          "base_uri": "https://localhost:8080/",
          "height": 349
        },
        "id": "4-qeTt-AqzzM",
        "outputId": "fdba165e-4c2e-40d6-ca38-5c4ecef2a538"
      },
      "execution_count": 59,
      "outputs": [
        {
          "output_type": "stream",
          "name": "stdout",
          "text": [
            "Model Converged\n",
            "Iterations needed are  16\n",
            "[ 0.01484345 -0.00547756  0.00567828]\n"
          ]
        },
        {
          "output_type": "execute_result",
          "data": {
            "text/plain": [
              "<matplotlib.legend.Legend at 0x7f192d020f40>"
            ]
          },
          "metadata": {},
          "execution_count": 59
        },
        {
          "output_type": "display_data",
          "data": {
            "text/plain": [
              "<Figure size 432x288 with 1 Axes>"
            ],
            "image/png": "[encoded data removed]"
          },
          "metadata": {
            "needs_background": "light"
          }
        }
      ]
    },
    {
      "cell_type": "markdown",
      "source": [
        "Both the original and transformed graphs show two clusters linearly separable.\n",
        "For the transformed dataset, the number of iterations and final weights are slightly different but it didn't compromise the linear separability.\n",
        "A linear transformation may move the dataset slopewise and vertically/horizontally, therefore, in most of the cases linear separability will be maintained."
      ],
      "metadata": {
        "id": "3SEPufkWjapG"
      }
    },
    {
      "cell_type": "code",
      "source": [
        "# Grader's area\n",
        "\n",
        "maxScore = maxScore +4\n",
        "# M[5,1] = \n"
      ],
      "metadata": {
        "id": "NVpxHL7PH0K5"
      },
      "execution_count": null,
      "outputs": []
    },
    {
      "cell_type": "markdown",
      "source": [
        "-----------------------\n",
        "-----------------------\n",
        "-----------------------\n"
      ],
      "metadata": {
        "id": "rPupiZJMnz7N"
      }
    },
    {
      "cell_type": "markdown",
      "source": [
        "## <font color='#008DFF'> **Question 6: Linear regression with numpy 1-liners**"
      ],
      "metadata": {
        "id": "vsYrJLtXLXXl"
      }
    },
    {
      "cell_type": "code",
      "source": [
        "# Here we initialize a random data matrix X and random numerical labels y \n",
        "import numpy as np\n",
        "\n",
        "X = np.random.randn(10,3)\n",
        "y = np.random.randn(10,1)\n",
        "\n",
        "# We also initialize a hypothetical hyperplane defined by w and b\n",
        "w = np.random.randn(1,3)\n",
        "b = -1\n"
      ],
      "metadata": {
        "id": "ZF6ZpxTdLdN0"
      },
      "execution_count": 65,
      "outputs": []
    },
    {
      "cell_type": "code",
      "source": [
        "# (i) Find the numerical labels predicted by the model (w,b) for the points in X\n",
        "#     your code should be a single numpy line\n",
        "#     hint: we wrote this equation for a single point x in class \n",
        "#           try to generalize it by expressing everying in terms of matrices\n",
        "\n",
        "# your code goes here\n",
        "\n",
        "y_predicted = X.dot(w.transpose()) + b\n",
        "print(y_predicted)"
      ],
      "metadata": {
        "id": "OFJ8HyPwMF_1",
        "colab": {
          "base_uri": "https://localhost:8080/"
        },
        "outputId": "9e7807f3-880a-4aaa-bbf6-2fedf20f9eb4"
      },
      "execution_count": 66,
      "outputs": [
        {
          "output_type": "stream",
          "name": "stdout",
          "text": [
            "[[-2.21252035]\n",
            " [-0.91127666]\n",
            " [-3.09858686]\n",
            " [ 3.23602015]\n",
            " [-1.14120106]\n",
            " [ 0.85571302]\n",
            " [-2.57399872]\n",
            " [-0.05682187]\n",
            " [-0.90947362]\n",
            " [-0.92836513]]\n"
          ]
        }
      ]
    },
    {
      "cell_type": "code",
      "source": [
        "# (ii) Find the updated weights after one application of gradient descent with lr = 0.1\n",
        "#      your code should be a single numpy line\n",
        "\n",
        "y_ = np.random.randn(10,1)\n",
        "\n",
        "w =(1/len(y))*0.1*(X.T.dot((y_predicted-y)))\n",
        "w_ = w - 0.1*(y_ - y).T@X\n",
        "\n",
        "print(w_)"
      ],
      "metadata": {
        "id": "YwVDmS_mM-iU",
        "colab": {
          "base_uri": "https://localhost:8080/"
        },
        "outputId": "56d965c2-a1d7-4ef3-929d-3cfaa9dbe23c"
      },
      "execution_count": 67,
      "outputs": [
        {
          "output_type": "stream",
          "name": "stdout",
          "text": [
            "[[-1.721875    0.45885585 -0.50848644]\n",
            " [-1.53295472  0.64777613 -0.31956616]\n",
            " [-1.63359352  0.54713733 -0.42020496]]\n"
          ]
        }
      ]
    },
    {
      "cell_type": "code",
      "source": [
        "# Grader's area\n",
        "\n",
        "maxScore = maxScore +8\n",
        "# M[6,1] = \n",
        "# M[6,2] = \n"
      ],
      "metadata": {
        "id": "mJJp2OGPnKpX"
      },
      "execution_count": null,
      "outputs": []
    },
    {
      "cell_type": "markdown",
      "source": [
        "-----------------------\n",
        "-----------------------\n",
        "-----------------------\n"
      ],
      "metadata": {
        "id": "66XBKQj-n_hZ"
      }
    },
    {
      "cell_type": "code",
      "source": [
        "#Grader's area\n",
        "\n",
        "rawScore = np.sum(M)\n",
        "score = rawScore*100/maxScore"
      ],
      "metadata": {
        "id": "IVkneTzYCAxs"
      },
      "execution_count": null,
      "outputs": []
    }
  ]
}